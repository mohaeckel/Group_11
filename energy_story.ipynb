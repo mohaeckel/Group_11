{
 "cells": [
  {
   "cell_type": "markdown",
   "id": "b5b71ea5",
   "metadata": {},
   "source": [
    "# Advanced Programming for Data Science\n",
    "*Code proposition done by:*\n",
    "```\n",
    "Farouq El-Abbass\n",
    "Moritz Häckel\n",
    "Dominik Trut\n",
    "Moritz Güttersberger\n",
    "```"
   ]
  },
  {
   "cell_type": "markdown",
   "id": "2b94e424",
   "metadata": {},
   "source": [
    "Our project consisted of creating a module for studying the energy production and consumption per country, and as well the produced CO2 for each energy source."
   ]
  },
  {
   "cell_type": "markdown",
   "id": "824de8a9",
   "metadata": {},
   "source": [
    "We are going to start by *importing* the libraries we have used"
   ]
  },
  {
   "cell_type": "code",
   "execution_count": 4,
   "id": "8558b8c5-a7a6-4e55-b1fb-46a5a98f3114",
   "metadata": {},
   "outputs": [],
   "source": [
    "import requests\n",
    "import pandas as pd\n",
    "import os\n",
    "import plotly_express as px\n",
    "import matplotlib.pyplot as plt\n",
    "from matplotlib import style\n",
    "import numpy as np\n",
    "import statsmodels.api as sm\n",
    "from pmdarima import auto_arima\n",
    "style.use(\"ggplot\")"
   ]
  },
  {
   "cell_type": "markdown",
   "id": "27607133",
   "metadata": {},
   "source": [
    "### Our proposition for the class is as follows:"
   ]
  },
  {
   "cell_type": "code",
   "execution_count": 3,
   "id": "4cb1e820-54b9-4640-8cf9-a3e414cceabe",
   "metadata": {},
   "outputs": [],
   "source": [
    "class Energy():\n",
    "\n",
    "    def __init__(self, data=None):\n",
    "        \"\"\"\n",
    "        Constructs all the necessary attributes for the person object.\n",
    "\n",
    "        Parameters\n",
    "        -----------\n",
    "        data : panda dataframe\n",
    "            Data for the Energy but will be affected later\n",
    "\n",
    "        Returns\n",
    "        --------\n",
    "        Nothing, it's just a contructor\n",
    "        \"\"\"\n",
    "        self.data = data\n",
    "\n",
    "    def read_data(self, drop_continents: bool = False,\n",
    "                  url=\"https://github.com/owid/energy-data/raw/\" +\n",
    "                  \"master/owid-energy-data.csv\"):\n",
    "        \"\"\"\n",
    "        Downloads the owid data in the ´/downloads´ folder, cleans it,\n",
    "        and reads data as well\n",
    "\n",
    "        Parameters\n",
    "        -----------\n",
    "        url: string\n",
    "            Link of the data from internet\n",
    "        drop_continents: bool\n",
    "            Drops continents and aggregated countries from dataset\n",
    "\n",
    "        Returns\n",
    "        --------\n",
    "        df: pandas dataframe\n",
    "            Dataframe of the data including consumption and emissions,\n",
    "            cleaned dataset from NAN, with an index of timestamp\n",
    "        \"\"\"\n",
    "        path = os.getcwd()\n",
    "        if os.path.exists(os.getcwd()+'/downloads') is False:\n",
    "            os.mkdir(path+\"/downloads\")\n",
    "        else:\n",
    "            pass\n",
    "\n",
    "        if os.path.isfile(\"./downloads/data.csv\") is True:\n",
    "            pass\n",
    "        else:\n",
    "            req = requests.get(url)\n",
    "            url_content = req.content\n",
    "            csv_file = open('./downloads/data.csv', 'wb')\n",
    "            csv_file.write(url_content)\n",
    "            csv_file.close()\n",
    "\n",
    "        self.data = pd.read_csv(\"./downloads/data.csv\")\n",
    "        self.data = self.data[self.data[\"year\"] >= 1970]\n",
    "        if drop_continents is True:\n",
    "            self.data = self.data.dropna(\n",
    "                subset=['iso_code'])\n",
    "            self.data = self.data.set_index(\"country\").drop(\"World\")\n",
    "            self.data = self.data.reset_index()\n",
    "\n",
    "        else:\n",
    "            pass\n",
    "\n",
    "        self.data[\"timestamp\"] = pd.DatetimeIndex(pd.to_datetime(\n",
    "            self.data[\"year\"], format=\"%Y\")).year\n",
    "        self.data = self.data.set_index(\"timestamp\")\n",
    "\n",
    "        # enrich data with 'emissions'\n",
    "        self.data[\"biofuel_emission\"] = self.data[\"biofuel_electricity\"] * \\\n",
    "            1450*(10**3)\n",
    "        self.data[\"coal_emission\"] = self.data[\"coal_electricity\"]*1000*(10**3)\n",
    "        self.data[\"gas_emission\"] = self.data[\"gas_electricity\"]*455*(10**3)\n",
    "        self.data[\"hyrdo_emission\"] = self.data[\"hydro_electricity\"]*90*(10**3)\n",
    "        self.data[\"nuclear_emission\"] = self.data[\"nuclear_electricity\"] * \\\n",
    "            5.5*(10**3)\n",
    "        self.data[\"oil_emission\"] = self.data[\"oil_electricity\"]*1200*(10**3)\n",
    "        self.data[\"solar_emission\"] = self.data[\"solar_electricity\"]*53*(10**3)\n",
    "        self.data[\"wind_emission\"] = self.data[\"wind_electricity\"]*14*(10**3)\n",
    "\n",
    "        self.data[\"emissions\"] = self.data[[\"biofuel_emission\",\n",
    "                                            \"coal_emission\",\n",
    "                                            \"gas_emission\",\n",
    "                                            \"hyrdo_emission\",\n",
    "                                            \"nuclear_emission\",\n",
    "                                            \"oil_emission\",\n",
    "                                            \"solar_emission\",\n",
    "                                            \"wind_emission\"]].sum(axis=1)\n",
    "\n",
    "        # add total consumption for later computation\n",
    "        self.data[\"total_consumption\"] = self.data[[\n",
    "            \"biofuel_consumption\",\n",
    "            \"coal_consumption\",\n",
    "            \"gas_consumption\",\n",
    "            \"hydro_consumption\",\n",
    "            \"nuclear_consumption\",\n",
    "            \"oil_consumption\",\n",
    "            \"solar_consumption\",\n",
    "            \"wind_consumption\"]].sum(axis=1)\n",
    "\n",
    "        # drop zeros of population\n",
    "        self.data['population'] = self.data['population'].fillna(0)\n",
    "\n",
    "        return self.data\n",
    "\n",
    "    def countries_list(self):\n",
    "        \"\"\"\n",
    "        Returns the list of countries in the data\n",
    "\n",
    "        Parameters\n",
    "        ----------\n",
    "        None\n",
    "\n",
    "        Returns\n",
    "        -------\n",
    "        country_list : list\n",
    "            List of countries in the dataframe\n",
    "\n",
    "        \"\"\"\n",
    "        countries = self.data[\"country\"].unique()\n",
    "        return countries.tolist()\n",
    "\n",
    "    def gdp_over_years(self, countries):\n",
    "        \"\"\"\n",
    "        Receive a string or a list of strings -> Compare the \"gdp\" column of\n",
    "        each received country over the years\n",
    "\n",
    "        Parameters\n",
    "        ----------\n",
    "        countries : list of strings\n",
    "            DESCRIPTION. Name of every country that is included\n",
    "\n",
    "        Returns\n",
    "        -------\n",
    "        gdp_over_years_df: pandas Dataframe\n",
    "            DESCRIPTION: GPD of countries over the years\n",
    "                columns = Countries\n",
    "                index = years\n",
    "        \"\"\"\n",
    "        if type(countries) != str:\n",
    "            raise TypeError(\"Variable countries not a string.\")\n",
    "        if countries not in self.countries_list():\n",
    "            raise TypeError(\"ValueError: country not found\")\n",
    "\n",
    "        df = self.data\n",
    "        cut = df[[\"year\", \"country\", \"gdp\"]]\n",
    "        gdp_over_years_df = cut.pivot(\n",
    "            index=\"year\", columns=\"country\", values=\"gdp\")\n",
    "\n",
    "        return gdp_over_years_df[countries]\n",
    "\n",
    "    def consumption_country(self, countries):\n",
    "        \"\"\"\n",
    "        The method produces a dataframe with defined countries in columns and\n",
    "        all years in rows. Values are the sum of the total energy consumption\n",
    "        of the country.\n",
    "\n",
    "        Parameters\n",
    "        ----------\n",
    "        countries : list of strings\n",
    "            A list of countries that are included in the consumption per\n",
    "            country dataframe\n",
    "\n",
    "        Returns\n",
    "        -------\n",
    "        Bar Plot:\n",
    "            Displays the bar plot of the total consumption for each\n",
    "            country.\n",
    "\n",
    "        \"\"\"\n",
    "        if type(countries) != list:\n",
    "            raise TypeError(\"TypeError: countries not list\")\n",
    "        if countries not in self.countries_list():\n",
    "            raise ValueError(\"ValueError: country not in dataset\")\n",
    "\n",
    "        df = self.data[[\"country\", \"biofuel_consumption\",\n",
    "                        \"coal_consumption\",\n",
    "                        \"gas_consumption\",\n",
    "                        \"hydro_consumption\",\n",
    "                        \"nuclear_consumption\",\n",
    "                        \"oil_consumption\",\n",
    "                        \"solar_consumption\",\n",
    "                        \"wind_consumption\",\n",
    "                        \"emissions\"]]\n",
    "        df = df.groupby(\"country\").sum()\n",
    "        df[\"total_consumption\"] = df.iloc[:, :8].sum(axis=1)\n",
    "        df = df.loc[countries]\n",
    "        return df.reset_index()[[\"total_consumption\",\n",
    "                                 \"emissions\", 'country']].plot.bar(\n",
    "                                     x='country', ec='black',\n",
    "                                     secondary_y=\"emissions\")\n",
    "\n",
    "        return df.reset_index().plot.bar(x=\"country\",\n",
    "                                         y=\"total_consumption\"),\n",
    "        df['emissions'] = plt.subplots()\n",
    "\n",
    "    def prepare_df(self, metric):\n",
    "        \"\"\"\n",
    "        The method produces a dataframe of all countries and years for one\n",
    "        transmitted metric (i.e. GDP or Population).\n",
    "\n",
    "        Parameters\n",
    "        ----------\n",
    "        metric : string\n",
    "            The name of the column from which values are extracted\n",
    "            (i.e. \"gdp\" for values of gdp column).\n",
    "\n",
    "        Returns\n",
    "        -------\n",
    "        metric_df: dataframe\n",
    "            A dataframe that has all countries in columns and years in rows.\n",
    "            Values are the defined metric\n",
    "        \"\"\"\n",
    "        if type(metric) != str:\n",
    "            raise TypeError(\"TypeError: metric not string\")\n",
    "        if metric not in self.data.columns:\n",
    "            raise ValueError(\"ValueError: metric not in dataset\")\n",
    "\n",
    "        df = self.data\n",
    "        cut = df[[\"year\", \"country\", metric]]\n",
    "        metric_df = cut.pivot(\n",
    "            index=\"year\", columns=\"country\", values=metric)\n",
    "        return metric_df\n",
    "\n",
    "    def consumption_area_plot(self, country, normalize):\n",
    "        \"\"\"\n",
    "        Returns an area chart of the '_consumption' columns\n",
    "        for a selected country\n",
    "\n",
    "        Parameters\n",
    "        ----------\n",
    "        country : string\n",
    "            country you want to see the area chart for.\n",
    "        normalize : boolean\n",
    "            normalize the chart or not.\n",
    "\n",
    "        Returns\n",
    "        -------\n",
    "        area_chart : chart\n",
    "\n",
    "        \"\"\"\n",
    "        if type(country) != str:\n",
    "            raise TypeError(\"TypeError: country not string\")\n",
    "        if country not in self.countries_list():\n",
    "            raise ValueError(\"ValueError: country not in dataset\")\n",
    "\n",
    "        self.data = self.data.reset_index()\n",
    "        df = self.data[[\"country\", \"year\", \"biofuel_consumption\",\n",
    "                        \"coal_consumption\",\n",
    "                        \"gas_consumption\",\n",
    "                        \"hydro_consumption\",\n",
    "                        \"nuclear_consumption\",\n",
    "                        \"oil_consumption\",\n",
    "                        \"solar_consumption\",\n",
    "                        \"wind_consumption\"]]\n",
    "        dfcountry = df[df[\"country\"] == country]\n",
    "\n",
    "        if normalize is True:\n",
    "            df_norm = pd.concat(\n",
    "                [dfcountry[[\"country\", \"year\"]],\n",
    "                 dfcountry.iloc[:, 3:].apply(\n",
    "                     lambda x: x / x.sum(), axis=1)], axis=1)\n",
    "            return df_norm.plot.area('year', stacked=True)\n",
    "        else:\n",
    "            return dfcountry.plot.area('year', stacked=True)\n",
    "\n",
    "    def gapminder(self, year):\n",
    "        \"\"\"\n",
    "        This method shows the correlation between gpd, total engery\n",
    "        consumption and the population for the year passed in the argument.\n",
    "\n",
    "        Parameters\n",
    "        ----------\n",
    "        year : integer\n",
    "            year you want the chart to display\n",
    "\n",
    "        Returns\n",
    "        -------\n",
    "        px.scatter : chart\n",
    "\n",
    "        \"\"\"\n",
    "        if type(year) != int:\n",
    "            raise TypeError(\"TypeError: year not int\")\n",
    "        if year not in self.data['year']:\n",
    "            raise ValueError(\"ValueError: Year is not in data\")\n",
    "        df = self.data\n",
    "\n",
    "        gapminder_df = df[['country', 'year',\n",
    "                           'gdp', 'population',\n",
    "                           'total_consumption']].reset_index()\n",
    "        gapminder_df = gapminder_df[gapminder_df['total_consumption'] != 0]\n",
    "        px.scatter(\n",
    "            gapminder_df.query(\"year == \"+str(year)),\n",
    "            x=\"gdp\",\n",
    "            y=\"total_consumption\",\n",
    "            animation_frame=\"year\",\n",
    "            animation_group=\"country\",\n",
    "            size=\"population\",\n",
    "            color=\"country\",\n",
    "            # hover_name=\"country\",\n",
    "            log_x=True,\n",
    "            log_y=True,\n",
    "            size_max=60).show()\n",
    "\n",
    "    def allcountries_scatter(self, year):\n",
    "        \"\"\"\n",
    "        This method shows the correlation between emissions, total engery\n",
    "        consumption and the population for the year passed in the argument.\n",
    "\n",
    "        Parameters\n",
    "        ----------\n",
    "        year : integer\n",
    "            year you want the chart to display\n",
    "\n",
    "        Returns\n",
    "        -------\n",
    "        px.scatter : chart\n",
    "\n",
    "        \"\"\"\n",
    "        if type(year) != int:\n",
    "            raise TypeError(\"TypeError: year not int\")\n",
    "        if year not in self.data['year']:\n",
    "            raise ValueError(\"ValueError: Year is not in data\")\n",
    "        scatter_df = self.data[['country', 'year', 'population',\n",
    "                                'total_consumption', 'emissions']]\n",
    "        px.scatter(\n",
    "            scatter_df.query(\"year == \"+str(year)),\n",
    "            x=\"emissions\",\n",
    "            y=\"total_consumption\",\n",
    "            animation_frame=\"year\",\n",
    "            animation_group=\"country\",\n",
    "            size=\"population\",\n",
    "            color=\"country\",\n",
    "            # hover_name=\"country\",\n",
    "            log_x=True,\n",
    "            log_y=True,\n",
    "            size_max=60).show()\n",
    "\n",
    "    def arima_forecast(self, country, points: int):\n",
    "        \"\"\"\n",
    "        Method to forecast consumption and emissions for contry passed in\n",
    "        argument\n",
    "\n",
    "        Parameters\n",
    "        ----------\n",
    "        country : str\n",
    "            Country for forecasting.\n",
    "        points : int\n",
    "            Number of points for forecasting in the future.\n",
    "\n",
    "        Returns\n",
    "        -------\n",
    "        fig: matplotlib figure\n",
    "            Figure displaying the forecast of consumtion and emissions for\n",
    "            the country passed in argument\n",
    "\n",
    "        \"\"\"\n",
    "        df = self.data[[\"country\", \"total_consumption\", \"emissions\"]]\n",
    "        df = df[df[\"country\"] == str(country)]\n",
    "        df = df.replace(0, np.nan)\n",
    "        df = df.dropna()\n",
    "\n",
    "        best_consumption = auto_arima(df[\"total_consumption\"],\n",
    "                                      start_p=3,\n",
    "                                      start_q=3,\n",
    "                                      max_p=8,\n",
    "                                      max_q=8,\n",
    "                                      max_order=20,\n",
    "                                      d=None,\n",
    "                                      trace=False,\n",
    "                                      error_action='ignore',\n",
    "                                      suppress_warnings=True,\n",
    "                                      stepwise=False\n",
    "                                      )\n",
    "        coeff_c = best_consumption.order\n",
    "        model_c = sm.tsa.arima.ARIMA(df[\"total_consumption\"], order=coeff_c)\n",
    "        model_fit_c = model_c.fit()\n",
    "        yhat_c = model_fit_c.predict(len(df), len(df)+points)\n",
    "\n",
    "        best_emissions = auto_arima(df[\"emissions\"],\n",
    "                                    start_p=3,\n",
    "                                    start_q=3,\n",
    "                                    max_p=8,\n",
    "                                    max_q=8,\n",
    "                                    max_order=20,\n",
    "                                    d=None,\n",
    "                                    trace=False,\n",
    "                                    error_action='ignore',\n",
    "                                    suppress_warnings=True,\n",
    "                                    stepwise=False,\n",
    "                                    )\n",
    "        coeff_em = best_emissions.order\n",
    "        model_e = sm.tsa.arima.ARIMA(df[\"emissions\"], order=coeff_em)\n",
    "        model_fit_e = model_e.fit()\n",
    "        yhat_e = model_fit_e.predict(len(df), len(df)+points)\n",
    "        xhat = np.arange(2019, 2019+points+1)\n",
    "\n",
    "        # plotting\n",
    "        fig, ax = plt.subplots(2, figsize=(20,10))\n",
    "        fig.tight_layout()\n",
    "        fig.subplots_adjust(hspace=0.6)\n",
    "\n",
    "        ax[0].set_title(\n",
    "            f\"Total consumption throughout the years for {country}\")\n",
    "        ax[0].plot(df.index, df[\"total_consumption\"])\n",
    "        ax[0].plot(xhat, yhat_c)\n",
    "\n",
    "        ax[1].set_title(f\"Total emissions throughout the years for {country}\")\n",
    "        ax[1].plot(df.index, df[\"emissions\"])\n",
    "        ax[1].plot(xhat, yhat_e)\n",
    "\n",
    "        fig.show()\n"
   ]
  },
  {
   "cell_type": "code",
   "execution_count": 5,
   "id": "0f06e4d7",
   "metadata": {},
   "outputs": [],
   "source": [
    "energy_consumption = Energy()"
   ]
  },
  {
   "cell_type": "code",
   "execution_count": 6,
   "id": "ed6f2f7c",
   "metadata": {},
   "outputs": [
    {
     "data": {
      "text/html": [
       "<div>\n",
       "<style scoped>\n",
       "    .dataframe tbody tr th:only-of-type {\n",
       "        vertical-align: middle;\n",
       "    }\n",
       "\n",
       "    .dataframe tbody tr th {\n",
       "        vertical-align: top;\n",
       "    }\n",
       "\n",
       "    .dataframe thead th {\n",
       "        text-align: right;\n",
       "    }\n",
       "</style>\n",
       "<table border=\"1\" class=\"dataframe\">\n",
       "  <thead>\n",
       "    <tr style=\"text-align: right;\">\n",
       "      <th></th>\n",
       "      <th>country</th>\n",
       "      <th>iso_code</th>\n",
       "      <th>year</th>\n",
       "      <th>coal_prod_change_pct</th>\n",
       "      <th>coal_prod_change_twh</th>\n",
       "      <th>gas_prod_change_pct</th>\n",
       "      <th>gas_prod_change_twh</th>\n",
       "      <th>oil_prod_change_pct</th>\n",
       "      <th>oil_prod_change_twh</th>\n",
       "      <th>energy_cons_change_pct</th>\n",
       "      <th>...</th>\n",
       "      <th>biofuel_emission</th>\n",
       "      <th>coal_emission</th>\n",
       "      <th>gas_emission</th>\n",
       "      <th>hyrdo_emission</th>\n",
       "      <th>nuclear_emission</th>\n",
       "      <th>oil_emission</th>\n",
       "      <th>solar_emission</th>\n",
       "      <th>wind_emission</th>\n",
       "      <th>emissions</th>\n",
       "      <th>total_consumption</th>\n",
       "    </tr>\n",
       "    <tr>\n",
       "      <th>timestamp</th>\n",
       "      <th></th>\n",
       "      <th></th>\n",
       "      <th></th>\n",
       "      <th></th>\n",
       "      <th></th>\n",
       "      <th></th>\n",
       "      <th></th>\n",
       "      <th></th>\n",
       "      <th></th>\n",
       "      <th></th>\n",
       "      <th></th>\n",
       "      <th></th>\n",
       "      <th></th>\n",
       "      <th></th>\n",
       "      <th></th>\n",
       "      <th></th>\n",
       "      <th></th>\n",
       "      <th></th>\n",
       "      <th></th>\n",
       "      <th></th>\n",
       "      <th></th>\n",
       "    </tr>\n",
       "  </thead>\n",
       "  <tbody>\n",
       "    <tr>\n",
       "      <th>1970</th>\n",
       "      <td>Afghanistan</td>\n",
       "      <td>AFG</td>\n",
       "      <td>1970</td>\n",
       "      <td>20.588</td>\n",
       "      <td>0.228</td>\n",
       "      <td>NaN</td>\n",
       "      <td>NaN</td>\n",
       "      <td>NaN</td>\n",
       "      <td>NaN</td>\n",
       "      <td>NaN</td>\n",
       "      <td>...</td>\n",
       "      <td>NaN</td>\n",
       "      <td>NaN</td>\n",
       "      <td>NaN</td>\n",
       "      <td>NaN</td>\n",
       "      <td>NaN</td>\n",
       "      <td>NaN</td>\n",
       "      <td>NaN</td>\n",
       "      <td>NaN</td>\n",
       "      <td>0.0</td>\n",
       "      <td>0.0</td>\n",
       "    </tr>\n",
       "    <tr>\n",
       "      <th>1971</th>\n",
       "      <td>Afghanistan</td>\n",
       "      <td>AFG</td>\n",
       "      <td>1971</td>\n",
       "      <td>-17.683</td>\n",
       "      <td>-0.236</td>\n",
       "      <td>NaN</td>\n",
       "      <td>NaN</td>\n",
       "      <td>NaN</td>\n",
       "      <td>NaN</td>\n",
       "      <td>NaN</td>\n",
       "      <td>...</td>\n",
       "      <td>NaN</td>\n",
       "      <td>NaN</td>\n",
       "      <td>NaN</td>\n",
       "      <td>NaN</td>\n",
       "      <td>NaN</td>\n",
       "      <td>NaN</td>\n",
       "      <td>NaN</td>\n",
       "      <td>NaN</td>\n",
       "      <td>0.0</td>\n",
       "      <td>0.0</td>\n",
       "    </tr>\n",
       "    <tr>\n",
       "      <th>1972</th>\n",
       "      <td>Afghanistan</td>\n",
       "      <td>AFG</td>\n",
       "      <td>1972</td>\n",
       "      <td>-47.407</td>\n",
       "      <td>-0.521</td>\n",
       "      <td>NaN</td>\n",
       "      <td>NaN</td>\n",
       "      <td>NaN</td>\n",
       "      <td>NaN</td>\n",
       "      <td>NaN</td>\n",
       "      <td>...</td>\n",
       "      <td>NaN</td>\n",
       "      <td>NaN</td>\n",
       "      <td>NaN</td>\n",
       "      <td>NaN</td>\n",
       "      <td>NaN</td>\n",
       "      <td>NaN</td>\n",
       "      <td>NaN</td>\n",
       "      <td>NaN</td>\n",
       "      <td>0.0</td>\n",
       "      <td>0.0</td>\n",
       "    </tr>\n",
       "    <tr>\n",
       "      <th>1973</th>\n",
       "      <td>Afghanistan</td>\n",
       "      <td>AFG</td>\n",
       "      <td>1973</td>\n",
       "      <td>64.789</td>\n",
       "      <td>0.374</td>\n",
       "      <td>NaN</td>\n",
       "      <td>NaN</td>\n",
       "      <td>NaN</td>\n",
       "      <td>NaN</td>\n",
       "      <td>NaN</td>\n",
       "      <td>...</td>\n",
       "      <td>NaN</td>\n",
       "      <td>NaN</td>\n",
       "      <td>NaN</td>\n",
       "      <td>NaN</td>\n",
       "      <td>NaN</td>\n",
       "      <td>NaN</td>\n",
       "      <td>NaN</td>\n",
       "      <td>NaN</td>\n",
       "      <td>0.0</td>\n",
       "      <td>0.0</td>\n",
       "    </tr>\n",
       "    <tr>\n",
       "      <th>1974</th>\n",
       "      <td>Afghanistan</td>\n",
       "      <td>AFG</td>\n",
       "      <td>1974</td>\n",
       "      <td>-1.709</td>\n",
       "      <td>-0.016</td>\n",
       "      <td>NaN</td>\n",
       "      <td>NaN</td>\n",
       "      <td>NaN</td>\n",
       "      <td>NaN</td>\n",
       "      <td>NaN</td>\n",
       "      <td>...</td>\n",
       "      <td>NaN</td>\n",
       "      <td>NaN</td>\n",
       "      <td>NaN</td>\n",
       "      <td>NaN</td>\n",
       "      <td>NaN</td>\n",
       "      <td>NaN</td>\n",
       "      <td>NaN</td>\n",
       "      <td>NaN</td>\n",
       "      <td>0.0</td>\n",
       "      <td>0.0</td>\n",
       "    </tr>\n",
       "    <tr>\n",
       "      <th>...</th>\n",
       "      <td>...</td>\n",
       "      <td>...</td>\n",
       "      <td>...</td>\n",
       "      <td>...</td>\n",
       "      <td>...</td>\n",
       "      <td>...</td>\n",
       "      <td>...</td>\n",
       "      <td>...</td>\n",
       "      <td>...</td>\n",
       "      <td>...</td>\n",
       "      <td>...</td>\n",
       "      <td>...</td>\n",
       "      <td>...</td>\n",
       "      <td>...</td>\n",
       "      <td>...</td>\n",
       "      <td>...</td>\n",
       "      <td>...</td>\n",
       "      <td>...</td>\n",
       "      <td>...</td>\n",
       "      <td>...</td>\n",
       "      <td>...</td>\n",
       "    </tr>\n",
       "    <tr>\n",
       "      <th>2015</th>\n",
       "      <td>Zimbabwe</td>\n",
       "      <td>ZWE</td>\n",
       "      <td>2015</td>\n",
       "      <td>-25.013</td>\n",
       "      <td>-10.847</td>\n",
       "      <td>NaN</td>\n",
       "      <td>NaN</td>\n",
       "      <td>NaN</td>\n",
       "      <td>NaN</td>\n",
       "      <td>-0.789</td>\n",
       "      <td>...</td>\n",
       "      <td>185600.0</td>\n",
       "      <td>4312000.0</td>\n",
       "      <td>0.0</td>\n",
       "      <td>444600.0</td>\n",
       "      <td>0.0</td>\n",
       "      <td>0.0</td>\n",
       "      <td>424.0</td>\n",
       "      <td>0.0</td>\n",
       "      <td>4942624.0</td>\n",
       "      <td>0.0</td>\n",
       "    </tr>\n",
       "    <tr>\n",
       "      <th>2016</th>\n",
       "      <td>Zimbabwe</td>\n",
       "      <td>ZWE</td>\n",
       "      <td>2016</td>\n",
       "      <td>-37.694</td>\n",
       "      <td>-12.257</td>\n",
       "      <td>NaN</td>\n",
       "      <td>NaN</td>\n",
       "      <td>NaN</td>\n",
       "      <td>NaN</td>\n",
       "      <td>-14.633</td>\n",
       "      <td>...</td>\n",
       "      <td>213150.0</td>\n",
       "      <td>3715000.0</td>\n",
       "      <td>0.0</td>\n",
       "      <td>265950.0</td>\n",
       "      <td>0.0</td>\n",
       "      <td>0.0</td>\n",
       "      <td>477.0</td>\n",
       "      <td>0.0</td>\n",
       "      <td>4194577.0</td>\n",
       "      <td>0.0</td>\n",
       "    </tr>\n",
       "    <tr>\n",
       "      <th>2017</th>\n",
       "      <td>Zimbabwe</td>\n",
       "      <td>ZWE</td>\n",
       "      <td>2017</td>\n",
       "      <td>8.375</td>\n",
       "      <td>1.697</td>\n",
       "      <td>NaN</td>\n",
       "      <td>NaN</td>\n",
       "      <td>NaN</td>\n",
       "      <td>NaN</td>\n",
       "      <td>NaN</td>\n",
       "      <td>...</td>\n",
       "      <td>218950.0</td>\n",
       "      <td>3219000.0</td>\n",
       "      <td>0.0</td>\n",
       "      <td>353610.0</td>\n",
       "      <td>0.0</td>\n",
       "      <td>0.0</td>\n",
       "      <td>583.0</td>\n",
       "      <td>0.0</td>\n",
       "      <td>3792143.0</td>\n",
       "      <td>0.0</td>\n",
       "    </tr>\n",
       "    <tr>\n",
       "      <th>2018</th>\n",
       "      <td>Zimbabwe</td>\n",
       "      <td>ZWE</td>\n",
       "      <td>2018</td>\n",
       "      <td>22.555</td>\n",
       "      <td>4.952</td>\n",
       "      <td>NaN</td>\n",
       "      <td>NaN</td>\n",
       "      <td>NaN</td>\n",
       "      <td>NaN</td>\n",
       "      <td>NaN</td>\n",
       "      <td>...</td>\n",
       "      <td>271150.0</td>\n",
       "      <td>3932000.0</td>\n",
       "      <td>0.0</td>\n",
       "      <td>450000.0</td>\n",
       "      <td>0.0</td>\n",
       "      <td>0.0</td>\n",
       "      <td>742.0</td>\n",
       "      <td>0.0</td>\n",
       "      <td>4653892.0</td>\n",
       "      <td>0.0</td>\n",
       "    </tr>\n",
       "    <tr>\n",
       "      <th>2019</th>\n",
       "      <td>Zimbabwe</td>\n",
       "      <td>ZWE</td>\n",
       "      <td>2019</td>\n",
       "      <td>-35.015</td>\n",
       "      <td>-9.422</td>\n",
       "      <td>NaN</td>\n",
       "      <td>NaN</td>\n",
       "      <td>NaN</td>\n",
       "      <td>NaN</td>\n",
       "      <td>NaN</td>\n",
       "      <td>...</td>\n",
       "      <td>300150.0</td>\n",
       "      <td>3805000.0</td>\n",
       "      <td>0.0</td>\n",
       "      <td>451800.0</td>\n",
       "      <td>0.0</td>\n",
       "      <td>0.0</td>\n",
       "      <td>742.0</td>\n",
       "      <td>0.0</td>\n",
       "      <td>4557692.0</td>\n",
       "      <td>0.0</td>\n",
       "    </tr>\n",
       "  </tbody>\n",
       "</table>\n",
       "<p>9455 rows × 134 columns</p>\n",
       "</div>"
      ],
      "text/plain": [
       "               country iso_code  year  coal_prod_change_pct  \\\n",
       "timestamp                                                     \n",
       "1970       Afghanistan      AFG  1970                20.588   \n",
       "1971       Afghanistan      AFG  1971               -17.683   \n",
       "1972       Afghanistan      AFG  1972               -47.407   \n",
       "1973       Afghanistan      AFG  1973                64.789   \n",
       "1974       Afghanistan      AFG  1974                -1.709   \n",
       "...                ...      ...   ...                   ...   \n",
       "2015          Zimbabwe      ZWE  2015               -25.013   \n",
       "2016          Zimbabwe      ZWE  2016               -37.694   \n",
       "2017          Zimbabwe      ZWE  2017                 8.375   \n",
       "2018          Zimbabwe      ZWE  2018                22.555   \n",
       "2019          Zimbabwe      ZWE  2019               -35.015   \n",
       "\n",
       "           coal_prod_change_twh  gas_prod_change_pct  gas_prod_change_twh  \\\n",
       "timestamp                                                                   \n",
       "1970                      0.228                  NaN                  NaN   \n",
       "1971                     -0.236                  NaN                  NaN   \n",
       "1972                     -0.521                  NaN                  NaN   \n",
       "1973                      0.374                  NaN                  NaN   \n",
       "1974                     -0.016                  NaN                  NaN   \n",
       "...                         ...                  ...                  ...   \n",
       "2015                    -10.847                  NaN                  NaN   \n",
       "2016                    -12.257                  NaN                  NaN   \n",
       "2017                      1.697                  NaN                  NaN   \n",
       "2018                      4.952                  NaN                  NaN   \n",
       "2019                     -9.422                  NaN                  NaN   \n",
       "\n",
       "           oil_prod_change_pct  oil_prod_change_twh  energy_cons_change_pct  \\\n",
       "timestamp                                                                     \n",
       "1970                       NaN                  NaN                     NaN   \n",
       "1971                       NaN                  NaN                     NaN   \n",
       "1972                       NaN                  NaN                     NaN   \n",
       "1973                       NaN                  NaN                     NaN   \n",
       "1974                       NaN                  NaN                     NaN   \n",
       "...                        ...                  ...                     ...   \n",
       "2015                       NaN                  NaN                  -0.789   \n",
       "2016                       NaN                  NaN                 -14.633   \n",
       "2017                       NaN                  NaN                     NaN   \n",
       "2018                       NaN                  NaN                     NaN   \n",
       "2019                       NaN                  NaN                     NaN   \n",
       "\n",
       "           ...  biofuel_emission  coal_emission  gas_emission  hyrdo_emission  \\\n",
       "timestamp  ...                                                                  \n",
       "1970       ...               NaN            NaN           NaN             NaN   \n",
       "1971       ...               NaN            NaN           NaN             NaN   \n",
       "1972       ...               NaN            NaN           NaN             NaN   \n",
       "1973       ...               NaN            NaN           NaN             NaN   \n",
       "1974       ...               NaN            NaN           NaN             NaN   \n",
       "...        ...               ...            ...           ...             ...   \n",
       "2015       ...          185600.0      4312000.0           0.0        444600.0   \n",
       "2016       ...          213150.0      3715000.0           0.0        265950.0   \n",
       "2017       ...          218950.0      3219000.0           0.0        353610.0   \n",
       "2018       ...          271150.0      3932000.0           0.0        450000.0   \n",
       "2019       ...          300150.0      3805000.0           0.0        451800.0   \n",
       "\n",
       "           nuclear_emission  oil_emission  solar_emission  wind_emission  \\\n",
       "timestamp                                                                  \n",
       "1970                    NaN           NaN             NaN            NaN   \n",
       "1971                    NaN           NaN             NaN            NaN   \n",
       "1972                    NaN           NaN             NaN            NaN   \n",
       "1973                    NaN           NaN             NaN            NaN   \n",
       "1974                    NaN           NaN             NaN            NaN   \n",
       "...                     ...           ...             ...            ...   \n",
       "2015                    0.0           0.0           424.0            0.0   \n",
       "2016                    0.0           0.0           477.0            0.0   \n",
       "2017                    0.0           0.0           583.0            0.0   \n",
       "2018                    0.0           0.0           742.0            0.0   \n",
       "2019                    0.0           0.0           742.0            0.0   \n",
       "\n",
       "           emissions  total_consumption  \n",
       "timestamp                                \n",
       "1970             0.0                0.0  \n",
       "1971             0.0                0.0  \n",
       "1972             0.0                0.0  \n",
       "1973             0.0                0.0  \n",
       "1974             0.0                0.0  \n",
       "...              ...                ...  \n",
       "2015       4942624.0                0.0  \n",
       "2016       4194577.0                0.0  \n",
       "2017       3792143.0                0.0  \n",
       "2018       4653892.0                0.0  \n",
       "2019       4557692.0                0.0  \n",
       "\n",
       "[9455 rows x 134 columns]"
      ]
     },
     "execution_count": 6,
     "metadata": {},
     "output_type": "execute_result"
    }
   ],
   "source": [
    "energy_consumption.read_data(drop_continents=True)"
   ]
  },
  {
   "cell_type": "code",
   "execution_count": 19,
   "id": "d64c90ba",
   "metadata": {},
   "outputs": [
    {
     "data": {
      "application/vnd.plotly.v1+json": {
       "config": {
        "plotlyServerURL": "https://plot.ly"
       },
       "data": [
        {
         "hovertemplate": "country=Algeria<br>year=1990<br>gdp=%{x}<br>total_consumption=%{y}<br>population=%{marker.size}<extra></extra>",
         "ids": [
          "Algeria"
         ],
         "legendgroup": "Algeria",
         "marker": {
          "color": "#636efa",
          "size": [
           25758872
          ],
          "sizemode": "area",
          "sizeref": 326912.1336111111,
          "symbol": "circle"
         },
         "mode": "markers",
         "name": "Algeria",
         "orientation": "v",
         "showlegend": true,
         "type": "scatter",
         "x": [
          209000000000
         ],
         "xaxis": "x",
         "y": [
          314.95
         ],
         "yaxis": "y"
        },
        {
         "hovertemplate": "country=Argentina<br>year=1990<br>gdp=%{x}<br>total_consumption=%{y}<br>population=%{marker.size}<extra></extra>",
         "ids": [
          "Argentina"
         ],
         "legendgroup": "Argentina",
         "marker": {
          "color": "#EF553B",
          "size": [
           32618648
          ],
          "sizemode": "area",
          "sizeref": 326912.1336111111,
          "symbol": "circle"
         },
         "mode": "markers",
         "name": "Argentina",
         "orientation": "v",
         "showlegend": true,
         "type": "scatter",
         "x": [
          392000000000
         ],
         "xaxis": "x",
         "y": [
          512.9100000000001
         ],
         "yaxis": "y"
        },
        {
         "hovertemplate": "country=Australia<br>year=1990<br>gdp=%{x}<br>total_consumption=%{y}<br>population=%{marker.size}<extra></extra>",
         "ids": [
          "Australia"
         ],
         "legendgroup": "Australia",
         "marker": {
          "color": "#00cc96",
          "size": [
           16960600
          ],
          "sizemode": "area",
          "sizeref": 326912.1336111111,
          "symbol": "circle"
         },
         "mode": "markers",
         "name": "Australia",
         "orientation": "v",
         "showlegend": true,
         "type": "scatter",
         "x": [
          471000000000
         ],
         "xaxis": "x",
         "y": [
          1055.049
         ],
         "yaxis": "y"
        },
        {
         "hovertemplate": "country=Austria<br>year=1990<br>gdp=%{x}<br>total_consumption=%{y}<br>population=%{marker.size}<extra></extra>",
         "ids": [
          "Austria"
         ],
         "legendgroup": "Austria",
         "marker": {
          "color": "#ab63fa",
          "size": [
           7723954
          ],
          "sizemode": "area",
          "sizeref": 326912.1336111111,
          "symbol": "circle"
         },
         "mode": "markers",
         "name": "Austria",
         "orientation": "v",
         "showlegend": true,
         "type": "scatter",
         "x": [
          187000000000
         ],
         "xaxis": "x",
         "y": [
          326.365
         ],
         "yaxis": "y"
        },
        {
         "hovertemplate": "country=Azerbaijan<br>year=1990<br>gdp=%{x}<br>total_consumption=%{y}<br>population=%{marker.size}<extra></extra>",
         "ids": [
          "Azerbaijan"
         ],
         "legendgroup": "Azerbaijan",
         "marker": {
          "color": "#FFA15A",
          "size": [
           7242758
          ],
          "sizemode": "area",
          "sizeref": 326912.1336111111,
          "symbol": "circle"
         },
         "mode": "markers",
         "name": "Azerbaijan",
         "orientation": "v",
         "showlegend": true,
         "type": "scatter",
         "x": [
          66412797952
         ],
         "xaxis": "x",
         "y": [
          260.006
         ],
         "yaxis": "y"
        },
        {
         "hovertemplate": "country=Bangladesh<br>year=1990<br>gdp=%{x}<br>total_consumption=%{y}<br>population=%{marker.size}<extra></extra>",
         "ids": [
          "Bangladesh"
         ],
         "legendgroup": "Bangladesh",
         "marker": {
          "color": "#19d3f3",
          "size": [
           103171957
          ],
          "sizemode": "area",
          "sizeref": 326912.1336111111,
          "symbol": "circle"
         },
         "mode": "markers",
         "name": "Bangladesh",
         "orientation": "v",
         "showlegend": true,
         "type": "scatter",
         "x": [
          154000000000
         ],
         "xaxis": "x",
         "y": [
          73.69900000000001
         ],
         "yaxis": "y"
        },
        {
         "hovertemplate": "country=Belarus<br>year=1990<br>gdp=%{x}<br>total_consumption=%{y}<br>population=%{marker.size}<extra></extra>",
         "ids": [
          "Belarus"
         ],
         "legendgroup": "Belarus",
         "marker": {
          "color": "#FF6692",
          "size": [
           10151135
          ],
          "sizemode": "area",
          "sizeref": 326912.1336111111,
          "symbol": "circle"
         },
         "mode": "markers",
         "name": "Belarus",
         "orientation": "v",
         "showlegend": true,
         "type": "scatter",
         "x": [
          131000000000
         ],
         "xaxis": "x",
         "y": [
          444.569
         ],
         "yaxis": "y"
        },
        {
         "hovertemplate": "country=Belgium<br>year=1990<br>gdp=%{x}<br>total_consumption=%{y}<br>population=%{marker.size}<extra></extra>",
         "ids": [
          "Belgium"
         ],
         "legendgroup": "Belgium",
         "marker": {
          "color": "#B6E880",
          "size": [
           10006545
          ],
          "sizemode": "area",
          "sizeref": 326912.1336111111,
          "symbol": "circle"
         },
         "mode": "markers",
         "name": "Belgium",
         "orientation": "v",
         "showlegend": true,
         "type": "scatter",
         "x": [
          236000000000
         ],
         "xaxis": "x",
         "y": [
          626.5229999999999
         ],
         "yaxis": "y"
        },
        {
         "hovertemplate": "country=Brazil<br>year=1990<br>gdp=%{x}<br>total_consumption=%{y}<br>population=%{marker.size}<extra></extra>",
         "ids": [
          "Brazil"
         ],
         "legendgroup": "Brazil",
         "marker": {
          "color": "#FF97FF",
          "size": [
           149003225
          ],
          "sizemode": "area",
          "sizeref": 326912.1336111111,
          "symbol": "circle"
         },
         "mode": "markers",
         "name": "Brazil",
         "orientation": "v",
         "showlegend": true,
         "type": "scatter",
         "x": [
          854000000000
         ],
         "xaxis": "x",
         "y": [
          1478.145
         ],
         "yaxis": "y"
        },
        {
         "hovertemplate": "country=Bulgaria<br>year=1990<br>gdp=%{x}<br>total_consumption=%{y}<br>population=%{marker.size}<extra></extra>",
         "ids": [
          "Bulgaria"
         ],
         "legendgroup": "Bulgaria",
         "marker": {
          "color": "#FECB52",
          "size": [
           8841466
          ],
          "sizemode": "area",
          "sizeref": 326912.1336111111,
          "symbol": "circle"
         },
         "mode": "markers",
         "name": "Bulgaria",
         "orientation": "v",
         "showlegend": true,
         "type": "scatter",
         "x": [
          96713359360
         ],
         "xaxis": "x",
         "y": [
          322.791
         ],
         "yaxis": "y"
        },
        {
         "hovertemplate": "country=Canada<br>year=1990<br>gdp=%{x}<br>total_consumption=%{y}<br>population=%{marker.size}<extra></extra>",
         "ids": [
          "Canada"
         ],
         "legendgroup": "Canada",
         "marker": {
          "color": "#636efa",
          "size": [
           27541323
          ],
          "sizemode": "area",
          "sizeref": 326912.1336111111,
          "symbol": "circle"
         },
         "mode": "markers",
         "name": "Canada",
         "orientation": "v",
         "showlegend": true,
         "type": "scatter",
         "x": [
          840000000000
         ],
         "xaxis": "x",
         "y": [
          2938.816
         ],
         "yaxis": "y"
        },
        {
         "hovertemplate": "country=Chile<br>year=1990<br>gdp=%{x}<br>total_consumption=%{y}<br>population=%{marker.size}<extra></extra>",
         "ids": [
          "Chile"
         ],
         "legendgroup": "Chile",
         "marker": {
          "color": "#EF553B",
          "size": [
           13274617
          ],
          "sizemode": "area",
          "sizeref": 326912.1336111111,
          "symbol": "circle"
         },
         "mode": "markers",
         "name": "Chile",
         "orientation": "v",
         "showlegend": true,
         "type": "scatter",
         "x": [
          99846045696
         ],
         "xaxis": "x",
         "y": [
          151.005
         ],
         "yaxis": "y"
        },
        {
         "hovertemplate": "country=China<br>year=1990<br>gdp=%{x}<br>total_consumption=%{y}<br>population=%{marker.size}<extra></extra>",
         "ids": [
          "China"
         ],
         "legendgroup": "China",
         "marker": {
          "color": "#00cc96",
          "size": [
           1176883681
          ],
          "sizemode": "area",
          "sizeref": 326912.1336111111,
          "symbol": "circle"
         },
         "mode": "markers",
         "name": "China",
         "orientation": "v",
         "showlegend": true,
         "type": "scatter",
         "x": [
          2790000000000
         ],
         "xaxis": "x",
         "y": [
          7972.354
         ],
         "yaxis": "y"
        },
        {
         "hovertemplate": "country=Colombia<br>year=1990<br>gdp=%{x}<br>total_consumption=%{y}<br>population=%{marker.size}<extra></extra>",
         "ids": [
          "Colombia"
         ],
         "legendgroup": "Colombia",
         "marker": {
          "color": "#ab63fa",
          "size": [
           33102569
          ],
          "sizemode": "area",
          "sizeref": 326912.1336111111,
          "symbol": "circle"
         },
         "mode": "markers",
         "name": "Colombia",
         "orientation": "v",
         "showlegend": true,
         "type": "scatter",
         "x": [
          223000000000
         ],
         "xaxis": "x",
         "y": [
          245.96699999999998
         ],
         "yaxis": "y"
        },
        {
         "hovertemplate": "country=Croatia<br>year=1990<br>gdp=%{x}<br>total_consumption=%{y}<br>population=%{marker.size}<extra></extra>",
         "ids": [
          "Croatia"
         ],
         "legendgroup": "Croatia",
         "marker": {
          "color": "#FFA15A",
          "size": [
           4776370
          ],
          "sizemode": "area",
          "sizeref": 326912.1336111111,
          "symbol": "circle"
         },
         "mode": "markers",
         "name": "Croatia",
         "orientation": "v",
         "showlegend": true,
         "type": "scatter",
         "x": [
          66957324288
         ],
         "xaxis": "x",
         "y": [
          99.771
         ],
         "yaxis": "y"
        },
        {
         "hovertemplate": "country=Cyprus<br>year=1990<br>gdp=%{x}<br>total_consumption=%{y}<br>population=%{marker.size}<extra></extra>",
         "ids": [
          "Cyprus"
         ],
         "legendgroup": "Cyprus",
         "marker": {
          "color": "#19d3f3",
          "size": [
           766616
          ],
          "sizemode": "area",
          "sizeref": 326912.1336111111,
          "symbol": "circle"
         },
         "mode": "markers",
         "name": "Cyprus",
         "orientation": "v",
         "showlegend": true,
         "type": "scatter",
         "x": [
          14094656512
         ],
         "xaxis": "x",
         "y": [
          19.274
         ],
         "yaxis": "y"
        },
        {
         "hovertemplate": "country=Czechia<br>year=1990<br>gdp=%{x}<br>total_consumption=%{y}<br>population=%{marker.size}<extra></extra>",
         "ids": [
          "Czechia"
         ],
         "legendgroup": "Czechia",
         "marker": {
          "color": "#FF6692",
          "size": [
           10340877
          ],
          "sizemode": "area",
          "sizeref": 326912.1336111111,
          "symbol": "circle"
         },
         "mode": "markers",
         "name": "Czechia",
         "orientation": "v",
         "showlegend": true,
         "type": "scatter",
         "x": [
          209000000000
         ],
         "xaxis": "x",
         "y": [
          545.7850000000001
         ],
         "yaxis": "y"
        },
        {
         "hovertemplate": "country=Denmark<br>year=1990<br>gdp=%{x}<br>total_consumption=%{y}<br>population=%{marker.size}<extra></extra>",
         "ids": [
          "Denmark"
         ],
         "legendgroup": "Denmark",
         "marker": {
          "color": "#B6E880",
          "size": [
           5141117
          ],
          "sizemode": "area",
          "sizeref": 326912.1336111111,
          "symbol": "circle"
         },
         "mode": "markers",
         "name": "Denmark",
         "orientation": "v",
         "showlegend": true,
         "type": "scatter",
         "x": [
          129000000000
         ],
         "xaxis": "x",
         "y": [
          201.17700000000002
         ],
         "yaxis": "y"
        },
        {
         "hovertemplate": "country=Ecuador<br>year=1990<br>gdp=%{x}<br>total_consumption=%{y}<br>population=%{marker.size}<extra></extra>",
         "ids": [
          "Ecuador"
         ],
         "legendgroup": "Ecuador",
         "marker": {
          "color": "#FF97FF",
          "size": [
           10230931
          ],
          "sizemode": "area",
          "sizeref": 326912.1336111111,
          "symbol": "circle"
         },
         "mode": "markers",
         "name": "Ecuador",
         "orientation": "v",
         "showlegend": true,
         "type": "scatter",
         "x": [
          49897848832
         ],
         "xaxis": "x",
         "y": [
          80.086
         ],
         "yaxis": "y"
        },
        {
         "hovertemplate": "country=Egypt<br>year=1990<br>gdp=%{x}<br>total_consumption=%{y}<br>population=%{marker.size}<extra></extra>",
         "ids": [
          "Egypt"
         ],
         "legendgroup": "Egypt",
         "marker": {
          "color": "#FECB52",
          "size": [
           56134478
          ],
          "sizemode": "area",
          "sizeref": 326912.1336111111,
          "symbol": "circle"
         },
         "mode": "markers",
         "name": "Egypt",
         "orientation": "v",
         "showlegend": true,
         "type": "scatter",
         "x": [
          253000000000
         ],
         "xaxis": "x",
         "y": [
          394.686
         ],
         "yaxis": "y"
        },
        {
         "hovertemplate": "country=Estonia<br>year=1990<br>gdp=%{x}<br>total_consumption=%{y}<br>population=%{marker.size}<extra></extra>",
         "ids": [
          "Estonia"
         ],
         "legendgroup": "Estonia",
         "marker": {
          "color": "#636efa",
          "size": [
           1565246
          ],
          "sizemode": "area",
          "sizeref": 326912.1336111111,
          "symbol": "circle"
         },
         "mode": "markers",
         "name": "Estonia",
         "orientation": "v",
         "showlegend": true,
         "type": "scatter",
         "x": [
          16000661504
         ],
         "xaxis": "x",
         "y": [
          120.416
         ],
         "yaxis": "y"
        },
        {
         "hovertemplate": "country=Finland<br>year=1990<br>gdp=%{x}<br>total_consumption=%{y}<br>population=%{marker.size}<extra></extra>",
         "ids": [
          "Finland"
         ],
         "legendgroup": "Finland",
         "marker": {
          "color": "#EF553B",
          "size": [
           4996220
          ],
          "sizemode": "area",
          "sizeref": 326912.1336111111,
          "symbol": "circle"
         },
         "mode": "markers",
         "name": "Finland",
         "orientation": "v",
         "showlegend": true,
         "type": "scatter",
         "x": [
          121000000000
         ],
         "xaxis": "x",
         "y": [
          305.44100000000003
         ],
         "yaxis": "y"
        },
        {
         "hovertemplate": "country=France<br>year=1990<br>gdp=%{x}<br>total_consumption=%{y}<br>population=%{marker.size}<extra></extra>",
         "ids": [
          "France"
         ],
         "legendgroup": "France",
         "marker": {
          "color": "#00cc96",
          "size": [
           56666861
          ],
          "sizemode": "area",
          "sizeref": 326912.1336111111,
          "symbol": "circle"
         },
         "mode": "markers",
         "name": "France",
         "orientation": "v",
         "showlegend": true,
         "type": "scatter",
         "x": [
          1420000000000
         ],
         "xaxis": "x",
         "y": [
          2623.334
         ],
         "yaxis": "y"
        },
        {
         "hovertemplate": "country=Germany<br>year=1990<br>gdp=%{x}<br>total_consumption=%{y}<br>population=%{marker.size}<extra></extra>",
         "ids": [
          "Germany"
         ],
         "legendgroup": "Germany",
         "marker": {
          "color": "#ab63fa",
          "size": [
           79053984
          ],
          "sizemode": "area",
          "sizeref": 326912.1336111111,
          "symbol": "circle"
         },
         "mode": "markers",
         "name": "Germany",
         "orientation": "v",
         "showlegend": true,
         "type": "scatter",
         "x": [
          1990000000000
         ],
         "xaxis": "x",
         "y": [
          4175.834000000001
         ],
         "yaxis": "y"
        },
        {
         "hovertemplate": "country=Greece<br>year=1990<br>gdp=%{x}<br>total_consumption=%{y}<br>population=%{marker.size}<extra></extra>",
         "ids": [
          "Greece"
         ],
         "legendgroup": "Greece",
         "marker": {
          "color": "#FFA15A",
          "size": [
           10225990
          ],
          "sizemode": "area",
          "sizeref": 326912.1336111111,
          "symbol": "circle"
         },
         "mode": "markers",
         "name": "Greece",
         "orientation": "v",
         "showlegend": true,
         "type": "scatter",
         "x": [
          162000000000
         ],
         "xaxis": "x",
         "y": [
          291.41
         ],
         "yaxis": "y"
        },
        {
         "hovertemplate": "country=Hong Kong<br>year=1990<br>gdp=%{x}<br>total_consumption=%{y}<br>population=%{marker.size}<extra></extra>",
         "ids": [
          "Hong Kong"
         ],
         "legendgroup": "Hong Kong",
         "marker": {
          "color": "#19d3f3",
          "size": [
           5727942
          ],
          "sizemode": "area",
          "sizeref": 326912.1336111111,
          "symbol": "circle"
         },
         "mode": "markers",
         "name": "Hong Kong",
         "orientation": "v",
         "showlegend": true,
         "type": "scatter",
         "x": [
          153000000000
         ],
         "xaxis": "x",
         "y": [
          139.358
         ],
         "yaxis": "y"
        },
        {
         "hovertemplate": "country=Hungary<br>year=1990<br>gdp=%{x}<br>total_consumption=%{y}<br>population=%{marker.size}<extra></extra>",
         "ids": [
          "Hungary"
         ],
         "legendgroup": "Hungary",
         "marker": {
          "color": "#FF6692",
          "size": [
           10377135
          ],
          "sizemode": "area",
          "sizeref": 326912.1336111111,
          "symbol": "circle"
         },
         "mode": "markers",
         "name": "Hungary",
         "orientation": "v",
         "showlegend": true,
         "type": "scatter",
         "x": [
          125000000000
         ],
         "xaxis": "x",
         "y": [
          325.262
         ],
         "yaxis": "y"
        },
        {
         "hovertemplate": "country=Iceland<br>year=1990<br>gdp=%{x}<br>total_consumption=%{y}<br>population=%{marker.size}<extra></extra>",
         "ids": [
          "Iceland"
         ],
         "legendgroup": "Iceland",
         "marker": {
          "color": "#B6E880",
          "size": [
           255044
          ],
          "sizemode": "area",
          "sizeref": 326912.1336111111,
          "symbol": "circle"
         },
         "mode": "markers",
         "name": "Iceland",
         "orientation": "v",
         "showlegend": true,
         "type": "scatter",
         "x": [
          7592115200
         ],
         "xaxis": "x",
         "y": [
          20.141000000000002
         ],
         "yaxis": "y"
        },
        {
         "hovertemplate": "country=India<br>year=1990<br>gdp=%{x}<br>total_consumption=%{y}<br>population=%{marker.size}<extra></extra>",
         "ids": [
          "India"
         ],
         "legendgroup": "India",
         "marker": {
          "color": "#FF97FF",
          "size": [
           873277799
          ],
          "sizemode": "area",
          "sizeref": 326912.1336111111,
          "symbol": "circle"
         },
         "mode": "markers",
         "name": "India",
         "orientation": "v",
         "showlegend": true,
         "type": "scatter",
         "x": [
          1080000000000
         ],
         "xaxis": "x",
         "y": [
          2287.7740000000003
         ],
         "yaxis": "y"
        },
        {
         "hovertemplate": "country=Indonesia<br>year=1990<br>gdp=%{x}<br>total_consumption=%{y}<br>population=%{marker.size}<extra></extra>",
         "ids": [
          "Indonesia"
         ],
         "legendgroup": "Indonesia",
         "marker": {
          "color": "#FECB52",
          "size": [
           181413398
          ],
          "sizemode": "area",
          "sizeref": 326912.1336111111,
          "symbol": "circle"
         },
         "mode": "markers",
         "name": "Indonesia",
         "orientation": "v",
         "showlegend": true,
         "type": "scatter",
         "x": [
          570000000000
         ],
         "xaxis": "x",
         "y": [
          608.6
         ],
         "yaxis": "y"
        },
        {
         "hovertemplate": "country=Iran<br>year=1990<br>gdp=%{x}<br>total_consumption=%{y}<br>population=%{marker.size}<extra></extra>",
         "ids": [
          "Iran"
         ],
         "legendgroup": "Iran",
         "marker": {
          "color": "#636efa",
          "size": [
           56366212
          ],
          "sizemode": "area",
          "sizeref": 326912.1336111111,
          "symbol": "circle"
         },
         "mode": "markers",
         "name": "Iran",
         "orientation": "v",
         "showlegend": true,
         "type": "scatter",
         "x": [
          291000000000
         ],
         "xaxis": "x",
         "y": [
          843.176
         ],
         "yaxis": "y"
        },
        {
         "hovertemplate": "country=Iraq<br>year=1990<br>gdp=%{x}<br>total_consumption=%{y}<br>population=%{marker.size}<extra></extra>",
         "ids": [
          "Iraq"
         ],
         "legendgroup": "Iraq",
         "marker": {
          "color": "#EF553B",
          "size": [
           17419113
          ],
          "sizemode": "area",
          "sizeref": 326912.1336111111,
          "symbol": "circle"
         },
         "mode": "markers",
         "name": "Iraq",
         "orientation": "v",
         "showlegend": true,
         "type": "scatter",
         "x": [
          131000000000
         ],
         "xaxis": "x",
         "y": [
          228.199
         ],
         "yaxis": "y"
        },
        {
         "hovertemplate": "country=Ireland<br>year=1990<br>gdp=%{x}<br>total_consumption=%{y}<br>population=%{marker.size}<extra></extra>",
         "ids": [
          "Ireland"
         ],
         "legendgroup": "Ireland",
         "marker": {
          "color": "#00cc96",
          "size": [
           3510881
          ],
          "sizemode": "area",
          "sizeref": 326912.1336111111,
          "symbol": "circle"
         },
         "mode": "markers",
         "name": "Ireland",
         "orientation": "v",
         "showlegend": true,
         "type": "scatter",
         "x": [
          61807452160
         ],
         "xaxis": "x",
         "y": [
          116.91
         ],
         "yaxis": "y"
        },
        {
         "hovertemplate": "country=Israel<br>year=1990<br>gdp=%{x}<br>total_consumption=%{y}<br>population=%{marker.size}<extra></extra>",
         "ids": [
          "Israel"
         ],
         "legendgroup": "Israel",
         "marker": {
          "color": "#ab63fa",
          "size": [
           4448348
          ],
          "sizemode": "area",
          "sizeref": 326912.1336111111,
          "symbol": "circle"
         },
         "mode": "markers",
         "name": "Israel",
         "orientation": "v",
         "showlegend": true,
         "type": "scatter",
         "x": [
          94369374208
         ],
         "xaxis": "x",
         "y": [
          133.046
         ],
         "yaxis": "y"
        },
        {
         "hovertemplate": "country=Italy<br>year=1990<br>gdp=%{x}<br>total_consumption=%{y}<br>population=%{marker.size}<extra></extra>",
         "ids": [
          "Italy"
         ],
         "legendgroup": "Italy",
         "marker": {
          "color": "#FFA15A",
          "size": [
           57048237
          ],
          "sizemode": "area",
          "sizeref": 326912.1336111111,
          "symbol": "circle"
         },
         "mode": "markers",
         "name": "Italy",
         "orientation": "v",
         "showlegend": true,
         "type": "scatter",
         "x": [
          1420000000000
         ],
         "xaxis": "x",
         "y": [
          1817.187
         ],
         "yaxis": "y"
        },
        {
         "hovertemplate": "country=Japan<br>year=1990<br>gdp=%{x}<br>total_consumption=%{y}<br>population=%{marker.size}<extra></extra>",
         "ids": [
          "Japan"
         ],
         "legendgroup": "Japan",
         "marker": {
          "color": "#19d3f3",
          "size": [
           124505243
          ],
          "sizemode": "area",
          "sizeref": 326912.1336111111,
          "symbol": "circle"
         },
         "mode": "markers",
         "name": "Japan",
         "orientation": "v",
         "showlegend": true,
         "type": "scatter",
         "x": [
          3250000000000
         ],
         "xaxis": "x",
         "y": [
          5137.045
         ],
         "yaxis": "y"
        },
        {
         "hovertemplate": "country=Kazakhstan<br>year=1990<br>gdp=%{x}<br>total_consumption=%{y}<br>population=%{marker.size}<extra></extra>",
         "ids": [
          "Kazakhstan"
         ],
         "legendgroup": "Kazakhstan",
         "marker": {
          "color": "#FF6692",
          "size": [
           16383881
          ],
          "sizemode": "area",
          "sizeref": 326912.1336111111,
          "symbol": "circle"
         },
         "mode": "markers",
         "name": "Kazakhstan",
         "orientation": "v",
         "showlegend": true,
         "type": "scatter",
         "x": [
          186000000000
         ],
         "xaxis": "x",
         "y": [
          858.107
         ],
         "yaxis": "y"
        },
        {
         "hovertemplate": "country=Kuwait<br>year=1990<br>gdp=%{x}<br>total_consumption=%{y}<br>population=%{marker.size}<extra></extra>",
         "ids": [
          "Kuwait"
         ],
         "legendgroup": "Kuwait",
         "marker": {
          "color": "#B6E880",
          "size": [
           2095350
          ],
          "sizemode": "area",
          "sizeref": 326912.1336111111,
          "symbol": "circle"
         },
         "mode": "markers",
         "name": "Kuwait",
         "orientation": "v",
         "showlegend": true,
         "type": "scatter",
         "x": [
          46519955456
         ],
         "xaxis": "x",
         "y": [
          79.178
         ],
         "yaxis": "y"
        },
        {
         "hovertemplate": "country=Latvia<br>year=1990<br>gdp=%{x}<br>total_consumption=%{y}<br>population=%{marker.size}<extra></extra>",
         "ids": [
          "Latvia"
         ],
         "legendgroup": "Latvia",
         "marker": {
          "color": "#FF97FF",
          "size": [
           2664447
          ],
          "sizemode": "area",
          "sizeref": 326912.1336111111,
          "symbol": "circle"
         },
         "mode": "markers",
         "name": "Latvia",
         "orientation": "v",
         "showlegend": true,
         "type": "scatter",
         "x": [
          36680617984
         ],
         "xaxis": "x",
         "y": [
          85.661
         ],
         "yaxis": "y"
        },
        {
         "hovertemplate": "country=Lithuania<br>year=1990<br>gdp=%{x}<br>total_consumption=%{y}<br>population=%{marker.size}<extra></extra>",
         "ids": [
          "Lithuania"
         ],
         "legendgroup": "Lithuania",
         "marker": {
          "color": "#FECB52",
          "size": [
           3696035
          ],
          "sizemode": "area",
          "sizeref": 326912.1336111111,
          "symbol": "circle"
         },
         "mode": "markers",
         "name": "Lithuania",
         "orientation": "v",
         "showlegend": true,
         "type": "scatter",
         "x": [
          43767275520
         ],
         "xaxis": "x",
         "y": [
          200.79500000000002
         ],
         "yaxis": "y"
        },
        {
         "hovertemplate": "country=Luxembourg<br>year=1990<br>gdp=%{x}<br>total_consumption=%{y}<br>population=%{marker.size}<extra></extra>",
         "ids": [
          "Luxembourg"
         ],
         "legendgroup": "Luxembourg",
         "marker": {
          "color": "#636efa",
          "size": [
           381780
          ],
          "sizemode": "area",
          "sizeref": 326912.1336111111,
          "symbol": "circle"
         },
         "mode": "markers",
         "name": "Luxembourg",
         "orientation": "v",
         "showlegend": true,
         "type": "scatter",
         "x": [
          13483514880
         ],
         "xaxis": "x",
         "y": [
          37.098
         ],
         "yaxis": "y"
        },
        {
         "hovertemplate": "country=Malaysia<br>year=1990<br>gdp=%{x}<br>total_consumption=%{y}<br>population=%{marker.size}<extra></extra>",
         "ids": [
          "Malaysia"
         ],
         "legendgroup": "Malaysia",
         "marker": {
          "color": "#EF553B",
          "size": [
           18029824
          ],
          "sizemode": "area",
          "sizeref": 326912.1336111111,
          "symbol": "circle"
         },
         "mode": "markers",
         "name": "Malaysia",
         "orientation": "v",
         "showlegend": true,
         "type": "scatter",
         "x": [
          148000000000
         ],
         "xaxis": "x",
         "y": [
          257.37
         ],
         "yaxis": "y"
        },
        {
         "hovertemplate": "country=Mexico<br>year=1990<br>gdp=%{x}<br>total_consumption=%{y}<br>population=%{marker.size}<extra></extra>",
         "ids": [
          "Mexico"
         ],
         "legendgroup": "Mexico",
         "marker": {
          "color": "#00cc96",
          "size": [
           83943135
          ],
          "sizemode": "area",
          "sizeref": 326912.1336111111,
          "symbol": "circle"
         },
         "mode": "markers",
         "name": "Mexico",
         "orientation": "v",
         "showlegend": true,
         "type": "scatter",
         "x": [
          829000000000
         ],
         "xaxis": "x",
         "y": [
          1253.585
         ],
         "yaxis": "y"
        },
        {
         "hovertemplate": "country=Morocco<br>year=1990<br>gdp=%{x}<br>total_consumption=%{y}<br>population=%{marker.size}<extra></extra>",
         "ids": [
          "Morocco"
         ],
         "legendgroup": "Morocco",
         "marker": {
          "color": "#ab63fa",
          "size": [
           24807461
          ],
          "sizemode": "area",
          "sizeref": 326912.1336111111,
          "symbol": "circle"
         },
         "mode": "markers",
         "name": "Morocco",
         "orientation": "v",
         "showlegend": true,
         "type": "scatter",
         "x": [
          119000000000
         ],
         "xaxis": "x",
         "y": [
          82.536
         ],
         "yaxis": "y"
        },
        {
         "hovertemplate": "country=Netherlands<br>year=1990<br>gdp=%{x}<br>total_consumption=%{y}<br>population=%{marker.size}<extra></extra>",
         "ids": [
          "Netherlands"
         ],
         "legendgroup": "Netherlands",
         "marker": {
          "color": "#FFA15A",
          "size": [
           14965442
          ],
          "sizemode": "area",
          "sizeref": 326912.1336111111,
          "symbol": "circle"
         },
         "mode": "markers",
         "name": "Netherlands",
         "orientation": "v",
         "showlegend": true,
         "type": "scatter",
         "x": [
          376000000000
         ],
         "xaxis": "x",
         "y": [
          908.3629999999999
         ],
         "yaxis": "y"
        },
        {
         "hovertemplate": "country=New Zealand<br>year=1990<br>gdp=%{x}<br>total_consumption=%{y}<br>population=%{marker.size}<extra></extra>",
         "ids": [
          "New Zealand"
         ],
         "legendgroup": "New Zealand",
         "marker": {
          "color": "#19d3f3",
          "size": [
           3398175
          ],
          "sizemode": "area",
          "sizeref": 326912.1336111111,
          "symbol": "circle"
         },
         "mode": "markers",
         "name": "New Zealand",
         "orientation": "v",
         "showlegend": true,
         "type": "scatter",
         "x": [
          68126371840
         ],
         "xaxis": "x",
         "y": [
          174.902
         ],
         "yaxis": "y"
        },
        {
         "hovertemplate": "country=North Macedonia<br>year=1990<br>gdp=%{x}<br>total_consumption=%{y}<br>population=%{marker.size}<extra></extra>",
         "ids": [
          "North Macedonia"
         ],
         "legendgroup": "North Macedonia",
         "marker": {
          "color": "#FF6692",
          "size": [
           1996218
          ],
          "sizemode": "area",
          "sizeref": 326912.1336111111,
          "symbol": "circle"
         },
         "mode": "markers",
         "name": "North Macedonia",
         "orientation": "v",
         "showlegend": true,
         "type": "scatter",
         "x": [
          14768896000
         ],
         "xaxis": "x",
         "y": [
          29.572
         ],
         "yaxis": "y"
        },
        {
         "hovertemplate": "country=Norway<br>year=1990<br>gdp=%{x}<br>total_consumption=%{y}<br>population=%{marker.size}<extra></extra>",
         "ids": [
          "Norway"
         ],
         "legendgroup": "Norway",
         "marker": {
          "color": "#B6E880",
          "size": [
           4247286
          ],
          "sizemode": "area",
          "sizeref": 326912.1336111111,
          "symbol": "circle"
         },
         "mode": "markers",
         "name": "Norway",
         "orientation": "v",
         "showlegend": true,
         "type": "scatter",
         "x": [
          129000000000
         ],
         "xaxis": "x",
         "y": [
          473.008
         ],
         "yaxis": "y"
        },
        {
         "hovertemplate": "country=Oman<br>year=1990<br>gdp=%{x}<br>total_consumption=%{y}<br>population=%{marker.size}<extra></extra>",
         "ids": [
          "Oman"
         ],
         "legendgroup": "Oman",
         "marker": {
          "color": "#FF97FF",
          "size": [
           1812158
          ],
          "sizemode": "area",
          "sizeref": 326912.1336111111,
          "symbol": "circle"
         },
         "mode": "markers",
         "name": "Oman",
         "orientation": "v",
         "showlegend": true,
         "type": "scatter",
         "x": [
          21582729216
         ],
         "xaxis": "x",
         "y": [
          48.864000000000004
         ],
         "yaxis": "y"
        },
        {
         "hovertemplate": "country=Pakistan<br>year=1990<br>gdp=%{x}<br>total_consumption=%{y}<br>population=%{marker.size}<extra></extra>",
         "ids": [
          "Pakistan"
         ],
         "legendgroup": "Pakistan",
         "marker": {
          "color": "#FECB52",
          "size": [
           107647918
          ],
          "sizemode": "area",
          "sizeref": 326912.1336111111,
          "symbol": "circle"
         },
         "mode": "markers",
         "name": "Pakistan",
         "orientation": "v",
         "showlegend": true,
         "type": "scatter",
         "x": [
          283000000000
         ],
         "xaxis": "x",
         "y": [
          302.40999999999997
         ],
         "yaxis": "y"
        },
        {
         "hovertemplate": "country=Peru<br>year=1990<br>gdp=%{x}<br>total_consumption=%{y}<br>population=%{marker.size}<extra></extra>",
         "ids": [
          "Peru"
         ],
         "legendgroup": "Peru",
         "marker": {
          "color": "#636efa",
          "size": [
           22071433
          ],
          "sizemode": "area",
          "sizeref": 326912.1336111111,
          "symbol": "circle"
         },
         "mode": "markers",
         "name": "Peru",
         "orientation": "v",
         "showlegend": true,
         "type": "scatter",
         "x": [
          72597602304
         ],
         "xaxis": "x",
         "y": [
          104.819
         ],
         "yaxis": "y"
        },
        {
         "hovertemplate": "country=Philippines<br>year=1990<br>gdp=%{x}<br>total_consumption=%{y}<br>population=%{marker.size}<extra></extra>",
         "ids": [
          "Philippines"
         ],
         "legendgroup": "Philippines",
         "marker": {
          "color": "#EF553B",
          "size": [
           61895169
          ],
          "sizemode": "area",
          "sizeref": 326912.1336111111,
          "symbol": "circle"
         },
         "mode": "markers",
         "name": "Philippines",
         "orientation": "v",
         "showlegend": true,
         "type": "scatter",
         "x": [
          240000000000
         ],
         "xaxis": "x",
         "y": [
          165.82299999999998
         ],
         "yaxis": "y"
        },
        {
         "hovertemplate": "country=Poland<br>year=1990<br>gdp=%{x}<br>total_consumption=%{y}<br>population=%{marker.size}<extra></extra>",
         "ids": [
          "Poland"
         ],
         "legendgroup": "Poland",
         "marker": {
          "color": "#00cc96",
          "size": [
           37960193
          ],
          "sizemode": "area",
          "sizeref": 326912.1336111111,
          "symbol": "circle"
         },
         "mode": "markers",
         "name": "Poland",
         "orientation": "v",
         "showlegend": true,
         "type": "scatter",
         "x": [
          285000000000
         ],
         "xaxis": "x",
         "y": [
          1209.9009999999998
         ],
         "yaxis": "y"
        },
        {
         "hovertemplate": "country=Portugal<br>year=1990<br>gdp=%{x}<br>total_consumption=%{y}<br>population=%{marker.size}<extra></extra>",
         "ids": [
          "Portugal"
         ],
         "legendgroup": "Portugal",
         "marker": {
          "color": "#ab63fa",
          "size": [
           9895358
          ],
          "sizemode": "area",
          "sizeref": 326912.1336111111,
          "symbol": "circle"
         },
         "mode": "markers",
         "name": "Portugal",
         "orientation": "v",
         "showlegend": true,
         "type": "scatter",
         "x": [
          138000000000
         ],
         "xaxis": "x",
         "y": [
          194.61199999999997
         ],
         "yaxis": "y"
        },
        {
         "hovertemplate": "country=Qatar<br>year=1990<br>gdp=%{x}<br>total_consumption=%{y}<br>population=%{marker.size}<extra></extra>",
         "ids": [
          "Qatar"
         ],
         "legendgroup": "Qatar",
         "marker": {
          "color": "#FFA15A",
          "size": [
           476275
          ],
          "sizemode": "area",
          "sizeref": 326912.1336111111,
          "symbol": "circle"
         },
         "mode": "markers",
         "name": "Qatar",
         "orientation": "v",
         "showlegend": true,
         "type": "scatter",
         "x": [
          14775980032
         ],
         "xaxis": "x",
         "y": [
          86.29599999999999
         ],
         "yaxis": "y"
        },
        {
         "hovertemplate": "country=Romania<br>year=1990<br>gdp=%{x}<br>total_consumption=%{y}<br>population=%{marker.size}<extra></extra>",
         "ids": [
          "Romania"
         ],
         "legendgroup": "Romania",
         "marker": {
          "color": "#19d3f3",
          "size": [
           23489156
          ],
          "sizemode": "area",
          "sizeref": 326912.1336111111,
          "symbol": "circle"
         },
         "mode": "markers",
         "name": "Romania",
         "orientation": "v",
         "showlegend": true,
         "type": "scatter",
         "x": [
          157000000000
         ],
         "xaxis": "x",
         "y": [
          733.1679999999999
         ],
         "yaxis": "y"
        },
        {
         "hovertemplate": "country=Russia<br>year=1990<br>gdp=%{x}<br>total_consumption=%{y}<br>population=%{marker.size}<extra></extra>",
         "ids": [
          "Russia"
         ],
         "legendgroup": "Russia",
         "marker": {
          "color": "#FF6692",
          "size": [
           147531562
          ],
          "sizemode": "area",
          "sizeref": 326912.1336111111,
          "symbol": "circle"
         },
         "mode": "markers",
         "name": "Russia",
         "orientation": "v",
         "showlegend": true,
         "type": "scatter",
         "x": [
          2710000000000
         ],
         "xaxis": "x",
         "y": [
          10038.945
         ],
         "yaxis": "y"
        },
        {
         "hovertemplate": "country=Saudi Arabia<br>year=1990<br>gdp=%{x}<br>total_consumption=%{y}<br>population=%{marker.size}<extra></extra>",
         "ids": [
          "Saudi Arabia"
         ],
         "legendgroup": "Saudi Arabia",
         "marker": {
          "color": "#B6E880",
          "size": [
           16233786
          ],
          "sizemode": "area",
          "sizeref": 326912.1336111111,
          "symbol": "circle"
         },
         "mode": "markers",
         "name": "Saudi Arabia",
         "orientation": "v",
         "showlegend": true,
         "type": "scatter",
         "x": [
          289000000000
         ],
         "xaxis": "x",
         "y": [
          928.3499999999999
         ],
         "yaxis": "y"
        },
        {
         "hovertemplate": "country=Singapore<br>year=1990<br>gdp=%{x}<br>total_consumption=%{y}<br>population=%{marker.size}<extra></extra>",
         "ids": [
          "Singapore"
         ],
         "legendgroup": "Singapore",
         "marker": {
          "color": "#FF97FF",
          "size": [
           3012968
          ],
          "sizemode": "area",
          "sizeref": 326912.1336111111,
          "symbol": "circle"
         },
         "mode": "markers",
         "name": "Singapore",
         "orientation": "v",
         "showlegend": true,
         "type": "scatter",
         "x": [
          47155372032
         ],
         "xaxis": "x",
         "y": [
          272.83200000000005
         ],
         "yaxis": "y"
        },
        {
         "hovertemplate": "country=Slovakia<br>year=1990<br>gdp=%{x}<br>total_consumption=%{y}<br>population=%{marker.size}<extra></extra>",
         "ids": [
          "Slovakia"
         ],
         "legendgroup": "Slovakia",
         "marker": {
          "color": "#FECB52",
          "size": [
           5288455
          ],
          "sizemode": "area",
          "sizeref": 326912.1336111111,
          "symbol": "circle"
         },
         "mode": "markers",
         "name": "Slovakia",
         "orientation": "v",
         "showlegend": true,
         "type": "scatter",
         "x": [
          79160786944
         ],
         "xaxis": "x",
         "y": [
          247.297
         ],
         "yaxis": "y"
        },
        {
         "hovertemplate": "country=Slovenia<br>year=1990<br>gdp=%{x}<br>total_consumption=%{y}<br>population=%{marker.size}<extra></extra>",
         "ids": [
          "Slovenia"
         ],
         "legendgroup": "Slovenia",
         "marker": {
          "color": "#636efa",
          "size": [
           2006404
          ],
          "sizemode": "area",
          "sizeref": 326912.1336111111,
          "symbol": "circle"
         },
         "mode": "markers",
         "name": "Slovenia",
         "orientation": "v",
         "showlegend": true,
         "type": "scatter",
         "x": [
          33199925248
         ],
         "xaxis": "x",
         "y": [
          68.489
         ],
         "yaxis": "y"
        },
        {
         "hovertemplate": "country=South Africa<br>year=1990<br>gdp=%{x}<br>total_consumption=%{y}<br>population=%{marker.size}<extra></extra>",
         "ids": [
          "South Africa"
         ],
         "legendgroup": "South Africa",
         "marker": {
          "color": "#EF553B",
          "size": [
           36800507
          ],
          "sizemode": "area",
          "sizeref": 326912.1336111111,
          "symbol": "circle"
         },
         "mode": "markers",
         "name": "South Africa",
         "orientation": "v",
         "showlegend": true,
         "type": "scatter",
         "x": [
          303000000000
         ],
         "xaxis": "x",
         "y": [
          1028.984
         ],
         "yaxis": "y"
        },
        {
         "hovertemplate": "country=South Korea<br>year=1990<br>gdp=%{x}<br>total_consumption=%{y}<br>population=%{marker.size}<extra></extra>",
         "ids": [
          "South Korea"
         ],
         "legendgroup": "South Korea",
         "marker": {
          "color": "#00cc96",
          "size": [
           42918416
          ],
          "sizemode": "area",
          "sizeref": 326912.1336111111,
          "symbol": "circle"
         },
         "mode": "markers",
         "name": "South Korea",
         "orientation": "v",
         "showlegend": true,
         "type": "scatter",
         "x": [
          542000000000
         ],
         "xaxis": "x",
         "y": [
          1062.039
         ],
         "yaxis": "y"
        },
        {
         "hovertemplate": "country=Spain<br>year=1990<br>gdp=%{x}<br>total_consumption=%{y}<br>population=%{marker.size}<extra></extra>",
         "ids": [
          "Spain"
         ],
         "legendgroup": "Spain",
         "marker": {
          "color": "#ab63fa",
          "size": [
           39202524
          ],
          "sizemode": "area",
          "sizeref": 326912.1336111111,
          "symbol": "circle"
         },
         "mode": "markers",
         "name": "Spain",
         "orientation": "v",
         "showlegend": true,
         "type": "scatter",
         "x": [
          660000000000
         ],
         "xaxis": "x",
         "y": [
          1059.372
         ],
         "yaxis": "y"
        },
        {
         "hovertemplate": "country=Sri Lanka<br>year=1990<br>gdp=%{x}<br>total_consumption=%{y}<br>population=%{marker.size}<extra></extra>",
         "ids": [
          "Sri Lanka"
         ],
         "legendgroup": "Sri Lanka",
         "marker": {
          "color": "#FFA15A",
          "size": [
           17325769
          ],
          "sizemode": "area",
          "sizeref": 326912.1336111111,
          "symbol": "circle"
         },
         "mode": "markers",
         "name": "Sri Lanka",
         "orientation": "v",
         "showlegend": true,
         "type": "scatter",
         "x": [
          52563853312
         ],
         "xaxis": "x",
         "y": [
          24.132
         ],
         "yaxis": "y"
        },
        {
         "hovertemplate": "country=Sweden<br>year=1990<br>gdp=%{x}<br>total_consumption=%{y}<br>population=%{marker.size}<extra></extra>",
         "ids": [
          "Sweden"
         ],
         "legendgroup": "Sweden",
         "marker": {
          "color": "#19d3f3",
          "size": [
           8567375
          ],
          "sizemode": "area",
          "sizeref": 326912.1336111111,
          "symbol": "circle"
         },
         "mode": "markers",
         "name": "Sweden",
         "orientation": "v",
         "showlegend": true,
         "type": "scatter",
         "x": [
          226000000000
         ],
         "xaxis": "x",
         "y": [
          659.0409999999999
         ],
         "yaxis": "y"
        },
        {
         "hovertemplate": "country=Switzerland<br>year=1990<br>gdp=%{x}<br>total_consumption=%{y}<br>population=%{marker.size}<extra></extra>",
         "ids": [
          "Switzerland"
         ],
         "legendgroup": "Switzerland",
         "marker": {
          "color": "#FF6692",
          "size": [
           6652873
          ],
          "sizemode": "area",
          "sizeref": 326912.1336111111,
          "symbol": "circle"
         },
         "mode": "markers",
         "name": "Switzerland",
         "orientation": "v",
         "showlegend": true,
         "type": "scatter",
         "x": [
          243000000000
         ],
         "xaxis": "x",
         "y": [
          323.486
         ],
         "yaxis": "y"
        },
        {
         "hovertemplate": "country=Taiwan<br>year=1990<br>gdp=%{x}<br>total_consumption=%{y}<br>population=%{marker.size}<extra></extra>",
         "ids": [
          "Taiwan"
         ],
         "legendgroup": "Taiwan",
         "marker": {
          "color": "#B6E880",
          "size": [
           20478516
          ],
          "sizemode": "area",
          "sizeref": 326912.1336111111,
          "symbol": "circle"
         },
         "mode": "markers",
         "name": "Taiwan",
         "orientation": "v",
         "showlegend": true,
         "type": "scatter",
         "x": [
          380000000000
         ],
         "xaxis": "x",
         "y": [
          592.825
         ],
         "yaxis": "y"
        },
        {
         "hovertemplate": "country=Thailand<br>year=1990<br>gdp=%{x}<br>total_consumption=%{y}<br>population=%{marker.size}<extra></extra>",
         "ids": [
          "Thailand"
         ],
         "legendgroup": "Thailand",
         "marker": {
          "color": "#FF97FF",
          "size": [
           56558196
          ],
          "sizemode": "area",
          "sizeref": 326912.1336111111,
          "symbol": "circle"
         },
         "mode": "markers",
         "name": "Thailand",
         "orientation": "v",
         "showlegend": true,
         "type": "scatter",
         "x": [
          297000000000
         ],
         "xaxis": "x",
         "y": [
          360.616
         ],
         "yaxis": "y"
        },
        {
         "hovertemplate": "country=Trinidad and Tobago<br>year=1990<br>gdp=%{x}<br>total_consumption=%{y}<br>population=%{marker.size}<extra></extra>",
         "ids": [
          "Trinidad and Tobago"
         ],
         "legendgroup": "Trinidad and Tobago",
         "marker": {
          "color": "#FECB52",
          "size": [
           1221121
          ],
          "sizemode": "area",
          "sizeref": 326912.1336111111,
          "symbol": "circle"
         },
         "mode": "markers",
         "name": "Trinidad and Tobago",
         "orientation": "v",
         "showlegend": true,
         "type": "scatter",
         "x": [
          11786959872
         ],
         "xaxis": "x",
         "y": [
          69.501
         ],
         "yaxis": "y"
        },
        {
         "hovertemplate": "country=Turkey<br>year=1990<br>gdp=%{x}<br>total_consumption=%{y}<br>population=%{marker.size}<extra></extra>",
         "ids": [
          "Turkey"
         ],
         "legendgroup": "Turkey",
         "marker": {
          "color": "#636efa",
          "size": [
           53921758
          ],
          "sizemode": "area",
          "sizeref": 326912.1336111111,
          "symbol": "circle"
         },
         "mode": "markers",
         "name": "Turkey",
         "orientation": "v",
         "showlegend": true,
         "type": "scatter",
         "x": [
          567000000000
         ],
         "xaxis": "x",
         "y": [
          557.623
         ],
         "yaxis": "y"
        },
        {
         "hovertemplate": "country=Turkmenistan<br>year=1990<br>gdp=%{x}<br>total_consumption=%{y}<br>population=%{marker.size}<extra></extra>",
         "ids": [
          "Turkmenistan"
         ],
         "legendgroup": "Turkmenistan",
         "marker": {
          "color": "#EF553B",
          "size": [
           3683978
          ],
          "sizemode": "area",
          "sizeref": 326912.1336111111,
          "symbol": "circle"
         },
         "mode": "markers",
         "name": "Turkmenistan",
         "orientation": "v",
         "showlegend": true,
         "type": "scatter",
         "x": [
          21721204736
         ],
         "xaxis": "x",
         "y": [
          151.891
         ],
         "yaxis": "y"
        },
        {
         "hovertemplate": "country=Ukraine<br>year=1990<br>gdp=%{x}<br>total_consumption=%{y}<br>population=%{marker.size}<extra></extra>",
         "ids": [
          "Ukraine"
         ],
         "legendgroup": "Ukraine",
         "marker": {
          "color": "#00cc96",
          "size": [
           51463101
          ],
          "sizemode": "area",
          "sizeref": 326912.1336111111,
          "symbol": "circle"
         },
         "mode": "markers",
         "name": "Ukraine",
         "orientation": "v",
         "showlegend": true,
         "type": "scatter",
         "x": [
          549000000000
         ],
         "xaxis": "x",
         "y": [
          3171.1549999999997
         ],
         "yaxis": "y"
        },
        {
         "hovertemplate": "country=United Arab Emirates<br>year=1990<br>gdp=%{x}<br>total_consumption=%{y}<br>population=%{marker.size}<extra></extra>",
         "ids": [
          "United Arab Emirates"
         ],
         "legendgroup": "United Arab Emirates",
         "marker": {
          "color": "#ab63fa",
          "size": [
           1828437
          ],
          "sizemode": "area",
          "sizeref": 326912.1336111111,
          "symbol": "circle"
         },
         "mode": "markers",
         "name": "United Arab Emirates",
         "orientation": "v",
         "showlegend": true,
         "type": "scatter",
         "x": [
          null
         ],
         "xaxis": "x",
         "y": [
          347.019
         ],
         "yaxis": "y"
        },
        {
         "hovertemplate": "country=United Kingdom<br>year=1990<br>gdp=%{x}<br>total_consumption=%{y}<br>population=%{marker.size}<extra></extra>",
         "ids": [
          "United Kingdom"
         ],
         "legendgroup": "United Kingdom",
         "marker": {
          "color": "#FFA15A",
          "size": [
           57134377
          ],
          "sizemode": "area",
          "sizeref": 326912.1336111111,
          "symbol": "circle"
         },
         "mode": "markers",
         "name": "United Kingdom",
         "orientation": "v",
         "showlegend": true,
         "type": "scatter",
         "x": [
          1380000000000
         ],
         "xaxis": "x",
         "y": [
          2501.647
         ],
         "yaxis": "y"
        },
        {
         "hovertemplate": "country=United States<br>year=1990<br>gdp=%{x}<br>total_consumption=%{y}<br>population=%{marker.size}<extra></extra>",
         "ids": [
          "United States"
         ],
         "legendgroup": "United States",
         "marker": {
          "color": "#19d3f3",
          "size": [
           252120309
          ],
          "sizemode": "area",
          "sizeref": 326912.1336111111,
          "symbol": "circle"
         },
         "mode": "markers",
         "name": "United States",
         "orientation": "v",
         "showlegend": true,
         "type": "scatter",
         "x": [
          9250000000000
         ],
         "xaxis": "x",
         "y": [
          22338.548
         ],
         "yaxis": "y"
        },
        {
         "hovertemplate": "country=Uzbekistan<br>year=1990<br>gdp=%{x}<br>total_consumption=%{y}<br>population=%{marker.size}<extra></extra>",
         "ids": [
          "Uzbekistan"
         ],
         "legendgroup": "Uzbekistan",
         "marker": {
          "color": "#FF6692",
          "size": [
           20398347
          ],
          "sizemode": "area",
          "sizeref": 326912.1336111111,
          "symbol": "circle"
         },
         "mode": "markers",
         "name": "Uzbekistan",
         "orientation": "v",
         "showlegend": true,
         "type": "scatter",
         "x": [
          91235319808
         ],
         "xaxis": "x",
         "y": [
          507.737
         ],
         "yaxis": "y"
        },
        {
         "hovertemplate": "country=Venezuela<br>year=1990<br>gdp=%{x}<br>total_consumption=%{y}<br>population=%{marker.size}<extra></extra>",
         "ids": [
          "Venezuela"
         ],
         "legendgroup": "Venezuela",
         "marker": {
          "color": "#B6E880",
          "size": [
           19632665
          ],
          "sizemode": "area",
          "sizeref": 326912.1336111111,
          "symbol": "circle"
         },
         "mode": "markers",
         "name": "Venezuela",
         "orientation": "v",
         "showlegend": true,
         "type": "scatter",
         "x": [
          149000000000
         ],
         "xaxis": "x",
         "y": [
          596.927
         ],
         "yaxis": "y"
        },
        {
         "hovertemplate": "country=Vietnam<br>year=1990<br>gdp=%{x}<br>total_consumption=%{y}<br>population=%{marker.size}<extra></extra>",
         "ids": [
          "Vietnam"
         ],
         "legendgroup": "Vietnam",
         "marker": {
          "color": "#FF97FF",
          "size": [
           67988855
          ],
          "sizemode": "area",
          "sizeref": 326912.1336111111,
          "symbol": "circle"
         },
         "mode": "markers",
         "name": "Vietnam",
         "orientation": "v",
         "showlegend": true,
         "type": "scatter",
         "x": [
          80739598336
         ],
         "xaxis": "x",
         "y": [
          75.845
         ],
         "yaxis": "y"
        }
       ],
       "layout": {
        "legend": {
         "itemsizing": "constant",
         "title": {
          "text": "country"
         },
         "tracegroupgap": 0
        },
        "margin": {
         "t": 60
        },
        "template": {
         "data": {
          "bar": [
           {
            "error_x": {
             "color": "#2a3f5f"
            },
            "error_y": {
             "color": "#2a3f5f"
            },
            "marker": {
             "line": {
              "color": "#E5ECF6",
              "width": 0.5
             },
             "pattern": {
              "fillmode": "overlay",
              "size": 10,
              "solidity": 0.2
             }
            },
            "type": "bar"
           }
          ],
          "barpolar": [
           {
            "marker": {
             "line": {
              "color": "#E5ECF6",
              "width": 0.5
             },
             "pattern": {
              "fillmode": "overlay",
              "size": 10,
              "solidity": 0.2
             }
            },
            "type": "barpolar"
           }
          ],
          "carpet": [
           {
            "aaxis": {
             "endlinecolor": "#2a3f5f",
             "gridcolor": "white",
             "linecolor": "white",
             "minorgridcolor": "white",
             "startlinecolor": "#2a3f5f"
            },
            "baxis": {
             "endlinecolor": "#2a3f5f",
             "gridcolor": "white",
             "linecolor": "white",
             "minorgridcolor": "white",
             "startlinecolor": "#2a3f5f"
            },
            "type": "carpet"
           }
          ],
          "choropleth": [
           {
            "colorbar": {
             "outlinewidth": 0,
             "ticks": ""
            },
            "type": "choropleth"
           }
          ],
          "contour": [
           {
            "colorbar": {
             "outlinewidth": 0,
             "ticks": ""
            },
            "colorscale": [
             [
              0,
              "#0d0887"
             ],
             [
              0.1111111111111111,
              "#46039f"
             ],
             [
              0.2222222222222222,
              "#7201a8"
             ],
             [
              0.3333333333333333,
              "#9c179e"
             ],
             [
              0.4444444444444444,
              "#bd3786"
             ],
             [
              0.5555555555555556,
              "#d8576b"
             ],
             [
              0.6666666666666666,
              "#ed7953"
             ],
             [
              0.7777777777777778,
              "#fb9f3a"
             ],
             [
              0.8888888888888888,
              "#fdca26"
             ],
             [
              1,
              "#f0f921"
             ]
            ],
            "type": "contour"
           }
          ],
          "contourcarpet": [
           {
            "colorbar": {
             "outlinewidth": 0,
             "ticks": ""
            },
            "type": "contourcarpet"
           }
          ],
          "heatmap": [
           {
            "colorbar": {
             "outlinewidth": 0,
             "ticks": ""
            },
            "colorscale": [
             [
              0,
              "#0d0887"
             ],
             [
              0.1111111111111111,
              "#46039f"
             ],
             [
              0.2222222222222222,
              "#7201a8"
             ],
             [
              0.3333333333333333,
              "#9c179e"
             ],
             [
              0.4444444444444444,
              "#bd3786"
             ],
             [
              0.5555555555555556,
              "#d8576b"
             ],
             [
              0.6666666666666666,
              "#ed7953"
             ],
             [
              0.7777777777777778,
              "#fb9f3a"
             ],
             [
              0.8888888888888888,
              "#fdca26"
             ],
             [
              1,
              "#f0f921"
             ]
            ],
            "type": "heatmap"
           }
          ],
          "heatmapgl": [
           {
            "colorbar": {
             "outlinewidth": 0,
             "ticks": ""
            },
            "colorscale": [
             [
              0,
              "#0d0887"
             ],
             [
              0.1111111111111111,
              "#46039f"
             ],
             [
              0.2222222222222222,
              "#7201a8"
             ],
             [
              0.3333333333333333,
              "#9c179e"
             ],
             [
              0.4444444444444444,
              "#bd3786"
             ],
             [
              0.5555555555555556,
              "#d8576b"
             ],
             [
              0.6666666666666666,
              "#ed7953"
             ],
             [
              0.7777777777777778,
              "#fb9f3a"
             ],
             [
              0.8888888888888888,
              "#fdca26"
             ],
             [
              1,
              "#f0f921"
             ]
            ],
            "type": "heatmapgl"
           }
          ],
          "histogram": [
           {
            "marker": {
             "pattern": {
              "fillmode": "overlay",
              "size": 10,
              "solidity": 0.2
             }
            },
            "type": "histogram"
           }
          ],
          "histogram2d": [
           {
            "colorbar": {
             "outlinewidth": 0,
             "ticks": ""
            },
            "colorscale": [
             [
              0,
              "#0d0887"
             ],
             [
              0.1111111111111111,
              "#46039f"
             ],
             [
              0.2222222222222222,
              "#7201a8"
             ],
             [
              0.3333333333333333,
              "#9c179e"
             ],
             [
              0.4444444444444444,
              "#bd3786"
             ],
             [
              0.5555555555555556,
              "#d8576b"
             ],
             [
              0.6666666666666666,
              "#ed7953"
             ],
             [
              0.7777777777777778,
              "#fb9f3a"
             ],
             [
              0.8888888888888888,
              "#fdca26"
             ],
             [
              1,
              "#f0f921"
             ]
            ],
            "type": "histogram2d"
           }
          ],
          "histogram2dcontour": [
           {
            "colorbar": {
             "outlinewidth": 0,
             "ticks": ""
            },
            "colorscale": [
             [
              0,
              "#0d0887"
             ],
             [
              0.1111111111111111,
              "#46039f"
             ],
             [
              0.2222222222222222,
              "#7201a8"
             ],
             [
              0.3333333333333333,
              "#9c179e"
             ],
             [
              0.4444444444444444,
              "#bd3786"
             ],
             [
              0.5555555555555556,
              "#d8576b"
             ],
             [
              0.6666666666666666,
              "#ed7953"
             ],
             [
              0.7777777777777778,
              "#fb9f3a"
             ],
             [
              0.8888888888888888,
              "#fdca26"
             ],
             [
              1,
              "#f0f921"
             ]
            ],
            "type": "histogram2dcontour"
           }
          ],
          "mesh3d": [
           {
            "colorbar": {
             "outlinewidth": 0,
             "ticks": ""
            },
            "type": "mesh3d"
           }
          ],
          "parcoords": [
           {
            "line": {
             "colorbar": {
              "outlinewidth": 0,
              "ticks": ""
             }
            },
            "type": "parcoords"
           }
          ],
          "pie": [
           {
            "automargin": true,
            "type": "pie"
           }
          ],
          "scatter": [
           {
            "marker": {
             "colorbar": {
              "outlinewidth": 0,
              "ticks": ""
             }
            },
            "type": "scatter"
           }
          ],
          "scatter3d": [
           {
            "line": {
             "colorbar": {
              "outlinewidth": 0,
              "ticks": ""
             }
            },
            "marker": {
             "colorbar": {
              "outlinewidth": 0,
              "ticks": ""
             }
            },
            "type": "scatter3d"
           }
          ],
          "scattercarpet": [
           {
            "marker": {
             "colorbar": {
              "outlinewidth": 0,
              "ticks": ""
             }
            },
            "type": "scattercarpet"
           }
          ],
          "scattergeo": [
           {
            "marker": {
             "colorbar": {
              "outlinewidth": 0,
              "ticks": ""
             }
            },
            "type": "scattergeo"
           }
          ],
          "scattergl": [
           {
            "marker": {
             "colorbar": {
              "outlinewidth": 0,
              "ticks": ""
             }
            },
            "type": "scattergl"
           }
          ],
          "scattermapbox": [
           {
            "marker": {
             "colorbar": {
              "outlinewidth": 0,
              "ticks": ""
             }
            },
            "type": "scattermapbox"
           }
          ],
          "scatterpolar": [
           {
            "marker": {
             "colorbar": {
              "outlinewidth": 0,
              "ticks": ""
             }
            },
            "type": "scatterpolar"
           }
          ],
          "scatterpolargl": [
           {
            "marker": {
             "colorbar": {
              "outlinewidth": 0,
              "ticks": ""
             }
            },
            "type": "scatterpolargl"
           }
          ],
          "scatterternary": [
           {
            "marker": {
             "colorbar": {
              "outlinewidth": 0,
              "ticks": ""
             }
            },
            "type": "scatterternary"
           }
          ],
          "surface": [
           {
            "colorbar": {
             "outlinewidth": 0,
             "ticks": ""
            },
            "colorscale": [
             [
              0,
              "#0d0887"
             ],
             [
              0.1111111111111111,
              "#46039f"
             ],
             [
              0.2222222222222222,
              "#7201a8"
             ],
             [
              0.3333333333333333,
              "#9c179e"
             ],
             [
              0.4444444444444444,
              "#bd3786"
             ],
             [
              0.5555555555555556,
              "#d8576b"
             ],
             [
              0.6666666666666666,
              "#ed7953"
             ],
             [
              0.7777777777777778,
              "#fb9f3a"
             ],
             [
              0.8888888888888888,
              "#fdca26"
             ],
             [
              1,
              "#f0f921"
             ]
            ],
            "type": "surface"
           }
          ],
          "table": [
           {
            "cells": {
             "fill": {
              "color": "#EBF0F8"
             },
             "line": {
              "color": "white"
             }
            },
            "header": {
             "fill": {
              "color": "#C8D4E3"
             },
             "line": {
              "color": "white"
             }
            },
            "type": "table"
           }
          ]
         },
         "layout": {
          "annotationdefaults": {
           "arrowcolor": "#2a3f5f",
           "arrowhead": 0,
           "arrowwidth": 1
          },
          "autotypenumbers": "strict",
          "coloraxis": {
           "colorbar": {
            "outlinewidth": 0,
            "ticks": ""
           }
          },
          "colorscale": {
           "diverging": [
            [
             0,
             "#8e0152"
            ],
            [
             0.1,
             "#c51b7d"
            ],
            [
             0.2,
             "#de77ae"
            ],
            [
             0.3,
             "#f1b6da"
            ],
            [
             0.4,
             "#fde0ef"
            ],
            [
             0.5,
             "#f7f7f7"
            ],
            [
             0.6,
             "#e6f5d0"
            ],
            [
             0.7,
             "#b8e186"
            ],
            [
             0.8,
             "#7fbc41"
            ],
            [
             0.9,
             "#4d9221"
            ],
            [
             1,
             "#276419"
            ]
           ],
           "sequential": [
            [
             0,
             "#0d0887"
            ],
            [
             0.1111111111111111,
             "#46039f"
            ],
            [
             0.2222222222222222,
             "#7201a8"
            ],
            [
             0.3333333333333333,
             "#9c179e"
            ],
            [
             0.4444444444444444,
             "#bd3786"
            ],
            [
             0.5555555555555556,
             "#d8576b"
            ],
            [
             0.6666666666666666,
             "#ed7953"
            ],
            [
             0.7777777777777778,
             "#fb9f3a"
            ],
            [
             0.8888888888888888,
             "#fdca26"
            ],
            [
             1,
             "#f0f921"
            ]
           ],
           "sequentialminus": [
            [
             0,
             "#0d0887"
            ],
            [
             0.1111111111111111,
             "#46039f"
            ],
            [
             0.2222222222222222,
             "#7201a8"
            ],
            [
             0.3333333333333333,
             "#9c179e"
            ],
            [
             0.4444444444444444,
             "#bd3786"
            ],
            [
             0.5555555555555556,
             "#d8576b"
            ],
            [
             0.6666666666666666,
             "#ed7953"
            ],
            [
             0.7777777777777778,
             "#fb9f3a"
            ],
            [
             0.8888888888888888,
             "#fdca26"
            ],
            [
             1,
             "#f0f921"
            ]
           ]
          },
          "colorway": [
           "#636efa",
           "#EF553B",
           "#00cc96",
           "#ab63fa",
           "#FFA15A",
           "#19d3f3",
           "#FF6692",
           "#B6E880",
           "#FF97FF",
           "#FECB52"
          ],
          "font": {
           "color": "#2a3f5f"
          },
          "geo": {
           "bgcolor": "white",
           "lakecolor": "white",
           "landcolor": "#E5ECF6",
           "showlakes": true,
           "showland": true,
           "subunitcolor": "white"
          },
          "hoverlabel": {
           "align": "left"
          },
          "hovermode": "closest",
          "mapbox": {
           "style": "light"
          },
          "paper_bgcolor": "white",
          "plot_bgcolor": "#E5ECF6",
          "polar": {
           "angularaxis": {
            "gridcolor": "white",
            "linecolor": "white",
            "ticks": ""
           },
           "bgcolor": "#E5ECF6",
           "radialaxis": {
            "gridcolor": "white",
            "linecolor": "white",
            "ticks": ""
           }
          },
          "scene": {
           "xaxis": {
            "backgroundcolor": "#E5ECF6",
            "gridcolor": "white",
            "gridwidth": 2,
            "linecolor": "white",
            "showbackground": true,
            "ticks": "",
            "zerolinecolor": "white"
           },
           "yaxis": {
            "backgroundcolor": "#E5ECF6",
            "gridcolor": "white",
            "gridwidth": 2,
            "linecolor": "white",
            "showbackground": true,
            "ticks": "",
            "zerolinecolor": "white"
           },
           "zaxis": {
            "backgroundcolor": "#E5ECF6",
            "gridcolor": "white",
            "gridwidth": 2,
            "linecolor": "white",
            "showbackground": true,
            "ticks": "",
            "zerolinecolor": "white"
           }
          },
          "shapedefaults": {
           "line": {
            "color": "#2a3f5f"
           }
          },
          "ternary": {
           "aaxis": {
            "gridcolor": "white",
            "linecolor": "white",
            "ticks": ""
           },
           "baxis": {
            "gridcolor": "white",
            "linecolor": "white",
            "ticks": ""
           },
           "bgcolor": "#E5ECF6",
           "caxis": {
            "gridcolor": "white",
            "linecolor": "white",
            "ticks": ""
           }
          },
          "title": {
           "x": 0.05
          },
          "xaxis": {
           "automargin": true,
           "gridcolor": "white",
           "linecolor": "white",
           "ticks": "",
           "title": {
            "standoff": 15
           },
           "zerolinecolor": "white",
           "zerolinewidth": 2
          },
          "yaxis": {
           "automargin": true,
           "gridcolor": "white",
           "linecolor": "white",
           "ticks": "",
           "title": {
            "standoff": 15
           },
           "zerolinecolor": "white",
           "zerolinewidth": 2
          }
         }
        },
        "xaxis": {
         "anchor": "y",
         "domain": [
          0,
          1
         ],
         "title": {
          "text": "gdp"
         },
         "type": "log"
        },
        "yaxis": {
         "anchor": "x",
         "domain": [
          0,
          1
         ],
         "title": {
          "text": "total_consumption"
         },
         "type": "log"
        }
       }
      }
     },
     "metadata": {},
     "output_type": "display_data"
    }
   ],
   "source": [
    "energy_consumption.gapminder(1990)"
   ]
  },
  {
   "cell_type": "code",
   "execution_count": 21,
   "id": "b65e0382",
   "metadata": {},
   "outputs": [
    {
     "data": {
      "application/vnd.plotly.v1+json": {
       "config": {
        "plotlyServerURL": "https://plot.ly"
       },
       "data": [
        {
         "hovertemplate": "country=Algeria<br>year=2016<br>gdp=%{x}<br>total_consumption=%{y}<br>population=%{marker.size}<extra></extra>",
         "ids": [
          "Algeria"
         ],
         "legendgroup": "Algeria",
         "marker": {
          "color": "#636efa",
          "size": [
           40551398
          ],
          "sizemode": "area",
          "sizeref": 392791.4869444444,
          "symbol": "circle"
         },
         "mode": "markers",
         "name": "Algeria",
         "orientation": "v",
         "showlegend": true,
         "type": "scatter",
         "x": [
          534000000000
         ],
         "xaxis": "x",
         "y": [
          616.819
         ],
         "yaxis": "y"
        },
        {
         "hovertemplate": "country=Argentina<br>year=2016<br>gdp=%{x}<br>total_consumption=%{y}<br>population=%{marker.size}<extra></extra>",
         "ids": [
          "Argentina"
         ],
         "legendgroup": "Argentina",
         "marker": {
          "color": "#EF553B",
          "size": [
           43508459
          ],
          "sizemode": "area",
          "sizeref": 392791.4869444444,
          "symbol": "circle"
         },
         "mode": "markers",
         "name": "Argentina",
         "orientation": "v",
         "showlegend": true,
         "type": "scatter",
         "x": [
          820000000000
         ],
         "xaxis": "x",
         "y": [
          988.451
         ],
         "yaxis": "y"
        },
        {
         "hovertemplate": "country=Australia<br>year=2016<br>gdp=%{x}<br>total_consumption=%{y}<br>population=%{marker.size}<extra></extra>",
         "ids": [
          "Australia"
         ],
         "legendgroup": "Australia",
         "marker": {
          "color": "#00cc96",
          "size": [
           24262710
          ],
          "sizemode": "area",
          "sizeref": 392791.4869444444,
          "symbol": "circle"
         },
         "mode": "markers",
         "name": "Australia",
         "orientation": "v",
         "showlegend": true,
         "type": "scatter",
         "x": [
          1070000000000
         ],
         "xaxis": "x",
         "y": [
          1624.9189999999999
         ],
         "yaxis": "y"
        },
        {
         "hovertemplate": "country=Austria<br>year=2016<br>gdp=%{x}<br>total_consumption=%{y}<br>population=%{marker.size}<extra></extra>",
         "ids": [
          "Austria"
         ],
         "legendgroup": "Austria",
         "marker": {
          "color": "#ab63fa",
          "size": [
           8747306
          ],
          "sizemode": "area",
          "sizeref": 392791.4869444444,
          "symbol": "circle"
         },
         "mode": "markers",
         "name": "Austria",
         "orientation": "v",
         "showlegend": true,
         "type": "scatter",
         "x": [
          395000000000
         ],
         "xaxis": "x",
         "y": [
          386.029
         ],
         "yaxis": "y"
        },
        {
         "hovertemplate": "country=Azerbaijan<br>year=2016<br>gdp=%{x}<br>total_consumption=%{y}<br>population=%{marker.size}<extra></extra>",
         "ids": [
          "Azerbaijan"
         ],
         "legendgroup": "Azerbaijan",
         "marker": {
          "color": "#FFA15A",
          "size": [
           9736041
          ],
          "sizemode": "area",
          "sizeref": 392791.4869444444,
          "symbol": "circle"
         },
         "mode": "markers",
         "name": "Azerbaijan",
         "orientation": "v",
         "showlegend": true,
         "type": "scatter",
         "x": [
          145000000000
         ],
         "xaxis": "x",
         "y": [
          169.12900000000002
         ],
         "yaxis": "y"
        },
        {
         "hovertemplate": "country=Bangladesh<br>year=2016<br>gdp=%{x}<br>total_consumption=%{y}<br>population=%{marker.size}<extra></extra>",
         "ids": [
          "Bangladesh"
         ],
         "legendgroup": "Bangladesh",
         "marker": {
          "color": "#19d3f3",
          "size": [
           157977151
          ],
          "sizemode": "area",
          "sizeref": 392791.4869444444,
          "symbol": "circle"
         },
         "mode": "markers",
         "name": "Bangladesh",
         "orientation": "v",
         "showlegend": true,
         "type": "scatter",
         "x": [
          533000000000
         ],
         "xaxis": "x",
         "y": [
          373.043
         ],
         "yaxis": "y"
        },
        {
         "hovertemplate": "country=Belarus<br>year=2016<br>gdp=%{x}<br>total_consumption=%{y}<br>population=%{marker.size}<extra></extra>",
         "ids": [
          "Belarus"
         ],
         "legendgroup": "Belarus",
         "marker": {
          "color": "#FF6692",
          "size": [
           9445638
          ],
          "sizemode": "area",
          "sizeref": 392791.4869444444,
          "symbol": "circle"
         },
         "mode": "markers",
         "name": "Belarus",
         "orientation": "v",
         "showlegend": true,
         "type": "scatter",
         "x": [
          180000000000
         ],
         "xaxis": "x",
         "y": [
          267.121
         ],
         "yaxis": "y"
        },
        {
         "hovertemplate": "country=Belgium<br>year=2016<br>gdp=%{x}<br>total_consumption=%{y}<br>population=%{marker.size}<extra></extra>",
         "ids": [
          "Belgium"
         ],
         "legendgroup": "Belgium",
         "marker": {
          "color": "#B6E880",
          "size": [
           11354407
          ],
          "sizemode": "area",
          "sizeref": 392791.4869444444,
          "symbol": "circle"
         },
         "mode": "markers",
         "name": "Belgium",
         "orientation": "v",
         "showlegend": true,
         "type": "scatter",
         "x": [
          448000000000
         ],
         "xaxis": "x",
         "y": [
          716.111
         ],
         "yaxis": "y"
        },
        {
         "hovertemplate": "country=Brazil<br>year=2016<br>gdp=%{x}<br>total_consumption=%{y}<br>population=%{marker.size}<extra></extra>",
         "ids": [
          "Brazil"
         ],
         "legendgroup": "Brazil",
         "marker": {
          "color": "#FF97FF",
          "size": [
           206163056
          ],
          "sizemode": "area",
          "sizeref": 392791.4869444444,
          "symbol": "circle"
         },
         "mode": "markers",
         "name": "Brazil",
         "orientation": "v",
         "showlegend": true,
         "type": "scatter",
         "x": [
          2810000000000
         ],
         "xaxis": "x",
         "y": [
          3181.607
         ],
         "yaxis": "y"
        },
        {
         "hovertemplate": "country=Bulgaria<br>year=2016<br>gdp=%{x}<br>total_consumption=%{y}<br>population=%{marker.size}<extra></extra>",
         "ids": [
          "Bulgaria"
         ],
         "legendgroup": "Bulgaria",
         "marker": {
          "color": "#FECB52",
          "size": [
           7151948
          ],
          "sizemode": "area",
          "sizeref": 392791.4869444444,
          "symbol": "circle"
         },
         "mode": "markers",
         "name": "Bulgaria",
         "orientation": "v",
         "showlegend": true,
         "type": "scatter",
         "x": [
          128000000000
         ],
         "xaxis": "x",
         "y": [
          207.68099999999998
         ],
         "yaxis": "y"
        },
        {
         "hovertemplate": "country=Canada<br>year=2016<br>gdp=%{x}<br>total_consumption=%{y}<br>population=%{marker.size}<extra></extra>",
         "ids": [
          "Canada"
         ],
         "legendgroup": "Canada",
         "marker": {
          "color": "#636efa",
          "size": [
           36382942
          ],
          "sizemode": "area",
          "sizeref": 392791.4869444444,
          "symbol": "circle"
         },
         "mode": "markers",
         "name": "Canada",
         "orientation": "v",
         "showlegend": true,
         "type": "scatter",
         "x": [
          1570000000000
         ],
         "xaxis": "x",
         "y": [
          3842.736
         ],
         "yaxis": "y"
        },
        {
         "hovertemplate": "country=Chile<br>year=2016<br>gdp=%{x}<br>total_consumption=%{y}<br>population=%{marker.size}<extra></extra>",
         "ids": [
          "Chile"
         ],
         "legendgroup": "Chile",
         "marker": {
          "color": "#EF553B",
          "size": [
           18209072
          ],
          "sizemode": "area",
          "sizeref": 392791.4869444444,
          "symbol": "circle"
         },
         "mode": "markers",
         "name": "Chile",
         "orientation": "v",
         "showlegend": true,
         "type": "scatter",
         "x": [
          391000000000
         ],
         "xaxis": "x",
         "y": [
          418.871
         ],
         "yaxis": "y"
        },
        {
         "hovertemplate": "country=China<br>year=2016<br>gdp=%{x}<br>total_consumption=%{y}<br>population=%{marker.size}<extra></extra>",
         "ids": [
          "China"
         ],
         "legendgroup": "China",
         "marker": {
          "color": "#00cc96",
          "size": [
           1414049353
          ],
          "sizemode": "area",
          "sizeref": 392791.4869444444,
          "symbol": "circle"
         },
         "mode": "markers",
         "name": "China",
         "orientation": "v",
         "showlegend": true,
         "type": "scatter",
         "x": [
          16900000000000
         ],
         "xaxis": "x",
         "y": [
          35107.865999999995
         ],
         "yaxis": "y"
        },
        {
         "hovertemplate": "country=Colombia<br>year=2016<br>gdp=%{x}<br>total_consumption=%{y}<br>population=%{marker.size}<extra></extra>",
         "ids": [
          "Colombia"
         ],
         "legendgroup": "Colombia",
         "marker": {
          "color": "#ab63fa",
          "size": [
           48175048
          ],
          "sizemode": "area",
          "sizeref": 392791.4869444444,
          "symbol": "circle"
         },
         "mode": "markers",
         "name": "Colombia",
         "orientation": "v",
         "showlegend": true,
         "type": "scatter",
         "x": [
          610000000000
         ],
         "xaxis": "x",
         "y": [
          496.909
         ],
         "yaxis": "y"
        },
        {
         "hovertemplate": "country=Croatia<br>year=2016<br>gdp=%{x}<br>total_consumption=%{y}<br>population=%{marker.size}<extra></extra>",
         "ids": [
          "Croatia"
         ],
         "legendgroup": "Croatia",
         "marker": {
          "color": "#FFA15A",
          "size": [
           4208611
          ],
          "sizemode": "area",
          "sizeref": 392791.4869444444,
          "symbol": "circle"
         },
         "mode": "markers",
         "name": "Croatia",
         "orientation": "v",
         "showlegend": true,
         "type": "scatter",
         "x": [
          93290250240
         ],
         "xaxis": "x",
         "y": [
          92.05799999999999
         ],
         "yaxis": "y"
        },
        {
         "hovertemplate": "country=Cyprus<br>year=2016<br>gdp=%{x}<br>total_consumption=%{y}<br>population=%{marker.size}<extra></extra>",
         "ids": [
          "Cyprus"
         ],
         "legendgroup": "Cyprus",
         "marker": {
          "color": "#19d3f3",
          "size": [
           1170189
          ],
          "sizemode": "area",
          "sizeref": 392791.4869444444,
          "symbol": "circle"
         },
         "mode": "markers",
         "name": "Cyprus",
         "orientation": "v",
         "showlegend": true,
         "type": "scatter",
         "x": [
          26539999232
         ],
         "xaxis": "x",
         "y": [
          31.407
         ],
         "yaxis": "y"
        },
        {
         "hovertemplate": "country=Czechia<br>year=2016<br>gdp=%{x}<br>total_consumption=%{y}<br>population=%{marker.size}<extra></extra>",
         "ids": [
          "Czechia"
         ],
         "legendgroup": "Czechia",
         "marker": {
          "color": "#FF6692",
          "size": [
           10618868
          ],
          "sizemode": "area",
          "sizeref": 392791.4869444444,
          "symbol": "circle"
         },
         "mode": "markers",
         "name": "Czechia",
         "orientation": "v",
         "showlegend": true,
         "type": "scatter",
         "x": [
          328000000000
         ],
         "xaxis": "x",
         "y": [
          444.471
         ],
         "yaxis": "y"
        },
        {
         "hovertemplate": "country=Denmark<br>year=2016<br>gdp=%{x}<br>total_consumption=%{y}<br>population=%{marker.size}<extra></extra>",
         "ids": [
          "Denmark"
         ],
         "legendgroup": "Denmark",
         "marker": {
          "color": "#B6E880",
          "size": [
           5711346
          ],
          "sizemode": "area",
          "sizeref": 392791.4869444444,
          "symbol": "circle"
         },
         "mode": "markers",
         "name": "Denmark",
         "orientation": "v",
         "showlegend": true,
         "type": "scatter",
         "x": [
          259000000000
         ],
         "xaxis": "x",
         "y": [
          180.947
         ],
         "yaxis": "y"
        },
        {
         "hovertemplate": "country=Ecuador<br>year=2016<br>gdp=%{x}<br>total_consumption=%{y}<br>population=%{marker.size}<extra></extra>",
         "ids": [
          "Ecuador"
         ],
         "legendgroup": "Ecuador",
         "marker": {
          "color": "#FF97FF",
          "size": [
           16491116
          ],
          "sizemode": "area",
          "sizeref": 392791.4869444444,
          "symbol": "circle"
         },
         "mode": "markers",
         "name": "Ecuador",
         "orientation": "v",
         "showlegend": true,
         "type": "scatter",
         "x": [
          169000000000
         ],
         "xaxis": "x",
         "y": [
          182.892
         ],
         "yaxis": "y"
        },
        {
         "hovertemplate": "country=Egypt<br>year=2016<br>gdp=%{x}<br>total_consumption=%{y}<br>population=%{marker.size}<extra></extra>",
         "ids": [
          "Egypt"
         ],
         "legendgroup": "Egypt",
         "marker": {
          "color": "#FECB52",
          "size": [
           94447071
          ],
          "sizemode": "area",
          "sizeref": 392791.4869444444,
          "symbol": "circle"
         },
         "mode": "markers",
         "name": "Egypt",
         "orientation": "v",
         "showlegend": true,
         "type": "scatter",
         "x": [
          1110000000000
         ],
         "xaxis": "x",
         "y": [
          1038.808
         ],
         "yaxis": "y"
        },
        {
         "hovertemplate": "country=Estonia<br>year=2016<br>gdp=%{x}<br>total_consumption=%{y}<br>population=%{marker.size}<extra></extra>",
         "ids": [
          "Estonia"
         ],
         "legendgroup": "Estonia",
         "marker": {
          "color": "#636efa",
          "size": [
           1316507
          ],
          "sizemode": "area",
          "sizeref": 392791.4869444444,
          "symbol": "circle"
         },
         "mode": "markers",
         "name": "Estonia",
         "orientation": "v",
         "showlegend": true,
         "type": "scatter",
         "x": [
          33684649984
         ],
         "xaxis": "x",
         "y": [
          68.229
         ],
         "yaxis": "y"
        },
        {
         "hovertemplate": "country=Finland<br>year=2016<br>gdp=%{x}<br>total_consumption=%{y}<br>population=%{marker.size}<extra></extra>",
         "ids": [
          "Finland"
         ],
         "legendgroup": "Finland",
         "marker": {
          "color": "#EF553B",
          "size": [
           5497714
          ],
          "sizemode": "area",
          "sizeref": 392791.4869444444,
          "symbol": "circle"
         },
         "mode": "markers",
         "name": "Finland",
         "orientation": "v",
         "showlegend": true,
         "type": "scatter",
         "x": [
          211000000000
         ],
         "xaxis": "x",
         "y": [
          299.18999999999994
         ],
         "yaxis": "y"
        },
        {
         "hovertemplate": "country=France<br>year=2016<br>gdp=%{x}<br>total_consumption=%{y}<br>population=%{marker.size}<extra></extra>",
         "ids": [
          "France"
         ],
         "legendgroup": "France",
         "marker": {
          "color": "#00cc96",
          "size": [
           64667590
          ],
          "sizemode": "area",
          "sizeref": 392791.4869444444,
          "symbol": "circle"
         },
         "mode": "markers",
         "name": "France",
         "orientation": "v",
         "showlegend": true,
         "type": "scatter",
         "x": [
          2600000000000
         ],
         "xaxis": "x",
         "y": [
          2692.365
         ],
         "yaxis": "y"
        },
        {
         "hovertemplate": "country=Germany<br>year=2016<br>gdp=%{x}<br>total_consumption=%{y}<br>population=%{marker.size}<extra></extra>",
         "ids": [
          "Germany"
         ],
         "legendgroup": "Germany",
         "marker": {
          "color": "#ab63fa",
          "size": [
           82193770
          ],
          "sizemode": "area",
          "sizeref": 392791.4869444444,
          "symbol": "circle"
         },
         "mode": "markers",
         "name": "Germany",
         "orientation": "v",
         "showlegend": true,
         "type": "scatter",
         "x": [
          3920000000000
         ],
         "xaxis": "x",
         "y": [
          3654.746
         ],
         "yaxis": "y"
        },
        {
         "hovertemplate": "country=Greece<br>year=2016<br>gdp=%{x}<br>total_consumption=%{y}<br>population=%{marker.size}<extra></extra>",
         "ids": [
          "Greece"
         ],
         "legendgroup": "Greece",
         "marker": {
          "color": "#FFA15A",
          "size": [
           10615183
          ],
          "sizemode": "area",
          "sizeref": 392791.4869444444,
          "symbol": "circle"
         },
         "mode": "markers",
         "name": "Greece",
         "orientation": "v",
         "showlegend": true,
         "type": "scatter",
         "x": [
          264000000000
         ],
         "xaxis": "x",
         "y": [
          305.128
         ],
         "yaxis": "y"
        },
        {
         "hovertemplate": "country=Hong Kong<br>year=2016<br>gdp=%{x}<br>total_consumption=%{y}<br>population=%{marker.size}<extra></extra>",
         "ids": [
          "Hong Kong"
         ],
         "legendgroup": "Hong Kong",
         "marker": {
          "color": "#19d3f3",
          "size": [
           7243541
          ],
          "sizemode": "area",
          "sizeref": 392791.4869444444,
          "symbol": "circle"
         },
         "mode": "markers",
         "name": "Hong Kong",
         "orientation": "v",
         "showlegend": true,
         "type": "scatter",
         "x": [
          340000000000
         ],
         "xaxis": "x",
         "y": [
          334.844
         ],
         "yaxis": "y"
        },
        {
         "hovertemplate": "country=Hungary<br>year=2016<br>gdp=%{x}<br>total_consumption=%{y}<br>population=%{marker.size}<extra></extra>",
         "ids": [
          "Hungary"
         ],
         "legendgroup": "Hungary",
         "marker": {
          "color": "#FF6692",
          "size": [
           9752970
          ],
          "sizemode": "area",
          "sizeref": 392791.4869444444,
          "symbol": "circle"
         },
         "mode": "markers",
         "name": "Hungary",
         "orientation": "v",
         "showlegend": true,
         "type": "scatter",
         "x": [
          236000000000
         ],
         "xaxis": "x",
         "y": [
          251.18599999999998
         ],
         "yaxis": "y"
        },
        {
         "hovertemplate": "country=Iceland<br>year=2016<br>gdp=%{x}<br>total_consumption=%{y}<br>population=%{marker.size}<extra></extra>",
         "ids": [
          "Iceland"
         ],
         "legendgroup": "Iceland",
         "marker": {
          "color": "#B6E880",
          "size": [
           332209
          ],
          "sizemode": "area",
          "sizeref": 392791.4869444444,
          "symbol": "circle"
         },
         "mode": "markers",
         "name": "Iceland",
         "orientation": "v",
         "showlegend": true,
         "type": "scatter",
         "x": [
          14398300160
         ],
         "xaxis": "x",
         "y": [
          46.079
         ],
         "yaxis": "y"
        },
        {
         "hovertemplate": "country=India<br>year=2016<br>gdp=%{x}<br>total_consumption=%{y}<br>population=%{marker.size}<extra></extra>",
         "ids": [
          "India"
         ],
         "legendgroup": "India",
         "marker": {
          "color": "#FF97FF",
          "size": [
           1324517250
          ],
          "sizemode": "area",
          "sizeref": 392791.4869444444,
          "symbol": "circle"
         },
         "mode": "markers",
         "name": "India",
         "orientation": "v",
         "showlegend": true,
         "type": "scatter",
         "x": [
          7560000000000
         ],
         "xaxis": "x",
         "y": [
          8289.661
         ],
         "yaxis": "y"
        },
        {
         "hovertemplate": "country=Indonesia<br>year=2016<br>gdp=%{x}<br>total_consumption=%{y}<br>population=%{marker.size}<extra></extra>",
         "ids": [
          "Indonesia"
         ],
         "legendgroup": "Indonesia",
         "marker": {
          "color": "#FECB52",
          "size": [
           261556386
          ],
          "sizemode": "area",
          "sizeref": 392791.4869444444,
          "symbol": "circle"
         },
         "mode": "markers",
         "name": "Indonesia",
         "orientation": "v",
         "showlegend": true,
         "type": "scatter",
         "x": [
          2680000000000
         ],
         "xaxis": "x",
         "y": [
          2000.125
         ],
         "yaxis": "y"
        },
        {
         "hovertemplate": "country=Iran<br>year=2016<br>gdp=%{x}<br>total_consumption=%{y}<br>population=%{marker.size}<extra></extra>",
         "ids": [
          "Iran"
         ],
         "legendgroup": "Iran",
         "marker": {
          "color": "#636efa",
          "size": [
           79563991
          ],
          "sizemode": "area",
          "sizeref": 392791.4869444444,
          "symbol": "circle"
         },
         "mode": "markers",
         "name": "Iran",
         "orientation": "v",
         "showlegend": true,
         "type": "scatter",
         "x": [
          1250000000000
         ],
         "xaxis": "x",
         "y": [
          2997.9669999999996
         ],
         "yaxis": "y"
        },
        {
         "hovertemplate": "country=Iraq<br>year=2016<br>gdp=%{x}<br>total_consumption=%{y}<br>population=%{marker.size}<extra></extra>",
         "ids": [
          "Iraq"
         ],
         "legendgroup": "Iraq",
         "marker": {
          "color": "#EF553B",
          "size": [
           36610632
          ],
          "sizemode": "area",
          "sizeref": 392791.4869444444,
          "symbol": "circle"
         },
         "mode": "markers",
         "name": "Iraq",
         "orientation": "v",
         "showlegend": true,
         "type": "scatter",
         "x": [
          544000000000
         ],
         "xaxis": "x",
         "y": [
          539.031
         ],
         "yaxis": "y"
        },
        {
         "hovertemplate": "country=Ireland<br>year=2016<br>gdp=%{x}<br>total_consumption=%{y}<br>population=%{marker.size}<extra></extra>",
         "ids": [
          "Ireland"
         ],
         "legendgroup": "Ireland",
         "marker": {
          "color": "#00cc96",
          "size": [
           4695790
          ],
          "sizemode": "area",
          "sizeref": 392791.4869444444,
          "symbol": "circle"
         },
         "mode": "markers",
         "name": "Ireland",
         "orientation": "v",
         "showlegend": true,
         "type": "scatter",
         "x": [
          262000000000
         ],
         "xaxis": "x",
         "y": [
          177.245
         ],
         "yaxis": "y"
        },
        {
         "hovertemplate": "country=Israel<br>year=2016<br>gdp=%{x}<br>total_consumption=%{y}<br>population=%{marker.size}<extra></extra>",
         "ids": [
          "Israel"
         ],
         "legendgroup": "Israel",
         "marker": {
          "color": "#ab63fa",
          "size": [
           8108984
          ],
          "sizemode": "area",
          "sizeref": 392791.4869444444,
          "symbol": "circle"
         },
         "mode": "markers",
         "name": "Israel",
         "orientation": "v",
         "showlegend": true,
         "type": "scatter",
         "x": [
          267000000000
         ],
         "xaxis": "x",
         "y": [
          287.93899999999996
         ],
         "yaxis": "y"
        },
        {
         "hovertemplate": "country=Italy<br>year=2016<br>gdp=%{x}<br>total_consumption=%{y}<br>population=%{marker.size}<extra></extra>",
         "ids": [
          "Italy"
         ],
         "legendgroup": "Italy",
         "marker": {
          "color": "#FFA15A",
          "size": [
           60663068
          ],
          "sizemode": "area",
          "sizeref": 392791.4869444444,
          "symbol": "circle"
         },
         "mode": "markers",
         "name": "Italy",
         "orientation": "v",
         "showlegend": true,
         "type": "scatter",
         "x": [
          2130000000000
         ],
         "xaxis": "x",
         "y": [
          1721.397
         ],
         "yaxis": "y"
        },
        {
         "hovertemplate": "country=Japan<br>year=2016<br>gdp=%{x}<br>total_consumption=%{y}<br>population=%{marker.size}<extra></extra>",
         "ids": [
          "Japan"
         ],
         "legendgroup": "Japan",
         "marker": {
          "color": "#19d3f3",
          "size": [
           127763267
          ],
          "sizemode": "area",
          "sizeref": 392791.4869444444,
          "symbol": "circle"
         },
         "mode": "markers",
         "name": "Japan",
         "orientation": "v",
         "showlegend": true,
         "type": "scatter",
         "x": [
          4600000000000
         ],
         "xaxis": "x",
         "y": [
          5127.87
         ],
         "yaxis": "y"
        },
        {
         "hovertemplate": "country=Kazakhstan<br>year=2016<br>gdp=%{x}<br>total_consumption=%{y}<br>population=%{marker.size}<extra></extra>",
         "ids": [
          "Kazakhstan"
         ],
         "legendgroup": "Kazakhstan",
         "marker": {
          "color": "#FF6692",
          "size": [
           17830902
          ],
          "sizemode": "area",
          "sizeref": 392791.4869444444,
          "symbol": "circle"
         },
         "mode": "markers",
         "name": "Kazakhstan",
         "orientation": "v",
         "showlegend": true,
         "type": "scatter",
         "x": [
          420000000000
         ],
         "xaxis": "x",
         "y": [
          751.0559999999999
         ],
         "yaxis": "y"
        },
        {
         "hovertemplate": "country=Kuwait<br>year=2016<br>gdp=%{x}<br>total_consumption=%{y}<br>population=%{marker.size}<extra></extra>",
         "ids": [
          "Kuwait"
         ],
         "legendgroup": "Kuwait",
         "marker": {
          "color": "#B6E880",
          "size": [
           3956862
          ],
          "sizemode": "area",
          "sizeref": 392791.4869444444,
          "symbol": "circle"
         },
         "mode": "markers",
         "name": "Kuwait",
         "orientation": "v",
         "showlegend": true,
         "type": "scatter",
         "x": [
          283000000000
         ],
         "xaxis": "x",
         "y": [
          468.18499999999995
         ],
         "yaxis": "y"
        },
        {
         "hovertemplate": "country=Latvia<br>year=2016<br>gdp=%{x}<br>total_consumption=%{y}<br>population=%{marker.size}<extra></extra>",
         "ids": [
          "Latvia"
         ],
         "legendgroup": "Latvia",
         "marker": {
          "color": "#FF97FF",
          "size": [
           1974265
          ],
          "sizemode": "area",
          "sizeref": 392791.4869444444,
          "symbol": "circle"
         },
         "mode": "markers",
         "name": "Latvia",
         "orientation": "v",
         "showlegend": true,
         "type": "scatter",
         "x": [
          45812883456
         ],
         "xaxis": "x",
         "y": [
          41.278999999999996
         ],
         "yaxis": "y"
        },
        {
         "hovertemplate": "country=Lithuania<br>year=2016<br>gdp=%{x}<br>total_consumption=%{y}<br>population=%{marker.size}<extra></extra>",
         "ids": [
          "Lithuania"
         ],
         "legendgroup": "Lithuania",
         "marker": {
          "color": "#FECB52",
          "size": [
           2889555
          ],
          "sizemode": "area",
          "sizeref": 392791.4869444444,
          "symbol": "circle"
         },
         "mode": "markers",
         "name": "Lithuania",
         "orientation": "v",
         "showlegend": true,
         "type": "scatter",
         "x": [
          75063795712
         ],
         "xaxis": "x",
         "y": [
          62.730000000000004
         ],
         "yaxis": "y"
        },
        {
         "hovertemplate": "country=Luxembourg<br>year=2016<br>gdp=%{x}<br>total_consumption=%{y}<br>population=%{marker.size}<extra></extra>",
         "ids": [
          "Luxembourg"
         ],
         "legendgroup": "Luxembourg",
         "marker": {
          "color": "#636efa",
          "size": [
           579266
          ],
          "sizemode": "area",
          "sizeref": 392791.4869444444,
          "symbol": "circle"
         },
         "mode": "markers",
         "name": "Luxembourg",
         "orientation": "v",
         "showlegend": true,
         "type": "scatter",
         "x": [
          40329289728
         ],
         "xaxis": "x",
         "y": [
          40.973
         ],
         "yaxis": "y"
        },
        {
         "hovertemplate": "country=Malaysia<br>year=2016<br>gdp=%{x}<br>total_consumption=%{y}<br>population=%{marker.size}<extra></extra>",
         "ids": [
          "Malaysia"
         ],
         "legendgroup": "Malaysia",
         "marker": {
          "color": "#EF553B",
          "size": [
           30684652
          ],
          "sizemode": "area",
          "sizeref": 392791.4869444444,
          "symbol": "circle"
         },
         "mode": "markers",
         "name": "Malaysia",
         "orientation": "v",
         "showlegend": true,
         "type": "scatter",
         "x": [
          687000000000
         ],
         "xaxis": "x",
         "y": [
          1162.528
         ],
         "yaxis": "y"
        },
        {
         "hovertemplate": "country=Mexico<br>year=2016<br>gdp=%{x}<br>total_consumption=%{y}<br>population=%{marker.size}<extra></extra>",
         "ids": [
          "Mexico"
         ],
         "legendgroup": "Mexico",
         "marker": {
          "color": "#00cc96",
          "size": [
           123333379
          ],
          "sizemode": "area",
          "sizeref": 392791.4869444444,
          "symbol": "circle"
         },
         "mode": "markers",
         "name": "Mexico",
         "orientation": "v",
         "showlegend": true,
         "type": "scatter",
         "x": [
          1880000000000
         ],
         "xaxis": "x",
         "y": [
          2144.188
         ],
         "yaxis": "y"
        },
        {
         "hovertemplate": "country=Morocco<br>year=2016<br>gdp=%{x}<br>total_consumption=%{y}<br>population=%{marker.size}<extra></extra>",
         "ids": [
          "Morocco"
         ],
         "legendgroup": "Morocco",
         "marker": {
          "color": "#ab63fa",
          "size": [
           35126274
          ],
          "sizemode": "area",
          "sizeref": 392791.4869444444,
          "symbol": "circle"
         },
         "mode": "markers",
         "name": "Morocco",
         "orientation": "v",
         "showlegend": true,
         "type": "scatter",
         "x": [
          264000000000
         ],
         "xaxis": "x",
         "y": [
          221.73000000000002
         ],
         "yaxis": "y"
        },
        {
         "hovertemplate": "country=Netherlands<br>year=2016<br>gdp=%{x}<br>total_consumption=%{y}<br>population=%{marker.size}<extra></extra>",
         "ids": [
          "Netherlands"
         ],
         "legendgroup": "Netherlands",
         "marker": {
          "color": "#FFA15A",
          "size": [
           16981285
          ],
          "sizemode": "area",
          "sizeref": 392791.4869444444,
          "symbol": "circle"
         },
         "mode": "markers",
         "name": "Netherlands",
         "orientation": "v",
         "showlegend": true,
         "type": "scatter",
         "x": [
          839000000000
         ],
         "xaxis": "x",
         "y": [
          981.818
         ],
         "yaxis": "y"
        },
        {
         "hovertemplate": "country=New Zealand<br>year=2016<br>gdp=%{x}<br>total_consumption=%{y}<br>population=%{marker.size}<extra></extra>",
         "ids": [
          "New Zealand"
         ],
         "legendgroup": "New Zealand",
         "marker": {
          "color": "#19d3f3",
          "size": [
           4659265
          ],
          "sizemode": "area",
          "sizeref": 392791.4869444444,
          "symbol": "circle"
         },
         "mode": "markers",
         "name": "New Zealand",
         "orientation": "v",
         "showlegend": true,
         "type": "scatter",
         "x": [
          159000000000
         ],
         "xaxis": "x",
         "y": [
          227.24099999999999
         ],
         "yaxis": "y"
        },
        {
         "hovertemplate": "country=North Macedonia<br>year=2016<br>gdp=%{x}<br>total_consumption=%{y}<br>population=%{marker.size}<extra></extra>",
         "ids": [
          "North Macedonia"
         ],
         "legendgroup": "North Macedonia",
         "marker": {
          "color": "#FF6692",
          "size": [
           2080746
          ],
          "sizemode": "area",
          "sizeref": 392791.4869444444,
          "symbol": "circle"
         },
         "mode": "markers",
         "name": "North Macedonia",
         "orientation": "v",
         "showlegend": true,
         "type": "scatter",
         "x": [
          29162700800
         ],
         "xaxis": "x",
         "y": [
          30.144000000000002
         ],
         "yaxis": "y"
        },
        {
         "hovertemplate": "country=Norway<br>year=2016<br>gdp=%{x}<br>total_consumption=%{y}<br>population=%{marker.size}<extra></extra>",
         "ids": [
          "Norway"
         ],
         "legendgroup": "Norway",
         "marker": {
          "color": "#B6E880",
          "size": [
           5250950
          ],
          "sizemode": "area",
          "sizeref": 392791.4869444444,
          "symbol": "circle"
         },
         "mode": "markers",
         "name": "Norway",
         "orientation": "v",
         "showlegend": true,
         "type": "scatter",
         "x": [
          400000000000
         ],
         "xaxis": "x",
         "y": [
          527.189
         ],
         "yaxis": "y"
        },
        {
         "hovertemplate": "country=Oman<br>year=2016<br>gdp=%{x}<br>total_consumption=%{y}<br>population=%{marker.size}<extra></extra>",
         "ids": [
          "Oman"
         ],
         "legendgroup": "Oman",
         "marker": {
          "color": "#FF97FF",
          "size": [
           4479217
          ],
          "sizemode": "area",
          "sizeref": 392791.4869444444,
          "symbol": "circle"
         },
         "mode": "markers",
         "name": "Oman",
         "orientation": "v",
         "showlegend": true,
         "type": "scatter",
         "x": [
          168000000000
         ],
         "xaxis": "x",
         "y": [
          336.067
         ],
         "yaxis": "y"
        },
        {
         "hovertemplate": "country=Pakistan<br>year=2016<br>gdp=%{x}<br>total_consumption=%{y}<br>population=%{marker.size}<extra></extra>",
         "ids": [
          "Pakistan"
         ],
         "legendgroup": "Pakistan",
         "marker": {
          "color": "#FECB52",
          "size": [
           203631356
          ],
          "sizemode": "area",
          "sizeref": 392791.4869444444,
          "symbol": "circle"
         },
         "mode": "markers",
         "name": "Pakistan",
         "orientation": "v",
         "showlegend": true,
         "type": "scatter",
         "x": [
          1020000000000
         ],
         "xaxis": "x",
         "y": [
          883.3090000000001
         ],
         "yaxis": "y"
        },
        {
         "hovertemplate": "country=Peru<br>year=2016<br>gdp=%{x}<br>total_consumption=%{y}<br>population=%{marker.size}<extra></extra>",
         "ids": [
          "Peru"
         ],
         "legendgroup": "Peru",
         "marker": {
          "color": "#636efa",
          "size": [
           30926036
          ],
          "sizemode": "area",
          "sizeref": 392791.4869444444,
          "symbol": "circle"
         },
         "mode": "markers",
         "name": "Peru",
         "orientation": "v",
         "showlegend": true,
         "type": "scatter",
         "x": [
          355000000000
         ],
         "xaxis": "x",
         "y": [
          295.399
         ],
         "yaxis": "y"
        },
        {
         "hovertemplate": "country=Philippines<br>year=2016<br>gdp=%{x}<br>total_consumption=%{y}<br>population=%{marker.size}<extra></extra>",
         "ids": [
          "Philippines"
         ],
         "legendgroup": "Philippines",
         "marker": {
          "color": "#EF553B",
          "size": [
           103663812
          ],
          "sizemode": "area",
          "sizeref": 392791.4869444444,
          "symbol": "circle"
         },
         "mode": "markers",
         "name": "Philippines",
         "orientation": "v",
         "showlegend": true,
         "type": "scatter",
         "x": [
          785000000000
         ],
         "xaxis": "x",
         "y": [
          446.64300000000003
         ],
         "yaxis": "y"
        },
        {
         "hovertemplate": "country=Poland<br>year=2016<br>gdp=%{x}<br>total_consumption=%{y}<br>population=%{marker.size}<extra></extra>",
         "ids": [
          "Poland"
         ],
         "legendgroup": "Poland",
         "marker": {
          "color": "#00cc96",
          "size": [
           37989218
          ],
          "sizemode": "area",
          "sizeref": 392791.4869444444,
          "symbol": "circle"
         },
         "mode": "markers",
         "name": "Poland",
         "orientation": "v",
         "showlegend": true,
         "type": "scatter",
         "x": [
          1000000000000
         ],
         "xaxis": "x",
         "y": [
          1132.9869999999999
         ],
         "yaxis": "y"
        },
        {
         "hovertemplate": "country=Portugal<br>year=2016<br>gdp=%{x}<br>total_consumption=%{y}<br>population=%{marker.size}<extra></extra>",
         "ids": [
          "Portugal"
         ],
         "legendgroup": "Portugal",
         "marker": {
          "color": "#ab63fa",
          "size": [
           10325540
          ],
          "sizemode": "area",
          "sizeref": 392791.4869444444,
          "symbol": "circle"
         },
         "mode": "markers",
         "name": "Portugal",
         "orientation": "v",
         "showlegend": true,
         "type": "scatter",
         "x": [
          285000000000
         ],
         "xaxis": "x",
         "y": [
          292.669
         ],
         "yaxis": "y"
        },
        {
         "hovertemplate": "country=Qatar<br>year=2016<br>gdp=%{x}<br>total_consumption=%{y}<br>population=%{marker.size}<extra></extra>",
         "ids": [
          "Qatar"
         ],
         "legendgroup": "Qatar",
         "marker": {
          "color": "#FFA15A",
          "size": [
           2654379
          ],
          "sizemode": "area",
          "sizeref": 392791.4869444444,
          "symbol": "circle"
         },
         "mode": "markers",
         "name": "Qatar",
         "orientation": "v",
         "showlegend": true,
         "type": "scatter",
         "x": [
          300000000000
         ],
         "xaxis": "x",
         "y": [
          553.997
         ],
         "yaxis": "y"
        },
        {
         "hovertemplate": "country=Romania<br>year=2016<br>gdp=%{x}<br>total_consumption=%{y}<br>population=%{marker.size}<extra></extra>",
         "ids": [
          "Romania"
         ],
         "legendgroup": "Romania",
         "marker": {
          "color": "#19d3f3",
          "size": [
           19796280
          ],
          "sizemode": "area",
          "sizeref": 392791.4869444444,
          "symbol": "circle"
         },
         "mode": "markers",
         "name": "Romania",
         "orientation": "v",
         "showlegend": true,
         "type": "scatter",
         "x": [
          409000000000
         ],
         "xaxis": "x",
         "y": [
          373.108
         ],
         "yaxis": "y"
        },
        {
         "hovertemplate": "country=Russia<br>year=2016<br>gdp=%{x}<br>total_consumption=%{y}<br>population=%{marker.size}<extra></extra>",
         "ids": [
          "Russia"
         ],
         "legendgroup": "Russia",
         "marker": {
          "color": "#FF6692",
          "size": [
           145275374
          ],
          "sizemode": "area",
          "sizeref": 392791.4869444444,
          "symbol": "circle"
         },
         "mode": "markers",
         "name": "Russia",
         "orientation": "v",
         "showlegend": true,
         "type": "scatter",
         "x": [
          3320000000000
         ],
         "xaxis": "x",
         "y": [
          7987.658
         ],
         "yaxis": "y"
        },
        {
         "hovertemplate": "country=Saudi Arabia<br>year=2016<br>gdp=%{x}<br>total_consumption=%{y}<br>population=%{marker.size}<extra></extra>",
         "ids": [
          "Saudi Arabia"
         ],
         "legendgroup": "Saudi Arabia",
         "marker": {
          "color": "#B6E880",
          "size": [
           32443443
          ],
          "sizemode": "area",
          "sizeref": 392791.4869444444,
          "symbol": "circle"
         },
         "mode": "markers",
         "name": "Saudi Arabia",
         "orientation": "v",
         "showlegend": true,
         "type": "scatter",
         "x": [
          1500000000000
         ],
         "xaxis": "x",
         "y": [
          3049.1130000000003
         ],
         "yaxis": "y"
        },
        {
         "hovertemplate": "country=Singapore<br>year=2016<br>gdp=%{x}<br>total_consumption=%{y}<br>population=%{marker.size}<extra></extra>",
         "ids": [
          "Singapore"
         ],
         "legendgroup": "Singapore",
         "marker": {
          "color": "#FF97FF",
          "size": [
           5653625
          ],
          "sizemode": "area",
          "sizeref": 392791.4869444444,
          "symbol": "circle"
         },
         "mode": "markers",
         "name": "Singapore",
         "orientation": "v",
         "showlegend": true,
         "type": "scatter",
         "x": [
          388000000000
         ],
         "xaxis": "x",
         "y": [
          964.182
         ],
         "yaxis": "y"
        },
        {
         "hovertemplate": "country=Slovakia<br>year=2016<br>gdp=%{x}<br>total_consumption=%{y}<br>population=%{marker.size}<extra></extra>",
         "ids": [
          "Slovakia"
         ],
         "legendgroup": "Slovakia",
         "marker": {
          "color": "#FECB52",
          "size": [
           5442001
          ],
          "sizemode": "area",
          "sizeref": 392791.4869444444,
          "symbol": "circle"
         },
         "mode": "markers",
         "name": "Slovakia",
         "orientation": "v",
         "showlegend": true,
         "type": "scatter",
         "x": [
          144000000000
         ],
         "xaxis": "x",
         "y": [
          175.07
         ],
         "yaxis": "y"
        },
        {
         "hovertemplate": "country=Slovenia<br>year=2016<br>gdp=%{x}<br>total_consumption=%{y}<br>population=%{marker.size}<extra></extra>",
         "ids": [
          "Slovenia"
         ],
         "legendgroup": "Slovenia",
         "marker": {
          "color": "#636efa",
          "size": [
           2074205
          ],
          "sizemode": "area",
          "sizeref": 392791.4869444444,
          "symbol": "circle"
         },
         "mode": "markers",
         "name": "Slovenia",
         "orientation": "v",
         "showlegend": true,
         "type": "scatter",
         "x": [
          59161378816
         ],
         "xaxis": "x",
         "y": [
          77.774
         ],
         "yaxis": "y"
        },
        {
         "hovertemplate": "country=South Africa<br>year=2016<br>gdp=%{x}<br>total_consumption=%{y}<br>population=%{marker.size}<extra></extra>",
         "ids": [
          "South Africa"
         ],
         "legendgroup": "South Africa",
         "marker": {
          "color": "#EF553B",
          "size": [
           56207649
          ],
          "sizemode": "area",
          "sizeref": 392791.4869444444,
          "symbol": "circle"
         },
         "mode": "markers",
         "name": "South Africa",
         "orientation": "v",
         "showlegend": true,
         "type": "scatter",
         "x": [
          648000000000
         ],
         "xaxis": "x",
         "y": [
          1470.047
         ],
         "yaxis": "y"
        },
        {
         "hovertemplate": "country=South Korea<br>year=2016<br>gdp=%{x}<br>total_consumption=%{y}<br>population=%{marker.size}<extra></extra>",
         "ids": [
          "South Korea"
         ],
         "legendgroup": "South Korea",
         "marker": {
          "color": "#00cc96",
          "size": [
           50983446
          ],
          "sizemode": "area",
          "sizeref": 392791.4869444444,
          "symbol": "circle"
         },
         "mode": "markers",
         "name": "South Korea",
         "orientation": "v",
         "showlegend": true,
         "type": "scatter",
         "x": [
          1850000000000
         ],
         "xaxis": "x",
         "y": [
          3361.036
         ],
         "yaxis": "y"
        },
        {
         "hovertemplate": "country=Spain<br>year=2016<br>gdp=%{x}<br>total_consumption=%{y}<br>population=%{marker.size}<extra></extra>",
         "ids": [
          "Spain"
         ],
         "legendgroup": "Spain",
         "marker": {
          "color": "#ab63fa",
          "size": [
           46634131
          ],
          "sizemode": "area",
          "sizeref": 392791.4869444444,
          "symbol": "circle"
         },
         "mode": "markers",
         "name": "Spain",
         "orientation": "v",
         "showlegend": true,
         "type": "scatter",
         "x": [
          1480000000000
         ],
         "xaxis": "x",
         "y": [
          1559.357
         ],
         "yaxis": "y"
        },
        {
         "hovertemplate": "country=Sri Lanka<br>year=2016<br>gdp=%{x}<br>total_consumption=%{y}<br>population=%{marker.size}<extra></extra>",
         "ids": [
          "Sri Lanka"
         ],
         "legendgroup": "Sri Lanka",
         "marker": {
          "color": "#FFA15A",
          "size": [
           21021177
          ],
          "sizemode": "area",
          "sizeref": 392791.4869444444,
          "symbol": "circle"
         },
         "mode": "markers",
         "name": "Sri Lanka",
         "orientation": "v",
         "showlegend": true,
         "type": "scatter",
         "x": [
          252000000000
         ],
         "xaxis": "x",
         "y": [
          85.912
         ],
         "yaxis": "y"
        },
        {
         "hovertemplate": "country=Sweden<br>year=2016<br>gdp=%{x}<br>total_consumption=%{y}<br>population=%{marker.size}<extra></extra>",
         "ids": [
          "Sweden"
         ],
         "legendgroup": "Sweden",
         "marker": {
          "color": "#19d3f3",
          "size": [
           9836003
          ],
          "sizemode": "area",
          "sizeref": 392791.4869444444,
          "symbol": "circle"
         },
         "mode": "markers",
         "name": "Sweden",
         "orientation": "v",
         "showlegend": true,
         "type": "scatter",
         "x": [
          440000000000
         ],
         "xaxis": "x",
         "y": [
          565.9929999999999
         ],
         "yaxis": "y"
        },
        {
         "hovertemplate": "country=Switzerland<br>year=2016<br>gdp=%{x}<br>total_consumption=%{y}<br>population=%{marker.size}<extra></extra>",
         "ids": [
          "Switzerland"
         ],
         "legendgroup": "Switzerland",
         "marker": {
          "color": "#FF6692",
          "size": [
           8379915
          ],
          "sizemode": "area",
          "sizeref": 392791.4869444444,
          "symbol": "circle"
         },
         "mode": "markers",
         "name": "Switzerland",
         "orientation": "v",
         "showlegend": true,
         "type": "scatter",
         "x": [
          525000000000
         ],
         "xaxis": "x",
         "y": [
          302.679
         ],
         "yaxis": "y"
        },
        {
         "hovertemplate": "country=Taiwan<br>year=2016<br>gdp=%{x}<br>total_consumption=%{y}<br>population=%{marker.size}<extra></extra>",
         "ids": [
          "Taiwan"
         ],
         "legendgroup": "Taiwan",
         "marker": {
          "color": "#B6E880",
          "size": [
           23618201
          ],
          "sizemode": "area",
          "sizeref": 392791.4869444444,
          "symbol": "circle"
         },
         "mode": "markers",
         "name": "Taiwan",
         "orientation": "v",
         "showlegend": true,
         "type": "scatter",
         "x": [
          985000000000
         ],
         "xaxis": "x",
         "y": [
          1342.029
         ],
         "yaxis": "y"
        },
        {
         "hovertemplate": "country=Thailand<br>year=2016<br>gdp=%{x}<br>total_consumption=%{y}<br>population=%{marker.size}<extra></extra>",
         "ids": [
          "Thailand"
         ],
         "legendgroup": "Thailand",
         "marker": {
          "color": "#FF97FF",
          "size": [
           68971313
          ],
          "sizemode": "area",
          "sizeref": 392791.4869444444,
          "symbol": "circle"
         },
         "mode": "markers",
         "name": "Thailand",
         "orientation": "v",
         "showlegend": true,
         "type": "scatter",
         "x": [
          962000000000
         ],
         "xaxis": "x",
         "y": [
          1466.672
         ],
         "yaxis": "y"
        },
        {
         "hovertemplate": "country=Trinidad and Tobago<br>year=2016<br>gdp=%{x}<br>total_consumption=%{y}<br>population=%{marker.size}<extra></extra>",
         "ids": [
          "Trinidad and Tobago"
         ],
         "legendgroup": "Trinidad and Tobago",
         "marker": {
          "color": "#FECB52",
          "size": [
           1377563
          ],
          "sizemode": "area",
          "sizeref": 392791.4869444444,
          "symbol": "circle"
         },
         "mode": "markers",
         "name": "Trinidad and Tobago",
         "orientation": "v",
         "showlegend": true,
         "type": "scatter",
         "x": [
          35816759296
         ],
         "xaxis": "x",
         "y": [
          197.233
         ],
         "yaxis": "y"
        },
        {
         "hovertemplate": "country=Turkey<br>year=2016<br>gdp=%{x}<br>total_consumption=%{y}<br>population=%{marker.size}<extra></extra>",
         "ids": [
          "Turkey"
         ],
         "legendgroup": "Turkey",
         "marker": {
          "color": "#636efa",
          "size": [
           79827868
          ],
          "sizemode": "area",
          "sizeref": 392791.4869444444,
          "symbol": "circle"
         },
         "mode": "markers",
         "name": "Turkey",
         "orientation": "v",
         "showlegend": true,
         "type": "scatter",
         "x": [
          1570000000000
         ],
         "xaxis": "x",
         "y": [
          1652.221
         ],
         "yaxis": "y"
        },
        {
         "hovertemplate": "country=Turkmenistan<br>year=2016<br>gdp=%{x}<br>total_consumption=%{y}<br>population=%{marker.size}<extra></extra>",
         "ids": [
          "Turkmenistan"
         ],
         "legendgroup": "Turkmenistan",
         "marker": {
          "color": "#EF553B",
          "size": [
           5662371
          ],
          "sizemode": "area",
          "sizeref": 392791.4869444444,
          "symbol": "circle"
         },
         "mode": "markers",
         "name": "Turkmenistan",
         "orientation": "v",
         "showlegend": true,
         "type": "scatter",
         "x": [
          118000000000
         ],
         "xaxis": "x",
         "y": [
          329.541
         ],
         "yaxis": "y"
        },
        {
         "hovertemplate": "country=Ukraine<br>year=2016<br>gdp=%{x}<br>total_consumption=%{y}<br>population=%{marker.size}<extra></extra>",
         "ids": [
          "Ukraine"
         ],
         "legendgroup": "Ukraine",
         "marker": {
          "color": "#00cc96",
          "size": [
           44713708
          ],
          "sizemode": "area",
          "sizeref": 392791.4869444444,
          "symbol": "circle"
         },
         "mode": "markers",
         "name": "Ukraine",
         "orientation": "v",
         "showlegend": true,
         "type": "scatter",
         "x": [
          429000000000
         ],
         "xaxis": "x",
         "y": [
          1033.08
         ],
         "yaxis": "y"
        },
        {
         "hovertemplate": "country=United Arab Emirates<br>year=2016<br>gdp=%{x}<br>total_consumption=%{y}<br>population=%{marker.size}<extra></extra>",
         "ids": [
          "United Arab Emirates"
         ],
         "legendgroup": "United Arab Emirates",
         "marker": {
          "color": "#ab63fa",
          "size": [
           9360975
          ],
          "sizemode": "area",
          "sizeref": 392791.4869444444,
          "symbol": "circle"
         },
         "mode": "markers",
         "name": "United Arab Emirates",
         "orientation": "v",
         "showlegend": true,
         "type": "scatter",
         "x": [
          657000000000
         ],
         "xaxis": "x",
         "y": [
          1293.9119999999998
         ],
         "yaxis": "y"
        },
        {
         "hovertemplate": "country=United Kingdom<br>year=2016<br>gdp=%{x}<br>total_consumption=%{y}<br>population=%{marker.size}<extra></extra>",
         "ids": [
          "United Kingdom"
         ],
         "legendgroup": "United Kingdom",
         "marker": {
          "color": "#FFA15A",
          "size": [
           66297944
          ],
          "sizemode": "area",
          "sizeref": 392791.4869444444,
          "symbol": "circle"
         },
         "mode": "markers",
         "name": "United Kingdom",
         "orientation": "v",
         "showlegend": true,
         "type": "scatter",
         "x": [
          2580000000000
         ],
         "xaxis": "x",
         "y": [
          2150.5150000000003
         ],
         "yaxis": "y"
        },
        {
         "hovertemplate": "country=United States<br>year=2016<br>gdp=%{x}<br>total_consumption=%{y}<br>population=%{marker.size}<extra></extra>",
         "ids": [
          "United States"
         ],
         "legendgroup": "United States",
         "marker": {
          "color": "#19d3f3",
          "size": [
           323015992
          ],
          "sizemode": "area",
          "sizeref": 392791.4869444444,
          "symbol": "circle"
         },
         "mode": "markers",
         "name": "United States",
         "orientation": "v",
         "showlegend": true,
         "type": "scatter",
         "x": [
          17200000000000
         ],
         "xaxis": "x",
         "y": [
          25352.489999999998
         ],
         "yaxis": "y"
        },
        {
         "hovertemplate": "country=Uzbekistan<br>year=2016<br>gdp=%{x}<br>total_consumption=%{y}<br>population=%{marker.size}<extra></extra>",
         "ids": [
          "Uzbekistan"
         ],
         "legendgroup": "Uzbekistan",
         "marker": {
          "color": "#FF6692",
          "size": [
           31441753
          ],
          "sizemode": "area",
          "sizeref": 392791.4869444444,
          "symbol": "circle"
         },
         "mode": "markers",
         "name": "Uzbekistan",
         "orientation": "v",
         "showlegend": true,
         "type": "scatter",
         "x": [
          287000000000
         ],
         "xaxis": "x",
         "y": [
          494.75399999999996
         ],
         "yaxis": "y"
        },
        {
         "hovertemplate": "country=Venezuela<br>year=2016<br>gdp=%{x}<br>total_consumption=%{y}<br>population=%{marker.size}<extra></extra>",
         "ids": [
          "Venezuela"
         ],
         "legendgroup": "Venezuela",
         "marker": {
          "color": "#B6E880",
          "size": [
           29851249
          ],
          "sizemode": "area",
          "sizeref": 392791.4869444444,
          "symbol": "circle"
         },
         "mode": "markers",
         "name": "Venezuela",
         "orientation": "v",
         "showlegend": true,
         "type": "scatter",
         "x": [
          396000000000
         ],
         "xaxis": "x",
         "y": [
          830.3919999999999
         ],
         "yaxis": "y"
        },
        {
         "hovertemplate": "country=Vietnam<br>year=2016<br>gdp=%{x}<br>total_consumption=%{y}<br>population=%{marker.size}<extra></extra>",
         "ids": [
          "Vietnam"
         ],
         "legendgroup": "Vietnam",
         "marker": {
          "color": "#FF97FF",
          "size": [
           93640435
          ],
          "sizemode": "area",
          "sizeref": 392791.4869444444,
          "symbol": "circle"
         },
         "mode": "markers",
         "name": "Vietnam",
         "orientation": "v",
         "showlegend": true,
         "type": "scatter",
         "x": [
          575000000000
         ],
         "xaxis": "x",
         "y": [
          863.845
         ],
         "yaxis": "y"
        }
       ],
       "layout": {
        "legend": {
         "itemsizing": "constant",
         "title": {
          "text": "country"
         },
         "tracegroupgap": 0
        },
        "margin": {
         "t": 60
        },
        "template": {
         "data": {
          "bar": [
           {
            "error_x": {
             "color": "#2a3f5f"
            },
            "error_y": {
             "color": "#2a3f5f"
            },
            "marker": {
             "line": {
              "color": "#E5ECF6",
              "width": 0.5
             },
             "pattern": {
              "fillmode": "overlay",
              "size": 10,
              "solidity": 0.2
             }
            },
            "type": "bar"
           }
          ],
          "barpolar": [
           {
            "marker": {
             "line": {
              "color": "#E5ECF6",
              "width": 0.5
             },
             "pattern": {
              "fillmode": "overlay",
              "size": 10,
              "solidity": 0.2
             }
            },
            "type": "barpolar"
           }
          ],
          "carpet": [
           {
            "aaxis": {
             "endlinecolor": "#2a3f5f",
             "gridcolor": "white",
             "linecolor": "white",
             "minorgridcolor": "white",
             "startlinecolor": "#2a3f5f"
            },
            "baxis": {
             "endlinecolor": "#2a3f5f",
             "gridcolor": "white",
             "linecolor": "white",
             "minorgridcolor": "white",
             "startlinecolor": "#2a3f5f"
            },
            "type": "carpet"
           }
          ],
          "choropleth": [
           {
            "colorbar": {
             "outlinewidth": 0,
             "ticks": ""
            },
            "type": "choropleth"
           }
          ],
          "contour": [
           {
            "colorbar": {
             "outlinewidth": 0,
             "ticks": ""
            },
            "colorscale": [
             [
              0,
              "#0d0887"
             ],
             [
              0.1111111111111111,
              "#46039f"
             ],
             [
              0.2222222222222222,
              "#7201a8"
             ],
             [
              0.3333333333333333,
              "#9c179e"
             ],
             [
              0.4444444444444444,
              "#bd3786"
             ],
             [
              0.5555555555555556,
              "#d8576b"
             ],
             [
              0.6666666666666666,
              "#ed7953"
             ],
             [
              0.7777777777777778,
              "#fb9f3a"
             ],
             [
              0.8888888888888888,
              "#fdca26"
             ],
             [
              1,
              "#f0f921"
             ]
            ],
            "type": "contour"
           }
          ],
          "contourcarpet": [
           {
            "colorbar": {
             "outlinewidth": 0,
             "ticks": ""
            },
            "type": "contourcarpet"
           }
          ],
          "heatmap": [
           {
            "colorbar": {
             "outlinewidth": 0,
             "ticks": ""
            },
            "colorscale": [
             [
              0,
              "#0d0887"
             ],
             [
              0.1111111111111111,
              "#46039f"
             ],
             [
              0.2222222222222222,
              "#7201a8"
             ],
             [
              0.3333333333333333,
              "#9c179e"
             ],
             [
              0.4444444444444444,
              "#bd3786"
             ],
             [
              0.5555555555555556,
              "#d8576b"
             ],
             [
              0.6666666666666666,
              "#ed7953"
             ],
             [
              0.7777777777777778,
              "#fb9f3a"
             ],
             [
              0.8888888888888888,
              "#fdca26"
             ],
             [
              1,
              "#f0f921"
             ]
            ],
            "type": "heatmap"
           }
          ],
          "heatmapgl": [
           {
            "colorbar": {
             "outlinewidth": 0,
             "ticks": ""
            },
            "colorscale": [
             [
              0,
              "#0d0887"
             ],
             [
              0.1111111111111111,
              "#46039f"
             ],
             [
              0.2222222222222222,
              "#7201a8"
             ],
             [
              0.3333333333333333,
              "#9c179e"
             ],
             [
              0.4444444444444444,
              "#bd3786"
             ],
             [
              0.5555555555555556,
              "#d8576b"
             ],
             [
              0.6666666666666666,
              "#ed7953"
             ],
             [
              0.7777777777777778,
              "#fb9f3a"
             ],
             [
              0.8888888888888888,
              "#fdca26"
             ],
             [
              1,
              "#f0f921"
             ]
            ],
            "type": "heatmapgl"
           }
          ],
          "histogram": [
           {
            "marker": {
             "pattern": {
              "fillmode": "overlay",
              "size": 10,
              "solidity": 0.2
             }
            },
            "type": "histogram"
           }
          ],
          "histogram2d": [
           {
            "colorbar": {
             "outlinewidth": 0,
             "ticks": ""
            },
            "colorscale": [
             [
              0,
              "#0d0887"
             ],
             [
              0.1111111111111111,
              "#46039f"
             ],
             [
              0.2222222222222222,
              "#7201a8"
             ],
             [
              0.3333333333333333,
              "#9c179e"
             ],
             [
              0.4444444444444444,
              "#bd3786"
             ],
             [
              0.5555555555555556,
              "#d8576b"
             ],
             [
              0.6666666666666666,
              "#ed7953"
             ],
             [
              0.7777777777777778,
              "#fb9f3a"
             ],
             [
              0.8888888888888888,
              "#fdca26"
             ],
             [
              1,
              "#f0f921"
             ]
            ],
            "type": "histogram2d"
           }
          ],
          "histogram2dcontour": [
           {
            "colorbar": {
             "outlinewidth": 0,
             "ticks": ""
            },
            "colorscale": [
             [
              0,
              "#0d0887"
             ],
             [
              0.1111111111111111,
              "#46039f"
             ],
             [
              0.2222222222222222,
              "#7201a8"
             ],
             [
              0.3333333333333333,
              "#9c179e"
             ],
             [
              0.4444444444444444,
              "#bd3786"
             ],
             [
              0.5555555555555556,
              "#d8576b"
             ],
             [
              0.6666666666666666,
              "#ed7953"
             ],
             [
              0.7777777777777778,
              "#fb9f3a"
             ],
             [
              0.8888888888888888,
              "#fdca26"
             ],
             [
              1,
              "#f0f921"
             ]
            ],
            "type": "histogram2dcontour"
           }
          ],
          "mesh3d": [
           {
            "colorbar": {
             "outlinewidth": 0,
             "ticks": ""
            },
            "type": "mesh3d"
           }
          ],
          "parcoords": [
           {
            "line": {
             "colorbar": {
              "outlinewidth": 0,
              "ticks": ""
             }
            },
            "type": "parcoords"
           }
          ],
          "pie": [
           {
            "automargin": true,
            "type": "pie"
           }
          ],
          "scatter": [
           {
            "marker": {
             "colorbar": {
              "outlinewidth": 0,
              "ticks": ""
             }
            },
            "type": "scatter"
           }
          ],
          "scatter3d": [
           {
            "line": {
             "colorbar": {
              "outlinewidth": 0,
              "ticks": ""
             }
            },
            "marker": {
             "colorbar": {
              "outlinewidth": 0,
              "ticks": ""
             }
            },
            "type": "scatter3d"
           }
          ],
          "scattercarpet": [
           {
            "marker": {
             "colorbar": {
              "outlinewidth": 0,
              "ticks": ""
             }
            },
            "type": "scattercarpet"
           }
          ],
          "scattergeo": [
           {
            "marker": {
             "colorbar": {
              "outlinewidth": 0,
              "ticks": ""
             }
            },
            "type": "scattergeo"
           }
          ],
          "scattergl": [
           {
            "marker": {
             "colorbar": {
              "outlinewidth": 0,
              "ticks": ""
             }
            },
            "type": "scattergl"
           }
          ],
          "scattermapbox": [
           {
            "marker": {
             "colorbar": {
              "outlinewidth": 0,
              "ticks": ""
             }
            },
            "type": "scattermapbox"
           }
          ],
          "scatterpolar": [
           {
            "marker": {
             "colorbar": {
              "outlinewidth": 0,
              "ticks": ""
             }
            },
            "type": "scatterpolar"
           }
          ],
          "scatterpolargl": [
           {
            "marker": {
             "colorbar": {
              "outlinewidth": 0,
              "ticks": ""
             }
            },
            "type": "scatterpolargl"
           }
          ],
          "scatterternary": [
           {
            "marker": {
             "colorbar": {
              "outlinewidth": 0,
              "ticks": ""
             }
            },
            "type": "scatterternary"
           }
          ],
          "surface": [
           {
            "colorbar": {
             "outlinewidth": 0,
             "ticks": ""
            },
            "colorscale": [
             [
              0,
              "#0d0887"
             ],
             [
              0.1111111111111111,
              "#46039f"
             ],
             [
              0.2222222222222222,
              "#7201a8"
             ],
             [
              0.3333333333333333,
              "#9c179e"
             ],
             [
              0.4444444444444444,
              "#bd3786"
             ],
             [
              0.5555555555555556,
              "#d8576b"
             ],
             [
              0.6666666666666666,
              "#ed7953"
             ],
             [
              0.7777777777777778,
              "#fb9f3a"
             ],
             [
              0.8888888888888888,
              "#fdca26"
             ],
             [
              1,
              "#f0f921"
             ]
            ],
            "type": "surface"
           }
          ],
          "table": [
           {
            "cells": {
             "fill": {
              "color": "#EBF0F8"
             },
             "line": {
              "color": "white"
             }
            },
            "header": {
             "fill": {
              "color": "#C8D4E3"
             },
             "line": {
              "color": "white"
             }
            },
            "type": "table"
           }
          ]
         },
         "layout": {
          "annotationdefaults": {
           "arrowcolor": "#2a3f5f",
           "arrowhead": 0,
           "arrowwidth": 1
          },
          "autotypenumbers": "strict",
          "coloraxis": {
           "colorbar": {
            "outlinewidth": 0,
            "ticks": ""
           }
          },
          "colorscale": {
           "diverging": [
            [
             0,
             "#8e0152"
            ],
            [
             0.1,
             "#c51b7d"
            ],
            [
             0.2,
             "#de77ae"
            ],
            [
             0.3,
             "#f1b6da"
            ],
            [
             0.4,
             "#fde0ef"
            ],
            [
             0.5,
             "#f7f7f7"
            ],
            [
             0.6,
             "#e6f5d0"
            ],
            [
             0.7,
             "#b8e186"
            ],
            [
             0.8,
             "#7fbc41"
            ],
            [
             0.9,
             "#4d9221"
            ],
            [
             1,
             "#276419"
            ]
           ],
           "sequential": [
            [
             0,
             "#0d0887"
            ],
            [
             0.1111111111111111,
             "#46039f"
            ],
            [
             0.2222222222222222,
             "#7201a8"
            ],
            [
             0.3333333333333333,
             "#9c179e"
            ],
            [
             0.4444444444444444,
             "#bd3786"
            ],
            [
             0.5555555555555556,
             "#d8576b"
            ],
            [
             0.6666666666666666,
             "#ed7953"
            ],
            [
             0.7777777777777778,
             "#fb9f3a"
            ],
            [
             0.8888888888888888,
             "#fdca26"
            ],
            [
             1,
             "#f0f921"
            ]
           ],
           "sequentialminus": [
            [
             0,
             "#0d0887"
            ],
            [
             0.1111111111111111,
             "#46039f"
            ],
            [
             0.2222222222222222,
             "#7201a8"
            ],
            [
             0.3333333333333333,
             "#9c179e"
            ],
            [
             0.4444444444444444,
             "#bd3786"
            ],
            [
             0.5555555555555556,
             "#d8576b"
            ],
            [
             0.6666666666666666,
             "#ed7953"
            ],
            [
             0.7777777777777778,
             "#fb9f3a"
            ],
            [
             0.8888888888888888,
             "#fdca26"
            ],
            [
             1,
             "#f0f921"
            ]
           ]
          },
          "colorway": [
           "#636efa",
           "#EF553B",
           "#00cc96",
           "#ab63fa",
           "#FFA15A",
           "#19d3f3",
           "#FF6692",
           "#B6E880",
           "#FF97FF",
           "#FECB52"
          ],
          "font": {
           "color": "#2a3f5f"
          },
          "geo": {
           "bgcolor": "white",
           "lakecolor": "white",
           "landcolor": "#E5ECF6",
           "showlakes": true,
           "showland": true,
           "subunitcolor": "white"
          },
          "hoverlabel": {
           "align": "left"
          },
          "hovermode": "closest",
          "mapbox": {
           "style": "light"
          },
          "paper_bgcolor": "white",
          "plot_bgcolor": "#E5ECF6",
          "polar": {
           "angularaxis": {
            "gridcolor": "white",
            "linecolor": "white",
            "ticks": ""
           },
           "bgcolor": "#E5ECF6",
           "radialaxis": {
            "gridcolor": "white",
            "linecolor": "white",
            "ticks": ""
           }
          },
          "scene": {
           "xaxis": {
            "backgroundcolor": "#E5ECF6",
            "gridcolor": "white",
            "gridwidth": 2,
            "linecolor": "white",
            "showbackground": true,
            "ticks": "",
            "zerolinecolor": "white"
           },
           "yaxis": {
            "backgroundcolor": "#E5ECF6",
            "gridcolor": "white",
            "gridwidth": 2,
            "linecolor": "white",
            "showbackground": true,
            "ticks": "",
            "zerolinecolor": "white"
           },
           "zaxis": {
            "backgroundcolor": "#E5ECF6",
            "gridcolor": "white",
            "gridwidth": 2,
            "linecolor": "white",
            "showbackground": true,
            "ticks": "",
            "zerolinecolor": "white"
           }
          },
          "shapedefaults": {
           "line": {
            "color": "#2a3f5f"
           }
          },
          "ternary": {
           "aaxis": {
            "gridcolor": "white",
            "linecolor": "white",
            "ticks": ""
           },
           "baxis": {
            "gridcolor": "white",
            "linecolor": "white",
            "ticks": ""
           },
           "bgcolor": "#E5ECF6",
           "caxis": {
            "gridcolor": "white",
            "linecolor": "white",
            "ticks": ""
           }
          },
          "title": {
           "x": 0.05
          },
          "xaxis": {
           "automargin": true,
           "gridcolor": "white",
           "linecolor": "white",
           "ticks": "",
           "title": {
            "standoff": 15
           },
           "zerolinecolor": "white",
           "zerolinewidth": 2
          },
          "yaxis": {
           "automargin": true,
           "gridcolor": "white",
           "linecolor": "white",
           "ticks": "",
           "title": {
            "standoff": 15
           },
           "zerolinecolor": "white",
           "zerolinewidth": 2
          }
         }
        },
        "xaxis": {
         "anchor": "y",
         "domain": [
          0,
          1
         ],
         "title": {
          "text": "gdp"
         },
         "type": "log"
        },
        "yaxis": {
         "anchor": "x",
         "domain": [
          0,
          1
         ],
         "title": {
          "text": "total_consumption"
         },
         "type": "log"
        }
       }
      }
     },
     "metadata": {},
     "output_type": "display_data"
    }
   ],
   "source": [
    "energy_consumption.gapminder(2016)"
   ]
  },
  {
   "cell_type": "code",
   "execution_count": 8,
   "id": "65e20dfd",
   "metadata": {},
   "outputs": [
    {
     "name": "stdout",
     "output_type": "stream",
     "text": [
      " ARIMA(0,2,0)(0,0,0)[1]             : AIC=710.452, Time=0.14 sec\n",
      " ARIMA(0,2,1)(0,0,0)[1]             : AIC=710.687, Time=0.04 sec\n",
      " ARIMA(0,2,2)(0,0,0)[1]             : AIC=712.642, Time=0.04 sec\n",
      " ARIMA(0,2,3)(0,0,0)[1]             : AIC=712.163, Time=0.05 sec\n",
      " ARIMA(0,2,4)(0,0,0)[1]             : AIC=714.062, Time=0.08 sec\n",
      " ARIMA(0,2,5)(0,0,0)[1]             : AIC=707.821, Time=0.12 sec\n",
      " ARIMA(0,2,6)(0,0,0)[1]             : AIC=709.728, Time=0.14 sec\n",
      " ARIMA(0,2,7)(0,0,0)[1]             : AIC=710.593, Time=0.24 sec\n",
      " ARIMA(0,2,8)(0,0,0)[1]             : AIC=inf, Time=0.24 sec\n",
      " ARIMA(1,2,0)(0,0,0)[1]             : AIC=710.941, Time=0.03 sec\n",
      " ARIMA(1,2,1)(0,0,0)[1]             : AIC=712.669, Time=0.04 sec\n",
      " ARIMA(1,2,2)(0,0,0)[1]             : AIC=711.452, Time=0.07 sec\n",
      " ARIMA(1,2,3)(0,0,0)[1]             : AIC=712.906, Time=0.10 sec\n",
      " ARIMA(1,2,4)(0,0,0)[1]             : AIC=714.896, Time=0.15 sec\n",
      " ARIMA(1,2,5)(0,0,0)[1]             : AIC=709.779, Time=0.22 sec\n",
      " ARIMA(1,2,6)(0,0,0)[1]             : AIC=714.167, Time=0.25 sec\n",
      " ARIMA(1,2,7)(0,0,0)[1]             : AIC=712.958, Time=0.27 sec\n",
      " ARIMA(1,2,8)(0,0,0)[1]             : AIC=714.057, Time=0.32 sec\n",
      " ARIMA(2,2,0)(0,0,0)[1]             : AIC=712.326, Time=0.04 sec\n",
      " ARIMA(2,2,1)(0,0,0)[1]             : AIC=710.741, Time=0.10 sec\n",
      " ARIMA(2,2,2)(0,0,0)[1]             : AIC=712.568, Time=0.11 sec\n",
      " ARIMA(2,2,3)(0,0,0)[1]             : AIC=713.978, Time=0.22 sec\n",
      " ARIMA(2,2,4)(0,0,0)[1]             : AIC=inf, Time=0.24 sec\n",
      " ARIMA(2,2,5)(0,0,0)[1]             : AIC=inf, Time=0.26 sec\n",
      " ARIMA(2,2,6)(0,0,0)[1]             : AIC=inf, Time=0.28 sec\n",
      " ARIMA(2,2,7)(0,0,0)[1]             : AIC=inf, Time=0.39 sec\n",
      " ARIMA(2,2,8)(0,0,0)[1]             : AIC=inf, Time=0.35 sec\n",
      " ARIMA(3,2,0)(0,0,0)[1]             : AIC=713.652, Time=0.06 sec\n",
      " ARIMA(3,2,1)(0,0,0)[1]             : AIC=712.606, Time=0.11 sec\n",
      " ARIMA(3,2,2)(0,0,0)[1]             : AIC=713.537, Time=0.18 sec\n",
      " ARIMA(3,2,3)(0,0,0)[1]             : AIC=717.359, Time=0.22 sec\n",
      " ARIMA(3,2,4)(0,0,0)[1]             : AIC=inf, Time=0.22 sec\n",
      " ARIMA(3,2,5)(0,0,0)[1]             : AIC=inf, Time=0.29 sec\n",
      " ARIMA(3,2,6)(0,0,0)[1]             : AIC=inf, Time=0.26 sec\n",
      " ARIMA(3,2,7)(0,0,0)[1]             : AIC=inf, Time=0.32 sec\n",
      " ARIMA(3,2,8)(0,0,0)[1]             : AIC=inf, Time=0.37 sec\n",
      " ARIMA(4,2,0)(0,0,0)[1]             : AIC=714.850, Time=0.05 sec\n",
      " ARIMA(4,2,1)(0,0,0)[1]             : AIC=714.489, Time=0.10 sec\n",
      " ARIMA(4,2,2)(0,0,0)[1]             : AIC=715.530, Time=0.18 sec\n",
      " ARIMA(4,2,3)(0,0,0)[1]             : AIC=712.010, Time=0.22 sec\n",
      " ARIMA(4,2,4)(0,0,0)[1]             : AIC=715.328, Time=0.28 sec\n",
      " ARIMA(4,2,5)(0,0,0)[1]             : AIC=713.242, Time=0.25 sec\n",
      " ARIMA(4,2,6)(0,0,0)[1]             : AIC=717.610, Time=0.32 sec\n",
      " ARIMA(4,2,7)(0,0,0)[1]             : AIC=inf, Time=0.33 sec\n",
      " ARIMA(4,2,8)(0,0,0)[1]             : AIC=inf, Time=0.38 sec\n",
      " ARIMA(5,2,0)(0,0,0)[1]             : AIC=710.181, Time=0.07 sec\n",
      " ARIMA(5,2,1)(0,0,0)[1]             : AIC=712.027, Time=0.10 sec\n",
      " ARIMA(5,2,2)(0,0,0)[1]             : AIC=709.813, Time=0.21 sec\n",
      " ARIMA(5,2,3)(0,0,0)[1]             : AIC=711.788, Time=0.24 sec\n",
      " ARIMA(5,2,4)(0,0,0)[1]             : AIC=715.012, Time=0.32 sec\n",
      " ARIMA(5,2,5)(0,0,0)[1]             : AIC=718.302, Time=0.27 sec\n",
      " ARIMA(5,2,6)(0,0,0)[1]             : AIC=719.640, Time=0.33 sec\n",
      " ARIMA(5,2,7)(0,0,0)[1]             : AIC=721.452, Time=0.37 sec\n",
      " ARIMA(5,2,8)(0,0,0)[1]             : AIC=inf, Time=0.43 sec\n",
      " ARIMA(6,2,0)(0,0,0)[1]             : AIC=711.885, Time=0.09 sec\n",
      " ARIMA(6,2,1)(0,0,0)[1]             : AIC=713.503, Time=0.14 sec\n",
      " ARIMA(6,2,2)(0,0,0)[1]             : AIC=711.850, Time=0.26 sec\n",
      " ARIMA(6,2,3)(0,0,0)[1]             : AIC=714.353, Time=0.28 sec\n",
      " ARIMA(6,2,4)(0,0,0)[1]             : AIC=716.728, Time=0.33 sec\n",
      " ARIMA(6,2,5)(0,0,0)[1]             : AIC=718.294, Time=0.33 sec\n",
      " ARIMA(6,2,6)(0,0,0)[1]             : AIC=721.034, Time=0.36 sec\n",
      " ARIMA(6,2,7)(0,0,0)[1]             : AIC=722.954, Time=0.42 sec\n",
      " ARIMA(6,2,8)(0,0,0)[1]             : AIC=inf, Time=0.49 sec\n",
      " ARIMA(7,2,0)(0,0,0)[1]             : AIC=712.566, Time=0.11 sec\n",
      " ARIMA(7,2,1)(0,0,0)[1]             : AIC=714.566, Time=0.16 sec\n",
      " ARIMA(7,2,2)(0,0,0)[1]             : AIC=713.242, Time=0.30 sec\n",
      " ARIMA(7,2,3)(0,0,0)[1]             : AIC=716.255, Time=0.36 sec\n",
      " ARIMA(7,2,4)(0,0,0)[1]             : AIC=718.214, Time=0.34 sec\n",
      " ARIMA(7,2,5)(0,0,0)[1]             : AIC=719.637, Time=0.42 sec\n",
      " ARIMA(7,2,6)(0,0,0)[1]             : AIC=722.990, Time=0.37 sec\n",
      " ARIMA(7,2,7)(0,0,0)[1]             : AIC=724.911, Time=0.43 sec\n",
      " ARIMA(7,2,8)(0,0,0)[1]             : AIC=inf, Time=0.50 sec\n",
      " ARIMA(8,2,0)(0,0,0)[1]             : AIC=714.566, Time=0.12 sec\n",
      " ARIMA(8,2,1)(0,0,0)[1]             : AIC=716.039, Time=0.30 sec\n",
      " ARIMA(8,2,2)(0,0,0)[1]             : AIC=715.048, Time=0.32 sec\n",
      " ARIMA(8,2,3)(0,0,0)[1]             : AIC=718.237, Time=0.37 sec\n",
      " ARIMA(8,2,4)(0,0,0)[1]             : AIC=719.877, Time=0.40 sec\n",
      " ARIMA(8,2,5)(0,0,0)[1]             : AIC=721.118, Time=0.43 sec\n",
      " ARIMA(8,2,6)(0,0,0)[1]             : AIC=724.963, Time=0.46 sec\n",
      " ARIMA(8,2,7)(0,0,0)[1]             : AIC=725.591, Time=0.47 sec\n",
      " ARIMA(8,2,8)(0,0,0)[1]             : AIC=inf, Time=0.52 sec\n",
      "\n",
      "Best model:  ARIMA(0,2,5)(0,0,0)[1]          \n",
      "Total fit time: 20.202 seconds\n",
      " ARIMA(0,2,0)(0,0,0)[1]             : AIC=1927.771, Time=0.01 sec\n",
      " ARIMA(0,2,1)(0,0,0)[1]             : AIC=1914.606, Time=0.01 sec\n",
      " ARIMA(0,2,2)(0,0,0)[1]             : AIC=1916.661, Time=0.02 sec\n",
      " ARIMA(0,2,3)(0,0,0)[1]             : AIC=1920.428, Time=0.02 sec\n"
     ]
    },
    {
     "name": "stderr",
     "output_type": "stream",
     "text": [
      "C:\\Users\\farou\\anaconda3\\envs\\myenv\\lib\\site-packages\\statsmodels\\tsa\\base\\tsa_model.py:471: ValueWarning: An unsupported index was provided and will be ignored when e.g. forecasting.\n",
      "  self._init_dates(dates, freq)\n",
      "C:\\Users\\farou\\anaconda3\\envs\\myenv\\lib\\site-packages\\statsmodels\\tsa\\base\\tsa_model.py:471: ValueWarning: An unsupported index was provided and will be ignored when e.g. forecasting.\n",
      "  self._init_dates(dates, freq)\n",
      "C:\\Users\\farou\\anaconda3\\envs\\myenv\\lib\\site-packages\\statsmodels\\tsa\\base\\tsa_model.py:471: ValueWarning: An unsupported index was provided and will be ignored when e.g. forecasting.\n",
      "  self._init_dates(dates, freq)\n",
      "C:\\Users\\farou\\anaconda3\\envs\\myenv\\lib\\site-packages\\statsmodels\\tsa\\base\\tsa_model.py:834: ValueWarning: No supported index is available. Prediction results will be given with an integer index beginning at `start`.\n",
      "  return get_prediction_index(\n"
     ]
    },
    {
     "name": "stdout",
     "output_type": "stream",
     "text": [
      " ARIMA(0,2,4)(0,0,0)[1]             : AIC=1920.801, Time=0.03 sec\n",
      " ARIMA(0,2,5)(0,0,0)[1]             : AIC=1923.434, Time=0.04 sec\n",
      " ARIMA(0,2,6)(0,0,0)[1]             : AIC=1926.789, Time=0.06 sec\n",
      " ARIMA(0,2,7)(0,0,0)[1]             : AIC=1929.885, Time=0.12 sec\n",
      " ARIMA(0,2,8)(0,0,0)[1]             : AIC=1930.225, Time=0.12 sec\n",
      " ARIMA(1,2,0)(0,0,0)[1]             : AIC=1922.010, Time=0.01 sec\n",
      " ARIMA(1,2,1)(0,0,0)[1]             : AIC=1915.950, Time=0.02 sec\n",
      " ARIMA(1,2,2)(0,0,0)[1]             : AIC=1918.478, Time=0.06 sec\n",
      " ARIMA(1,2,3)(0,0,0)[1]             : AIC=1922.253, Time=0.06 sec\n",
      " ARIMA(1,2,4)(0,0,0)[1]             : AIC=1922.537, Time=0.06 sec\n",
      " ARIMA(1,2,5)(0,0,0)[1]             : AIC=1925.316, Time=0.06 sec\n",
      " ARIMA(1,2,6)(0,0,0)[1]             : AIC=1928.762, Time=0.09 sec\n",
      " ARIMA(1,2,7)(0,0,0)[1]             : AIC=1931.287, Time=0.11 sec\n",
      " ARIMA(1,2,8)(0,0,0)[1]             : AIC=1932.332, Time=0.17 sec\n",
      " ARIMA(2,2,0)(0,0,0)[1]             : AIC=1919.653, Time=0.01 sec\n",
      " ARIMA(2,2,1)(0,0,0)[1]             : AIC=1917.907, Time=0.03 sec\n",
      " ARIMA(2,2,2)(0,0,0)[1]             : AIC=1920.383, Time=0.06 sec\n",
      " ARIMA(2,2,3)(0,0,0)[1]             : AIC=1921.387, Time=0.06 sec\n",
      " ARIMA(2,2,4)(0,0,0)[1]             : AIC=1921.619, Time=0.16 sec\n",
      " ARIMA(2,2,5)(0,0,0)[1]             : AIC=1923.119, Time=0.14 sec\n",
      " ARIMA(2,2,6)(0,0,0)[1]             : AIC=1926.951, Time=0.20 sec\n",
      " ARIMA(2,2,7)(0,0,0)[1]             : AIC=1931.694, Time=0.11 sec\n",
      " ARIMA(2,2,8)(0,0,0)[1]             : AIC=1933.962, Time=0.34 sec\n",
      " ARIMA(3,2,0)(0,0,0)[1]             : AIC=1919.069, Time=0.02 sec\n",
      " ARIMA(3,2,1)(0,0,0)[1]             : AIC=1919.896, Time=0.04 sec\n",
      " ARIMA(3,2,2)(0,0,0)[1]             : AIC=1922.173, Time=0.06 sec\n",
      " ARIMA(3,2,3)(0,0,0)[1]             : AIC=1923.262, Time=0.21 sec\n",
      " ARIMA(3,2,4)(0,0,0)[1]             : AIC=1923.065, Time=0.21 sec\n",
      " ARIMA(3,2,5)(0,0,0)[1]             : AIC=1924.828, Time=0.30 sec\n",
      " ARIMA(3,2,6)(0,0,0)[1]             : AIC=1928.743, Time=0.22 sec\n",
      " ARIMA(3,2,7)(0,0,0)[1]             : AIC=1933.340, Time=0.23 sec\n",
      " ARIMA(3,2,8)(0,0,0)[1]             : AIC=1935.089, Time=0.27 sec\n",
      " ARIMA(4,2,0)(0,0,0)[1]             : AIC=1921.119, Time=0.03 sec\n",
      " ARIMA(4,2,1)(0,0,0)[1]             : AIC=1921.779, Time=0.06 sec\n",
      " ARIMA(4,2,2)(0,0,0)[1]             : AIC=1923.377, Time=0.07 sec\n",
      " ARIMA(4,2,3)(0,0,0)[1]             : AIC=1924.197, Time=0.19 sec\n",
      " ARIMA(4,2,4)(0,0,0)[1]             : AIC=1924.024, Time=0.27 sec\n",
      " ARIMA(4,2,5)(0,0,0)[1]             : AIC=inf, Time=0.31 sec\n",
      " ARIMA(4,2,6)(0,0,0)[1]             : AIC=1929.789, Time=0.32 sec\n",
      " ARIMA(4,2,7)(0,0,0)[1]             : AIC=1934.620, Time=0.38 sec\n",
      " ARIMA(4,2,8)(0,0,0)[1]             : AIC=1936.908, Time=0.38 sec\n",
      " ARIMA(5,2,0)(0,0,0)[1]             : AIC=1921.793, Time=0.03 sec\n",
      " ARIMA(5,2,1)(0,0,0)[1]             : AIC=1922.998, Time=0.06 sec\n",
      " ARIMA(5,2,2)(0,0,0)[1]             : AIC=1921.512, Time=0.19 sec\n",
      " ARIMA(5,2,3)(0,0,0)[1]             : AIC=1924.918, Time=0.20 sec\n",
      " ARIMA(5,2,4)(0,0,0)[1]             : AIC=1925.647, Time=0.31 sec\n",
      " ARIMA(5,2,5)(0,0,0)[1]             : AIC=1927.360, Time=0.32 sec\n",
      " ARIMA(5,2,6)(0,0,0)[1]             : AIC=1932.164, Time=0.39 sec\n",
      " ARIMA(5,2,7)(0,0,0)[1]             : AIC=1936.342, Time=0.40 sec\n",
      " ARIMA(5,2,8)(0,0,0)[1]             : AIC=1938.479, Time=0.38 sec\n",
      " ARIMA(6,2,0)(0,0,0)[1]             : AIC=1920.730, Time=0.04 sec\n",
      " ARIMA(6,2,1)(0,0,0)[1]             : AIC=1922.326, Time=0.09 sec\n",
      " ARIMA(6,2,2)(0,0,0)[1]             : AIC=1924.036, Time=0.19 sec\n",
      " ARIMA(6,2,3)(0,0,0)[1]             : AIC=1926.149, Time=0.27 sec\n",
      " ARIMA(6,2,4)(0,0,0)[1]             : AIC=1926.831, Time=0.33 sec\n",
      " ARIMA(6,2,5)(0,0,0)[1]             : AIC=inf, Time=0.36 sec\n",
      " ARIMA(6,2,6)(0,0,0)[1]             : AIC=1932.241, Time=0.35 sec\n",
      " ARIMA(6,2,7)(0,0,0)[1]             : AIC=inf, Time=0.44 sec\n",
      " ARIMA(6,2,8)(0,0,0)[1]             : AIC=1937.308, Time=0.44 sec\n",
      " ARIMA(7,2,0)(0,0,0)[1]             : AIC=1921.994, Time=0.05 sec\n",
      " ARIMA(7,2,1)(0,0,0)[1]             : AIC=1924.127, Time=0.09 sec\n",
      " ARIMA(7,2,2)(0,0,0)[1]             : AIC=1926.006, Time=0.23 sec\n",
      " ARIMA(7,2,3)(0,0,0)[1]             : AIC=1928.149, Time=0.34 sec\n",
      " ARIMA(7,2,4)(0,0,0)[1]             : AIC=1927.269, Time=0.36 sec\n",
      " ARIMA(7,2,5)(0,0,0)[1]             : AIC=1930.326, Time=0.38 sec\n",
      " ARIMA(7,2,6)(0,0,0)[1]             : AIC=1932.727, Time=0.42 sec\n",
      " ARIMA(7,2,7)(0,0,0)[1]             : AIC=inf, Time=0.49 sec\n",
      " ARIMA(7,2,8)(0,0,0)[1]             : AIC=1938.718, Time=0.51 sec\n",
      " ARIMA(8,2,0)(0,0,0)[1]             : AIC=1924.087, Time=0.05 sec\n",
      " ARIMA(8,2,1)(0,0,0)[1]             : AIC=1926.299, Time=0.16 sec\n",
      " ARIMA(8,2,2)(0,0,0)[1]             : AIC=1926.999, Time=0.32 sec\n",
      " ARIMA(8,2,3)(0,0,0)[1]             : AIC=1929.644, Time=0.36 sec\n",
      " ARIMA(8,2,4)(0,0,0)[1]             : AIC=1929.011, Time=0.41 sec\n",
      " ARIMA(8,2,5)(0,0,0)[1]             : AIC=1931.930, Time=0.43 sec\n",
      " ARIMA(8,2,6)(0,0,0)[1]             : AIC=1934.661, Time=0.49 sec\n",
      " ARIMA(8,2,7)(0,0,0)[1]             : AIC=1938.098, Time=0.49 sec\n",
      " ARIMA(8,2,8)(0,0,0)[1]             : AIC=1940.619, Time=0.52 sec\n",
      "\n",
      "Best model:  ARIMA(0,2,1)(0,0,0)[1]          \n",
      "Total fit time: 16.629 seconds\n"
     ]
    },
    {
     "name": "stderr",
     "output_type": "stream",
     "text": [
      "C:\\Users\\farou\\anaconda3\\envs\\myenv\\lib\\site-packages\\statsmodels\\tsa\\base\\tsa_model.py:471: ValueWarning: An unsupported index was provided and will be ignored when e.g. forecasting.\n",
      "  self._init_dates(dates, freq)\n",
      "C:\\Users\\farou\\anaconda3\\envs\\myenv\\lib\\site-packages\\statsmodels\\tsa\\base\\tsa_model.py:471: ValueWarning: An unsupported index was provided and will be ignored when e.g. forecasting.\n",
      "  self._init_dates(dates, freq)\n",
      "C:\\Users\\farou\\anaconda3\\envs\\myenv\\lib\\site-packages\\statsmodels\\tsa\\base\\tsa_model.py:471: ValueWarning: An unsupported index was provided and will be ignored when e.g. forecasting.\n",
      "  self._init_dates(dates, freq)\n",
      "C:\\Users\\farou\\anaconda3\\envs\\myenv\\lib\\site-packages\\statsmodels\\tsa\\base\\tsa_model.py:834: ValueWarning: No supported index is available. Prediction results will be given with an integer index beginning at `start`.\n",
      "  return get_prediction_index(\n",
      "C:\\Users\\farou\\AppData\\Local\\Temp/ipykernel_21076/2213551144.py:411: UserWarning: Matplotlib is currently using module://matplotlib_inline.backend_inline, which is a non-GUI backend, so cannot show the figure.\n",
      "  fig.show()\n"
     ]
    },
    {
     "data": {
      "image/png": "[encoded data removed]",
      "text/plain": [
       "<Figure size 432x288 with 2 Axes>"
      ]
     },
     "metadata": {},
     "output_type": "display_data"
    }
   ],
   "source": [
    "energy_consumption.arima_forecast(\"China\", 5)"
   ]
  },
  {
   "cell_type": "code",
   "execution_count": null,
   "id": "6310d2ec",
   "metadata": {},
   "outputs": [],
   "source": []
  }
 ],
 "metadata": {
  "kernelspec": {
   "display_name": "Python 3 (ipykernel)",
   "language": "python",
   "name": "python3"
  },
  "language_info": {
   "codemirror_mode": {
    "name": "ipython",
    "version": 3
   },
   "file_extension": ".py",
   "mimetype": "text/x-python",
   "name": "python",
   "nbconvert_exporter": "python",
   "pygments_lexer": "ipython3",
   "version": "3.8.12"
  }
 },
 "nbformat": 4,
 "nbformat_minor": 5
}
