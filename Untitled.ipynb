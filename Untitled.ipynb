{
 "cells": [
  {
   "cell_type": "markdown",
   "id": "dd64a9dc-f0d0-486d-a2a8-c42723a6698d",
   "metadata": {},
   "source": [
    "1. Current date and time\n",
    "1. Current year\n",
    "1. Month of year\n",
    "1. Month of the year, short version\n",
    "1. Weekday of the week\n",
    "1. Day of year\n",
    "1. Day of the month\n",
    "1. Day of week, numerical\n",
    "1. Day of the week, name\n",
    "1. Day of the week, short name\n",
    "1. Week number of the year\n",
    "1. Yesterday and tomorrow\n",
    "1. One month from now\n",
    "1. 51 days ago\n",
    "1. Difference in seconds between two dates\n",
    "1. Difference in days, hours, minutes, seconds between two dates"
   ]
  },
  {
   "cell_type": "code",
   "execution_count": 4,
   "id": "9359ebcd-7023-46a8-a877-8cf7263065d5",
   "metadata": {},
   "outputs": [],
   "source": [
    "import datetime"
   ]
  },
  {
   "cell_type": "code",
   "execution_count": 5,
   "id": "4e2009d4-9824-4fc1-8ce5-f948f1bb6902",
   "metadata": {},
   "outputs": [
    {
     "data": {
      "text/plain": [
       "datetime.datetime(2022, 3, 8, 17, 23, 29, 307627)"
      ]
     },
     "execution_count": 5,
     "metadata": {},
     "output_type": "execute_result"
    }
   ],
   "source": [
    "#1\n",
    "datetime.datetime.now()"
   ]
  },
  {
   "cell_type": "code",
   "execution_count": 8,
   "id": "68af5585-a1cf-4d82-901a-06f0a81921a5",
   "metadata": {},
   "outputs": [
    {
     "data": {
      "text/plain": [
       "'The year is 2022.'"
      ]
     },
     "execution_count": 8,
     "metadata": {},
     "output_type": "execute_result"
    }
   ],
   "source": [
    "#2\n",
    "datetime.datetime.now().strftime(format=\"The year is 20%y.\")"
   ]
  },
  {
   "cell_type": "code",
   "execution_count": 11,
   "id": "944759f2-ef02-4387-9ebc-753cd6a407bd",
   "metadata": {},
   "outputs": [
    {
     "data": {
      "text/plain": [
       "'Current month is March.'"
      ]
     },
     "execution_count": 11,
     "metadata": {},
     "output_type": "execute_result"
    }
   ],
   "source": [
    "#3\n",
    "datetime.datetime.now().strftime(format=\"Current month is %B.\")"
   ]
  },
  {
   "cell_type": "code",
   "execution_count": 12,
   "id": "07e2eb46-1c6c-44e9-94a9-81a8ad8096f9",
   "metadata": {},
   "outputs": [
    {
     "data": {
      "text/plain": [
       "'Current month is 03.'"
      ]
     },
     "execution_count": 12,
     "metadata": {},
     "output_type": "execute_result"
    }
   ],
   "source": [
    "#4\n",
    "datetime.datetime.now().strftime(format=\"Current month is %m.\")"
   ]
  },
  {
   "cell_type": "code",
   "execution_count": 13,
   "id": "080926df-6c3c-4780-955c-33e820c1b8eb",
   "metadata": {},
   "outputs": [
    {
     "data": {
      "text/plain": [
       "'Today is Tuesday.'"
      ]
     },
     "execution_count": 13,
     "metadata": {},
     "output_type": "execute_result"
    }
   ],
   "source": [
    "#5 Day of week\n",
    "datetime.datetime.now().strftime(format=\"Today is %A.\")"
   ]
  },
  {
   "cell_type": "code",
   "execution_count": 19,
   "id": "c8b14669-b7e1-44a9-a910-db5b0ba9aee3",
   "metadata": {},
   "outputs": [
    {
     "data": {
      "text/plain": [
       "datetime.timedelta(days=66, seconds=63099, microseconds=514636)"
      ]
     },
     "execution_count": 19,
     "metadata": {},
     "output_type": "execute_result"
    }
   ],
   "source": [
    "#6 Day of year\n",
    "datetime.datetime.now() - datetime.datetime(2022, 1, 1)"
   ]
  },
  {
   "cell_type": "code",
   "execution_count": 20,
   "id": "61ce7410-a9fe-47fb-ac21-a0f715d33bab",
   "metadata": {},
   "outputs": [
    {
     "data": {
      "text/plain": [
       "datetime.timedelta(days=7, seconds=63180, microseconds=890144)"
      ]
     },
     "execution_count": 20,
     "metadata": {},
     "output_type": "execute_result"
    }
   ],
   "source": [
    "#7 Day of the month\n",
    "datetime.datetime.now() - datetime.datetime(2022, 3, 1)"
   ]
  },
  {
   "cell_type": "code",
   "execution_count": 35,
   "id": "671472cd-14f7-4127-bf8d-30a146bf4a91",
   "metadata": {},
   "outputs": [
    {
     "ename": "SyntaxError",
     "evalue": "invalid syntax (<ipython-input-35-460632b1f0f8>, line 2)",
     "output_type": "error",
     "traceback": [
      "\u001b[0;36m  File \u001b[0;32m\"<ipython-input-35-460632b1f0f8>\"\u001b[0;36m, line \u001b[0;32m2\u001b[0m\n\u001b[0;31m    (int)DateTime.Now.DayOfWeek;\u001b[0m\n\u001b[0m         ^\u001b[0m\n\u001b[0;31mSyntaxError\u001b[0m\u001b[0;31m:\u001b[0m invalid syntax\n"
     ]
    }
   ],
   "source": [
    "#8 Day of week, numerical\n",
    "(int)DateTime.Now.DayOfWeek;\n"
   ]
  },
  {
   "cell_type": "code",
   "execution_count": 32,
   "id": "56431ed1-070a-4ff1-a637-d2543620d660",
   "metadata": {},
   "outputs": [
    {
     "data": {
      "text/plain": [
       "'Today is Tuesday.'"
      ]
     },
     "execution_count": 32,
     "metadata": {},
     "output_type": "execute_result"
    }
   ],
   "source": [
    "#9\n",
    "datetime.datetime.now().strftime(format=\"Today is %A.\")"
   ]
  },
  {
   "cell_type": "code",
   "execution_count": null,
   "id": "18081b5e-ef81-4198-8420-26e03b2ed4a5",
   "metadata": {},
   "outputs": [],
   "source": []
  }
 ],
 "metadata": {
  "kernelspec": {
   "display_name": "Python 3",
   "language": "python",
   "name": "python3"
  },
  "language_info": {
   "codemirror_mode": {
    "name": "ipython",
    "version": 3
   },
   "file_extension": ".py",
   "mimetype": "text/x-python",
   "name": "python",
   "nbconvert_exporter": "python",
   "pygments_lexer": "ipython3",
   "version": "3.8.8"
  }
 },
 "nbformat": 4,
 "nbformat_minor": 5
}
