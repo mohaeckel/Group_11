{
 "cells": [
  {
   "cell_type": "code",
   "execution_count": null,
   "id": "5bf5152f-f7e7-4df0-b1b9-f87bbf0806ba",
   "metadata": {},
   "outputs": [],
   "source": [
    "class bestgroup():\n",
    "    def welcome():\n",
    "        print(\"yeaaaaaaaa\")\n",
    "\n"
   ]
  }
 ],
 "metadata": {
  "kernelspec": {
   "display_name": "Python 3 (ipykernel)",
   "language": "python",
   "name": "python3"
  },
  "language_info": {
   "codemirror_mode": {
    "name": "ipython",
    "version": 3
   },
   "file_extension": ".py",
   "mimetype": "text/x-python",
   "name": "python",
   "nbconvert_exporter": "python",
   "pygments_lexer": "ipython3",
   "version": "3.9.7"
  }
 },
 "nbformat": 4,
 "nbformat_minor": 5
}
